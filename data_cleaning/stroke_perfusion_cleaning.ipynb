{
 "cells": [
  {
   "cell_type": "code",
   "execution_count": 2,
   "id": "e6de5b2f",
   "metadata": {},
   "outputs": [],
   "source": [
    "import pandas as pd\n",
    "from pandas.api.types import is_string_dtype\n",
    "import numpy as np\n",
    "import re\n",
    "import plotly.express as px\n",
    "import seaborn as sns\n",
    "import matplotlib.pyplot as plt\n",
    "pd.set_option('display.max_rows', 5000)\n",
    "pd.set_option('display.max_columns', 5000)\n",
    "pd.options.display.max_colwidth = 1000\n",
    "%matplotlib inline"
   ]
  },
  {
   "cell_type": "code",
   "execution_count": 3,
   "id": "3aefd855",
   "metadata": {
    "scrolled": false
   },
   "outputs": [],
   "source": [
    "# Functions\n",
    "def get_unique_value_col(table, string=False):\n",
    "    '''\n",
    "    table: pandas dataframe\n",
    "    string: computes unique value only for columns containing string\n",
    "    ''' \n",
    "    unique_value = []\n",
    "    unique_value_str = set()\n",
    "    for col in table.columns:\n",
    "        unique_value.append(list(pd.unique(table[col])))\n",
    "        if string and col != 'patient id':\n",
    "            unique_value_str.update(set(pd.unique(table[col])))\n",
    "    \n",
    "    if string: \n",
    "        #even when the column dtype is str, some values are not string\n",
    "        unique_value_str_clean = unique_value_str.copy()\n",
    "        for el in unique_value_str:\n",
    "            if not(isinstance(el, str)):\n",
    "                unique_value_str_clean.remove(el)\n",
    "        return(unique_value_str_clean)\n",
    "    \n",
    "    return pd.DataFrame({\"unique_value\": unique_value}, index=table.columns)     \n",
    "\n",
    "\n",
    "def check_merging(table1, table2, merged, columns_merged):  \n",
    "    for col in columns_merged:\n",
    "        NA_table1 = table1[col].isna().sum()\n",
    "        NA_table2 = table2[col].isna().sum()\n",
    "        NA_merged = merged[col].isna().sum()\n",
    "        if not(np.equal((NA_table1 + NA_table2),NA_merged)):\n",
    "            return print(f\"error in {col}\")\n",
    "    if not((table1.shape[0]+table2.shape[0]) == merged.shape[0]):\n",
    "        return print(f'error in na counts')\n",
    "    return print('ok')\n",
    "\n",
    "def get_plot_na(table, axis):\n",
    "    na_count = table.isna().sum(axis=axis).sort_values(ascending=False)\n",
    "    if axis==0:\n",
    "        labels={'index': 'features', 'value':'missing value count'}\n",
    "        fig = px.bar(na_count, height=600, width=2000, labels=labels)\n",
    "\n",
    "    else:\n",
    "        labels={'index': 'number of missing value', 'value':'number of patients'}\n",
    "        fig = px.bar(na_count.value_counts().sort_index(), height=600, width=2000, labels=labels)\n",
    "\n",
    "    fig.update_layout(font_size=8, bargap=0.3)\n",
    "    return fig\n",
    "\n",
    "YES_REPLACEMENT = 'yes'\n",
    "NO_REPLACEMENT = 'no'"
   ]
  },
  {
   "cell_type": "markdown",
   "id": "0aa0e812",
   "metadata": {},
   "source": [
    "# Loading"
   ]
  },
  {
   "cell_type": "code",
   "execution_count": 4,
   "id": "4d9c19ef",
   "metadata": {},
   "outputs": [],
   "source": [
    "filepath_stroke = \"../data_cleaning/clean_data/stroke_clean_v1.csv\"\n",
    "filepath_perfusion = '../data_cleaning/clean_data/perfusion_clean_v1.csv'\n",
    "filepath_desc = '../data_cleaning/clean_data/description.csv'\n",
    "df_perfusion = pd.read_csv(filepath_perfusion, header=0)\n",
    "df_stroke = pd.read_csv(filepath_stroke)\n",
    "df_desc = pd.read_csv(filepath_desc)"
   ]
  },
  {
   "cell_type": "code",
   "execution_count": 5,
   "id": "599bb2e9",
   "metadata": {},
   "outputs": [
    {
     "data": {
      "text/html": [
       "<div>\n",
       "<style scoped>\n",
       "    .dataframe tbody tr th:only-of-type {\n",
       "        vertical-align: middle;\n",
       "    }\n",
       "\n",
       "    .dataframe tbody tr th {\n",
       "        vertical-align: top;\n",
       "    }\n",
       "\n",
       "    .dataframe thead th {\n",
       "        text-align: right;\n",
       "    }\n",
       "</style>\n",
       "<table border=\"1\" class=\"dataframe\">\n",
       "  <thead>\n",
       "    <tr style=\"text-align: right;\">\n",
       "      <th></th>\n",
       "      <th>patient id</th>\n",
       "      <th>completed visit status</th>\n",
       "      <th>htn patient medical history</th>\n",
       "      <th>group</th>\n",
       "      <th>age</th>\n",
       "      <th>height/m</th>\n",
       "      <th>mass/kg</th>\n",
       "      <th>bmi</th>\n",
       "      <th>gender</th>\n",
       "      <th>previous tobacco use</th>\n",
       "      <th>current tobacco use</th>\n",
       "      <th>pack years</th>\n",
       "      <th>years</th>\n",
       "      <th>previous alcohol use</th>\n",
       "      <th>alcohol dose/week</th>\n",
       "      <th>neuropathy autonomic symptoms</th>\n",
       "      <th>dizziness autonomic symptoms</th>\n",
       "      <th>numbness autonomic symptoms</th>\n",
       "      <th>painful feet autonomic symptoms</th>\n",
       "      <th>syncope autonomic symptoms</th>\n",
       "      <th>oh autonomic symptoms</th>\n",
       "      <th>cancer# family history</th>\n",
       "      <th>heartdisease family history</th>\n",
       "      <th>htn family history</th>\n",
       "      <th>dm family history</th>\n",
       "      <th>strokefamily history</th>\n",
       "      <th>cancer patient medical history</th>\n",
       "      <th>atrial fibtrillation patient medical history</th>\n",
       "      <th>heart failure =chf /ifarction=mi patient medical history</th>\n",
       "      <th>hyperlipidemia patient medical history</th>\n",
       "      <th>dm patient medical history</th>\n",
       "      <th>antiplatelets</th>\n",
       "      <th>anticoagulants</th>\n",
       "      <th>antihyperlipidemic</th>\n",
       "      <th>antiparkinsonian</th>\n",
       "      <th>statins</th>\n",
       "      <th>estrogen</th>\n",
       "      <th>ace inhibitors</th>\n",
       "      <th>arbs</th>\n",
       "      <th>beta blockers</th>\n",
       "      <th>diuretics</th>\n",
       "      <th>ca ++ blockers</th>\n",
       "      <th>insulin(yes or no)</th>\n",
       "      <th>oral hypoglycemic</th>\n",
       "    </tr>\n",
       "  </thead>\n",
       "  <tbody>\n",
       "    <tr>\n",
       "      <th>0</th>\n",
       "      <td>s0011</td>\n",
       "      <td>ineligible</td>\n",
       "      <td>yes</td>\n",
       "      <td>control</td>\n",
       "      <td>70</td>\n",
       "      <td>1.6383</td>\n",
       "      <td>71.667594</td>\n",
       "      <td>26.701519</td>\n",
       "      <td>f</td>\n",
       "      <td>yes</td>\n",
       "      <td>no</td>\n",
       "      <td>20.0</td>\n",
       "      <td>40.0</td>\n",
       "      <td>yes</td>\n",
       "      <td>0.0</td>\n",
       "      <td>no</td>\n",
       "      <td>no</td>\n",
       "      <td>no</td>\n",
       "      <td>no</td>\n",
       "      <td>no</td>\n",
       "      <td>no</td>\n",
       "      <td>0.0</td>\n",
       "      <td>1.0</td>\n",
       "      <td>0.0</td>\n",
       "      <td>0.0</td>\n",
       "      <td>0.0</td>\n",
       "      <td>no</td>\n",
       "      <td>no</td>\n",
       "      <td>no</td>\n",
       "      <td>no</td>\n",
       "      <td>no</td>\n",
       "      <td>no</td>\n",
       "      <td>no</td>\n",
       "      <td>no</td>\n",
       "      <td>no</td>\n",
       "      <td>no</td>\n",
       "      <td>no</td>\n",
       "      <td>no</td>\n",
       "      <td>yes</td>\n",
       "      <td>no</td>\n",
       "      <td>no</td>\n",
       "      <td>no</td>\n",
       "      <td>no</td>\n",
       "      <td>no</td>\n",
       "    </tr>\n",
       "    <tr>\n",
       "      <th>1</th>\n",
       "      <td>s0033</td>\n",
       "      <td>excluded</td>\n",
       "      <td>no</td>\n",
       "      <td>control</td>\n",
       "      <td>65</td>\n",
       "      <td>1.8200</td>\n",
       "      <td>92.986000</td>\n",
       "      <td>28.072093</td>\n",
       "      <td>m</td>\n",
       "      <td>yes</td>\n",
       "      <td>no</td>\n",
       "      <td>10.0</td>\n",
       "      <td>10.0</td>\n",
       "      <td>yes</td>\n",
       "      <td>1.0</td>\n",
       "      <td>no</td>\n",
       "      <td>no</td>\n",
       "      <td>no</td>\n",
       "      <td>no</td>\n",
       "      <td>no</td>\n",
       "      <td>no</td>\n",
       "      <td>0.0</td>\n",
       "      <td>2.0</td>\n",
       "      <td>1.0</td>\n",
       "      <td>1.0</td>\n",
       "      <td>1.0</td>\n",
       "      <td>no</td>\n",
       "      <td>no</td>\n",
       "      <td>no</td>\n",
       "      <td>no</td>\n",
       "      <td>no</td>\n",
       "      <td>no</td>\n",
       "      <td>no</td>\n",
       "      <td>no</td>\n",
       "      <td>no</td>\n",
       "      <td>no</td>\n",
       "      <td>no</td>\n",
       "      <td>yes</td>\n",
       "      <td>no</td>\n",
       "      <td>no</td>\n",
       "      <td>no</td>\n",
       "      <td>no</td>\n",
       "      <td>no</td>\n",
       "      <td>no</td>\n",
       "    </tr>\n",
       "    <tr>\n",
       "      <th>2</th>\n",
       "      <td>s0044</td>\n",
       "      <td>completed</td>\n",
       "      <td>no</td>\n",
       "      <td>control</td>\n",
       "      <td>74</td>\n",
       "      <td>1.7018</td>\n",
       "      <td>68.038855</td>\n",
       "      <td>23.493080</td>\n",
       "      <td>f</td>\n",
       "      <td>yes</td>\n",
       "      <td>NaN</td>\n",
       "      <td>40.0</td>\n",
       "      <td>40.0</td>\n",
       "      <td>yes</td>\n",
       "      <td>2.0</td>\n",
       "      <td>no</td>\n",
       "      <td>yes</td>\n",
       "      <td>yes</td>\n",
       "      <td>no</td>\n",
       "      <td>no</td>\n",
       "      <td>yes</td>\n",
       "      <td>3.0</td>\n",
       "      <td>0.0</td>\n",
       "      <td>0.0</td>\n",
       "      <td>0.0</td>\n",
       "      <td>0.0</td>\n",
       "      <td>no</td>\n",
       "      <td>no</td>\n",
       "      <td>no</td>\n",
       "      <td>no</td>\n",
       "      <td>no</td>\n",
       "      <td>no</td>\n",
       "      <td>no</td>\n",
       "      <td>no</td>\n",
       "      <td>no</td>\n",
       "      <td>no</td>\n",
       "      <td>no</td>\n",
       "      <td>no</td>\n",
       "      <td>no</td>\n",
       "      <td>no</td>\n",
       "      <td>no</td>\n",
       "      <td>no</td>\n",
       "      <td>no</td>\n",
       "      <td>no</td>\n",
       "    </tr>\n",
       "    <tr>\n",
       "      <th>3</th>\n",
       "      <td>s0067</td>\n",
       "      <td>completed</td>\n",
       "      <td>no</td>\n",
       "      <td>control</td>\n",
       "      <td>70</td>\n",
       "      <td>1.6764</td>\n",
       "      <td>68.492448</td>\n",
       "      <td>24.371788</td>\n",
       "      <td>m</td>\n",
       "      <td>no</td>\n",
       "      <td>no</td>\n",
       "      <td>0.0</td>\n",
       "      <td>0.0</td>\n",
       "      <td>yes</td>\n",
       "      <td>7.0</td>\n",
       "      <td>no</td>\n",
       "      <td>no</td>\n",
       "      <td>no</td>\n",
       "      <td>no</td>\n",
       "      <td>no</td>\n",
       "      <td>no</td>\n",
       "      <td>1.0</td>\n",
       "      <td>0.0</td>\n",
       "      <td>0.0</td>\n",
       "      <td>0.0</td>\n",
       "      <td>1.0</td>\n",
       "      <td>no</td>\n",
       "      <td>no</td>\n",
       "      <td>no</td>\n",
       "      <td>no</td>\n",
       "      <td>no</td>\n",
       "      <td>no</td>\n",
       "      <td>no</td>\n",
       "      <td>no</td>\n",
       "      <td>no</td>\n",
       "      <td>no</td>\n",
       "      <td>no</td>\n",
       "      <td>no</td>\n",
       "      <td>no</td>\n",
       "      <td>no</td>\n",
       "      <td>no</td>\n",
       "      <td>no</td>\n",
       "      <td>no</td>\n",
       "      <td>no</td>\n",
       "    </tr>\n",
       "    <tr>\n",
       "      <th>4</th>\n",
       "      <td>s0068</td>\n",
       "      <td>completed</td>\n",
       "      <td>no</td>\n",
       "      <td>control</td>\n",
       "      <td>79</td>\n",
       "      <td>1.5748</td>\n",
       "      <td>64.863709</td>\n",
       "      <td>26.154774</td>\n",
       "      <td>f</td>\n",
       "      <td>no</td>\n",
       "      <td>no</td>\n",
       "      <td>0.0</td>\n",
       "      <td>0.0</td>\n",
       "      <td>no</td>\n",
       "      <td>0.0</td>\n",
       "      <td>no</td>\n",
       "      <td>no</td>\n",
       "      <td>no</td>\n",
       "      <td>no</td>\n",
       "      <td>no</td>\n",
       "      <td>no</td>\n",
       "      <td>3.0</td>\n",
       "      <td>0.0</td>\n",
       "      <td>0.0</td>\n",
       "      <td>0.0</td>\n",
       "      <td>0.0</td>\n",
       "      <td>no</td>\n",
       "      <td>no</td>\n",
       "      <td>no</td>\n",
       "      <td>no</td>\n",
       "      <td>no</td>\n",
       "      <td>no</td>\n",
       "      <td>no</td>\n",
       "      <td>no</td>\n",
       "      <td>no</td>\n",
       "      <td>no</td>\n",
       "      <td>no</td>\n",
       "      <td>no</td>\n",
       "      <td>no</td>\n",
       "      <td>no</td>\n",
       "      <td>no</td>\n",
       "      <td>no</td>\n",
       "      <td>no</td>\n",
       "      <td>no</td>\n",
       "    </tr>\n",
       "  </tbody>\n",
       "</table>\n",
       "</div>"
      ],
      "text/plain": [
       "  patient id completed visit status htn patient medical history    group  age  \\\n",
       "0      s0011             ineligible                         yes  control   70   \n",
       "1      s0033               excluded                          no  control   65   \n",
       "2      s0044              completed                          no  control   74   \n",
       "3      s0067              completed                          no  control   70   \n",
       "4      s0068              completed                          no  control   79   \n",
       "\n",
       "   height/m    mass/kg        bmi gender previous tobacco use  \\\n",
       "0    1.6383  71.667594  26.701519      f                  yes   \n",
       "1    1.8200  92.986000  28.072093      m                  yes   \n",
       "2    1.7018  68.038855  23.493080      f                  yes   \n",
       "3    1.6764  68.492448  24.371788      m                   no   \n",
       "4    1.5748  64.863709  26.154774      f                   no   \n",
       "\n",
       "  current tobacco use  pack years  years previous alcohol use  \\\n",
       "0                  no        20.0   40.0                  yes   \n",
       "1                  no        10.0   10.0                  yes   \n",
       "2                 NaN        40.0   40.0                  yes   \n",
       "3                  no         0.0    0.0                  yes   \n",
       "4                  no         0.0    0.0                   no   \n",
       "\n",
       "   alcohol dose/week neuropathy autonomic symptoms  \\\n",
       "0                0.0                            no   \n",
       "1                1.0                            no   \n",
       "2                2.0                            no   \n",
       "3                7.0                            no   \n",
       "4                0.0                            no   \n",
       "\n",
       "  dizziness autonomic symptoms numbness autonomic symptoms  \\\n",
       "0                           no                          no   \n",
       "1                           no                          no   \n",
       "2                          yes                         yes   \n",
       "3                           no                          no   \n",
       "4                           no                          no   \n",
       "\n",
       "  painful feet autonomic symptoms syncope autonomic symptoms  \\\n",
       "0                              no                         no   \n",
       "1                              no                         no   \n",
       "2                              no                         no   \n",
       "3                              no                         no   \n",
       "4                              no                         no   \n",
       "\n",
       "  oh autonomic symptoms  cancer# family history  heartdisease family history  \\\n",
       "0                    no                     0.0                          1.0   \n",
       "1                    no                     0.0                          2.0   \n",
       "2                   yes                     3.0                          0.0   \n",
       "3                    no                     1.0                          0.0   \n",
       "4                    no                     3.0                          0.0   \n",
       "\n",
       "   htn family history  dm family history  strokefamily history  \\\n",
       "0                 0.0                0.0                   0.0   \n",
       "1                 1.0                1.0                   1.0   \n",
       "2                 0.0                0.0                   0.0   \n",
       "3                 0.0                0.0                   1.0   \n",
       "4                 0.0                0.0                   0.0   \n",
       "\n",
       "  cancer patient medical history atrial fibtrillation patient medical history  \\\n",
       "0                             no                                           no   \n",
       "1                             no                                           no   \n",
       "2                             no                                           no   \n",
       "3                             no                                           no   \n",
       "4                             no                                           no   \n",
       "\n",
       "  heart failure =chf /ifarction=mi patient medical history  \\\n",
       "0                                                       no   \n",
       "1                                                       no   \n",
       "2                                                       no   \n",
       "3                                                       no   \n",
       "4                                                       no   \n",
       "\n",
       "  hyperlipidemia patient medical history dm patient medical history  \\\n",
       "0                                     no                         no   \n",
       "1                                     no                         no   \n",
       "2                                     no                         no   \n",
       "3                                     no                         no   \n",
       "4                                     no                         no   \n",
       "\n",
       "  antiplatelets anticoagulants antihyperlipidemic antiparkinsonian statins  \\\n",
       "0            no             no                 no               no      no   \n",
       "1            no             no                 no               no      no   \n",
       "2            no             no                 no               no      no   \n",
       "3            no             no                 no               no      no   \n",
       "4            no             no                 no               no      no   \n",
       "\n",
       "  estrogen ace inhibitors arbs beta blockers diuretics ca ++ blockers  \\\n",
       "0       no             no  yes            no        no             no   \n",
       "1       no            yes   no            no        no             no   \n",
       "2       no             no   no            no        no             no   \n",
       "3       no             no   no            no        no             no   \n",
       "4       no             no   no            no        no             no   \n",
       "\n",
       "  insulin(yes or no) oral hypoglycemic  \n",
       "0                 no                no  \n",
       "1                 no                no  \n",
       "2                 no                no  \n",
       "3                 no                no  \n",
       "4                 no                no  "
      ]
     },
     "execution_count": 5,
     "metadata": {},
     "output_type": "execute_result"
    }
   ],
   "source": [
    "df_stroke.head()"
   ]
  },
  {
   "cell_type": "code",
   "execution_count": 6,
   "id": "0680d5dd",
   "metadata": {
    "scrolled": true
   },
   "outputs": [
    {
     "data": {
      "text/html": [
       "<div>\n",
       "<style scoped>\n",
       "    .dataframe tbody tr th:only-of-type {\n",
       "        vertical-align: middle;\n",
       "    }\n",
       "\n",
       "    .dataframe tbody tr th {\n",
       "        vertical-align: top;\n",
       "    }\n",
       "\n",
       "    .dataframe thead th {\n",
       "        text-align: right;\n",
       "    }\n",
       "</style>\n",
       "<table border=\"1\" class=\"dataframe\">\n",
       "  <thead>\n",
       "    <tr style=\"text-align: right;\">\n",
       "      <th></th>\n",
       "      <th>patient id</th>\n",
       "      <th>study</th>\n",
       "      <th>diabetes duration</th>\n",
       "      <th>age</th>\n",
       "      <th>sex</th>\n",
       "      <th>height (m)</th>\n",
       "      <th>mass (kg)</th>\n",
       "      <th>bmi</th>\n",
       "      <th>diabetes</th>\n",
       "      <th>previous tobacco use</th>\n",
       "      <th>current tobacco use</th>\n",
       "      <th>packyears</th>\n",
       "      <th>years</th>\n",
       "      <th>previous alcohol use</th>\n",
       "      <th>alcohol dose/week</th>\n",
       "      <th>neuropathy autonomic symptoms</th>\n",
       "      <th>dizziness autonomic symptoms</th>\n",
       "      <th>numbness autonomic symptoms</th>\n",
       "      <th>painful feet autonomic symptoms</th>\n",
       "      <th>syncope autonomic symptoms</th>\n",
       "      <th>oh autonomic symptoms</th>\n",
       "      <th>cancer# family history</th>\n",
       "      <th>heartdisease family history</th>\n",
       "      <th>htn family history</th>\n",
       "      <th>dm family history</th>\n",
       "      <th>strokefamily history</th>\n",
       "      <th>cancer patient medical history</th>\n",
       "      <th>stroke patient medical history</th>\n",
       "      <th>atrial fibtrillation patient medical history</th>\n",
       "      <th>heart failure =chf /ifarction=mi patient medical history</th>\n",
       "      <th>hyperlipidemia patient medical history</th>\n",
       "      <th>antiplatelets</th>\n",
       "      <th>anticoagulants</th>\n",
       "      <th>antihyperlipidemic</th>\n",
       "      <th>antiparkinsonian</th>\n",
       "      <th>statins</th>\n",
       "      <th>estrogen</th>\n",
       "      <th>ace inhibitors</th>\n",
       "      <th>arbs</th>\n",
       "      <th>beta blockers</th>\n",
       "      <th>diuretics</th>\n",
       "      <th>ca ++ blockers</th>\n",
       "      <th>insulin(yes or no)</th>\n",
       "      <th>oral hypoglycemic</th>\n",
       "    </tr>\n",
       "  </thead>\n",
       "  <tbody>\n",
       "    <tr>\n",
       "      <th>0</th>\n",
       "      <td>s0250</td>\n",
       "      <td>ge75</td>\n",
       "      <td>7.0</td>\n",
       "      <td>50</td>\n",
       "      <td>male</td>\n",
       "      <td>1.790</td>\n",
       "      <td>114.65</td>\n",
       "      <td>35.782279</td>\n",
       "      <td>dm</td>\n",
       "      <td>yes</td>\n",
       "      <td>no</td>\n",
       "      <td>2.86</td>\n",
       "      <td>10.0</td>\n",
       "      <td>yes</td>\n",
       "      <td>7.0</td>\n",
       "      <td>no</td>\n",
       "      <td>no</td>\n",
       "      <td>no</td>\n",
       "      <td>no</td>\n",
       "      <td>no</td>\n",
       "      <td>no</td>\n",
       "      <td>1.0</td>\n",
       "      <td>1.0</td>\n",
       "      <td>1.0</td>\n",
       "      <td>1.0</td>\n",
       "      <td>0.0</td>\n",
       "      <td>no</td>\n",
       "      <td>no</td>\n",
       "      <td>no</td>\n",
       "      <td>no</td>\n",
       "      <td>no</td>\n",
       "      <td>no</td>\n",
       "      <td>no</td>\n",
       "      <td>no</td>\n",
       "      <td>no</td>\n",
       "      <td>no</td>\n",
       "      <td>no</td>\n",
       "      <td>no</td>\n",
       "      <td>no</td>\n",
       "      <td>no</td>\n",
       "      <td>no</td>\n",
       "      <td>no</td>\n",
       "      <td>no</td>\n",
       "      <td>yes</td>\n",
       "    </tr>\n",
       "    <tr>\n",
       "      <th>1</th>\n",
       "      <td>s0254</td>\n",
       "      <td>ge75</td>\n",
       "      <td>0.0</td>\n",
       "      <td>69</td>\n",
       "      <td>female</td>\n",
       "      <td>1.531</td>\n",
       "      <td>56.90</td>\n",
       "      <td>24.275148</td>\n",
       "      <td>nondm</td>\n",
       "      <td>yes</td>\n",
       "      <td>no</td>\n",
       "      <td>0.14</td>\n",
       "      <td>1.0</td>\n",
       "      <td>yes</td>\n",
       "      <td>0.5</td>\n",
       "      <td>no</td>\n",
       "      <td>no</td>\n",
       "      <td>no</td>\n",
       "      <td>no</td>\n",
       "      <td>yes</td>\n",
       "      <td>no</td>\n",
       "      <td>1.0</td>\n",
       "      <td>1.0</td>\n",
       "      <td>1.0</td>\n",
       "      <td>0.0</td>\n",
       "      <td>1.0</td>\n",
       "      <td>no</td>\n",
       "      <td>no</td>\n",
       "      <td>no</td>\n",
       "      <td>no</td>\n",
       "      <td>no</td>\n",
       "      <td>no</td>\n",
       "      <td>no</td>\n",
       "      <td>no</td>\n",
       "      <td>no</td>\n",
       "      <td>no</td>\n",
       "      <td>no</td>\n",
       "      <td>no</td>\n",
       "      <td>no</td>\n",
       "      <td>no</td>\n",
       "      <td>no</td>\n",
       "      <td>no</td>\n",
       "      <td>no</td>\n",
       "      <td>no</td>\n",
       "    </tr>\n",
       "    <tr>\n",
       "      <th>2</th>\n",
       "      <td>s0255</td>\n",
       "      <td>ge75</td>\n",
       "      <td>3.0</td>\n",
       "      <td>78</td>\n",
       "      <td>female</td>\n",
       "      <td>1.520</td>\n",
       "      <td>65.77</td>\n",
       "      <td>28.466932</td>\n",
       "      <td>dm</td>\n",
       "      <td>no</td>\n",
       "      <td>no</td>\n",
       "      <td>0.00</td>\n",
       "      <td>0.0</td>\n",
       "      <td>yes</td>\n",
       "      <td>9.0</td>\n",
       "      <td>no</td>\n",
       "      <td>no</td>\n",
       "      <td>no</td>\n",
       "      <td>no</td>\n",
       "      <td>no</td>\n",
       "      <td>no</td>\n",
       "      <td>0.0</td>\n",
       "      <td>3.0</td>\n",
       "      <td>0.0</td>\n",
       "      <td>3.0</td>\n",
       "      <td>0.0</td>\n",
       "      <td>no</td>\n",
       "      <td>no</td>\n",
       "      <td>no</td>\n",
       "      <td>no</td>\n",
       "      <td>yes</td>\n",
       "      <td>no</td>\n",
       "      <td>no</td>\n",
       "      <td>no</td>\n",
       "      <td>no</td>\n",
       "      <td>yes</td>\n",
       "      <td>no</td>\n",
       "      <td>no</td>\n",
       "      <td>no</td>\n",
       "      <td>yes</td>\n",
       "      <td>no</td>\n",
       "      <td>no</td>\n",
       "      <td>no</td>\n",
       "      <td>no</td>\n",
       "    </tr>\n",
       "    <tr>\n",
       "      <th>3</th>\n",
       "      <td>s0256</td>\n",
       "      <td>ge75</td>\n",
       "      <td>23.0</td>\n",
       "      <td>65</td>\n",
       "      <td>female</td>\n",
       "      <td>1.575</td>\n",
       "      <td>73.50</td>\n",
       "      <td>29.629630</td>\n",
       "      <td>dm</td>\n",
       "      <td>yes</td>\n",
       "      <td>no</td>\n",
       "      <td>5.71</td>\n",
       "      <td>20.0</td>\n",
       "      <td>yes</td>\n",
       "      <td>3.0</td>\n",
       "      <td>no</td>\n",
       "      <td>no</td>\n",
       "      <td>no</td>\n",
       "      <td>no</td>\n",
       "      <td>NaN</td>\n",
       "      <td>no</td>\n",
       "      <td>2.0</td>\n",
       "      <td>1.0</td>\n",
       "      <td>0.0</td>\n",
       "      <td>3.0</td>\n",
       "      <td>1.0</td>\n",
       "      <td>yes</td>\n",
       "      <td>no</td>\n",
       "      <td>no</td>\n",
       "      <td>no</td>\n",
       "      <td>yes</td>\n",
       "      <td>yes</td>\n",
       "      <td>no</td>\n",
       "      <td>no</td>\n",
       "      <td>no</td>\n",
       "      <td>yes</td>\n",
       "      <td>no</td>\n",
       "      <td>no</td>\n",
       "      <td>no</td>\n",
       "      <td>no</td>\n",
       "      <td>no</td>\n",
       "      <td>no</td>\n",
       "      <td>no</td>\n",
       "      <td>yes</td>\n",
       "    </tr>\n",
       "    <tr>\n",
       "      <th>4</th>\n",
       "      <td>s0257</td>\n",
       "      <td>ge75</td>\n",
       "      <td>0.0</td>\n",
       "      <td>55</td>\n",
       "      <td>male</td>\n",
       "      <td>1.700</td>\n",
       "      <td>70.31</td>\n",
       "      <td>24.328720</td>\n",
       "      <td>nondm</td>\n",
       "      <td>no</td>\n",
       "      <td>no</td>\n",
       "      <td>0.00</td>\n",
       "      <td>0.0</td>\n",
       "      <td>no</td>\n",
       "      <td>0.0</td>\n",
       "      <td>no</td>\n",
       "      <td>no</td>\n",
       "      <td>no</td>\n",
       "      <td>no</td>\n",
       "      <td>no</td>\n",
       "      <td>no</td>\n",
       "      <td>0.0</td>\n",
       "      <td>1.0</td>\n",
       "      <td>1.0</td>\n",
       "      <td>0.0</td>\n",
       "      <td>1.0</td>\n",
       "      <td>no</td>\n",
       "      <td>no</td>\n",
       "      <td>no</td>\n",
       "      <td>no</td>\n",
       "      <td>no</td>\n",
       "      <td>no</td>\n",
       "      <td>no</td>\n",
       "      <td>no</td>\n",
       "      <td>no</td>\n",
       "      <td>no</td>\n",
       "      <td>no</td>\n",
       "      <td>no</td>\n",
       "      <td>no</td>\n",
       "      <td>no</td>\n",
       "      <td>no</td>\n",
       "      <td>no</td>\n",
       "      <td>no</td>\n",
       "      <td>no</td>\n",
       "    </tr>\n",
       "  </tbody>\n",
       "</table>\n",
       "</div>"
      ],
      "text/plain": [
       "  patient id study  diabetes duration  age     sex  height (m)  mass (kg)  \\\n",
       "0      s0250  ge75                7.0   50    male       1.790     114.65   \n",
       "1      s0254  ge75                0.0   69  female       1.531      56.90   \n",
       "2      s0255  ge75                3.0   78  female       1.520      65.77   \n",
       "3      s0256  ge75               23.0   65  female       1.575      73.50   \n",
       "4      s0257  ge75                0.0   55    male       1.700      70.31   \n",
       "\n",
       "         bmi diabetes previous tobacco use current tobacco use  packyears  \\\n",
       "0  35.782279       dm                  yes                  no       2.86   \n",
       "1  24.275148    nondm                  yes                  no       0.14   \n",
       "2  28.466932       dm                   no                  no       0.00   \n",
       "3  29.629630       dm                  yes                  no       5.71   \n",
       "4  24.328720    nondm                   no                  no       0.00   \n",
       "\n",
       "   years previous alcohol use  alcohol dose/week  \\\n",
       "0   10.0                  yes                7.0   \n",
       "1    1.0                  yes                0.5   \n",
       "2    0.0                  yes                9.0   \n",
       "3   20.0                  yes                3.0   \n",
       "4    0.0                   no                0.0   \n",
       "\n",
       "  neuropathy autonomic symptoms dizziness autonomic symptoms  \\\n",
       "0                            no                           no   \n",
       "1                            no                           no   \n",
       "2                            no                           no   \n",
       "3                            no                           no   \n",
       "4                            no                           no   \n",
       "\n",
       "  numbness autonomic symptoms painful feet autonomic symptoms  \\\n",
       "0                          no                              no   \n",
       "1                          no                              no   \n",
       "2                          no                              no   \n",
       "3                          no                              no   \n",
       "4                          no                              no   \n",
       "\n",
       "  syncope autonomic symptoms oh autonomic symptoms  cancer# family history  \\\n",
       "0                         no                    no                     1.0   \n",
       "1                        yes                    no                     1.0   \n",
       "2                         no                    no                     0.0   \n",
       "3                        NaN                    no                     2.0   \n",
       "4                         no                    no                     0.0   \n",
       "\n",
       "   heartdisease family history  htn family history  dm family history  \\\n",
       "0                          1.0                 1.0                1.0   \n",
       "1                          1.0                 1.0                0.0   \n",
       "2                          3.0                 0.0                3.0   \n",
       "3                          1.0                 0.0                3.0   \n",
       "4                          1.0                 1.0                0.0   \n",
       "\n",
       "   strokefamily history cancer patient medical history  \\\n",
       "0                   0.0                             no   \n",
       "1                   1.0                             no   \n",
       "2                   0.0                             no   \n",
       "3                   1.0                            yes   \n",
       "4                   1.0                             no   \n",
       "\n",
       "  stroke patient medical history atrial fibtrillation patient medical history  \\\n",
       "0                             no                                           no   \n",
       "1                             no                                           no   \n",
       "2                             no                                           no   \n",
       "3                             no                                           no   \n",
       "4                             no                                           no   \n",
       "\n",
       "  heart failure =chf /ifarction=mi patient medical history  \\\n",
       "0                                                       no   \n",
       "1                                                       no   \n",
       "2                                                       no   \n",
       "3                                                       no   \n",
       "4                                                       no   \n",
       "\n",
       "  hyperlipidemia patient medical history antiplatelets anticoagulants  \\\n",
       "0                                     no            no             no   \n",
       "1                                     no            no             no   \n",
       "2                                    yes            no             no   \n",
       "3                                    yes           yes             no   \n",
       "4                                     no            no             no   \n",
       "\n",
       "  antihyperlipidemic antiparkinsonian statins estrogen ace inhibitors arbs  \\\n",
       "0                 no               no      no       no             no   no   \n",
       "1                 no               no      no       no             no   no   \n",
       "2                 no               no     yes       no             no   no   \n",
       "3                 no               no     yes       no             no   no   \n",
       "4                 no               no      no       no             no   no   \n",
       "\n",
       "  beta blockers diuretics ca ++ blockers insulin(yes or no) oral hypoglycemic  \n",
       "0            no        no             no                 no               yes  \n",
       "1            no        no             no                 no                no  \n",
       "2           yes        no             no                 no                no  \n",
       "3            no        no             no                 no               yes  \n",
       "4            no        no             no                 no                no  "
      ]
     },
     "execution_count": 6,
     "metadata": {},
     "output_type": "execute_result"
    }
   ],
   "source": [
    "df_perfusion.head()"
   ]
  },
  {
   "cell_type": "code",
   "execution_count": 7,
   "id": "b4a17871",
   "metadata": {
    "scrolled": false
   },
   "outputs": [
    {
     "data": {
      "text/html": [
       "<div>\n",
       "<style scoped>\n",
       "    .dataframe tbody tr th:only-of-type {\n",
       "        vertical-align: middle;\n",
       "    }\n",
       "\n",
       "    .dataframe tbody tr th {\n",
       "        vertical-align: top;\n",
       "    }\n",
       "\n",
       "    .dataframe thead th {\n",
       "        text-align: right;\n",
       "    }\n",
       "</style>\n",
       "<table border=\"1\" class=\"dataframe\">\n",
       "  <thead>\n",
       "    <tr style=\"text-align: right;\">\n",
       "      <th></th>\n",
       "      <th>patient id</th>\n",
       "      <th>s0328</th>\n",
       "      <th>s0342</th>\n",
       "      <th>variable description</th>\n",
       "      <th>units</th>\n",
       "    </tr>\n",
       "  </thead>\n",
       "  <tbody>\n",
       "    <tr>\n",
       "      <th>0</th>\n",
       "      <td>NaN</td>\n",
       "      <td>NaN</td>\n",
       "      <td>NaN</td>\n",
       "      <td>NaN</td>\n",
       "      <td>NaN</td>\n",
       "    </tr>\n",
       "    <tr>\n",
       "      <th>1</th>\n",
       "      <td>study</td>\n",
       "      <td>ge75</td>\n",
       "      <td>ge75</td>\n",
       "      <td>study number</td>\n",
       "      <td>NaN</td>\n",
       "    </tr>\n",
       "    <tr>\n",
       "      <th>2</th>\n",
       "      <td>completed visits status</td>\n",
       "      <td>completed</td>\n",
       "      <td>completed</td>\n",
       "      <td>completed study status</td>\n",
       "      <td>NaN</td>\n",
       "    </tr>\n",
       "    <tr>\n",
       "      <th>3</th>\n",
       "      <td>htn patient medical history</td>\n",
       "      <td>no</td>\n",
       "      <td>no</td>\n",
       "      <td>hypertension patient history</td>\n",
       "      <td>NaN</td>\n",
       "    </tr>\n",
       "    <tr>\n",
       "      <th>4</th>\n",
       "      <td>group 2</td>\n",
       "      <td>control</td>\n",
       "      <td>dm</td>\n",
       "      <td>group control  diabetes</td>\n",
       "      <td>NaN</td>\n",
       "    </tr>\n",
       "  </tbody>\n",
       "</table>\n",
       "</div>"
      ],
      "text/plain": [
       "                    patient id      s0328      s0342  \\\n",
       "0                          NaN        NaN        NaN   \n",
       "1                        study       ge75       ge75   \n",
       "2      completed visits status  completed  completed   \n",
       "3  htn patient medical history         no         no   \n",
       "4                      group 2    control         dm   \n",
       "\n",
       "           variable description units  \n",
       "0                           NaN   NaN  \n",
       "1                  study number   NaN  \n",
       "2        completed study status   NaN  \n",
       "3  hypertension patient history   NaN  \n",
       "4       group control  diabetes   NaN  "
      ]
     },
     "execution_count": 7,
     "metadata": {},
     "output_type": "execute_result"
    }
   ],
   "source": [
    "df_desc.head()"
   ]
  },
  {
   "cell_type": "markdown",
   "id": "52f2573f",
   "metadata": {},
   "source": [
    "# Introduction"
   ]
  },
  {
   "cell_type": "markdown",
   "id": "a96dec23",
   "metadata": {},
   "source": [
    "This jupyter notebook aims to: \n",
    "- finalize the data cleaning to find the common features between the stroke and the perfusion datasets\n",
    "- features relevance for SmartCompanion development\n",
    "- find protective and risk features through modelling and clustering\n",
    "\n",
    "The stroke study excludes diabetic patients and the perfusion one excludes people who had a severe stroke. \n",
    "\n",
    "To do so we will create a model of stroke prediction based on the stroke dataset and will apply it to the perfusion dataset. Prediction results will be analyze with the clustering results\n",
    "\n",
    "Problems: \n",
    "- check if there's no common patient between the two datasets\n",
    "- exclude TIA patients\n",
    "- what to do with illegible patients (having diabetes in the stroke study and a severe stroke in the perfusion one)\n",
    "- Optimal number of features, features correlations, etc.\n",
    "- how to deal with mixed data"
   ]
  },
  {
   "cell_type": "markdown",
   "id": "f97e6b9a",
   "metadata": {},
   "source": [
    "# Check consistency between the two datasets"
   ]
  },
  {
   "cell_type": "code",
   "execution_count": 8,
   "id": "e0bc84ea",
   "metadata": {
    "scrolled": true
   },
   "outputs": [
    {
     "data": {
      "text/plain": [
       "(143, 44)"
      ]
     },
     "execution_count": 8,
     "metadata": {},
     "output_type": "execute_result"
    }
   ],
   "source": [
    "df_stroke.shape"
   ]
  },
  {
   "cell_type": "code",
   "execution_count": 9,
   "id": "38ad784c",
   "metadata": {
    "scrolled": true
   },
   "outputs": [
    {
     "data": {
      "text/plain": [
       "(87, 44)"
      ]
     },
     "execution_count": 9,
     "metadata": {},
     "output_type": "execute_result"
    }
   ],
   "source": [
    "df_perfusion.shape"
   ]
  },
  {
   "cell_type": "code",
   "execution_count": 10,
   "id": "14b5ae9c",
   "metadata": {},
   "outputs": [],
   "source": [
    "common_col = set(df_perfusion.columns) & set(df_stroke.columns)"
   ]
  },
  {
   "cell_type": "markdown",
   "id": "df248ffa",
   "metadata": {},
   "source": [
    "Let's check if there are common patients between the datasets"
   ]
  },
  {
   "cell_type": "code",
   "execution_count": 11,
   "id": "e21f9880",
   "metadata": {},
   "outputs": [
    {
     "name": "stdout",
     "output_type": "stream",
     "text": [
      "common patient between perfusion and stroke 0\n"
     ]
    }
   ],
   "source": [
    "set_perfusion = set(df_perfusion[\"patient id\"])\n",
    "set_stroke = set(df_stroke[\"patient id\"])\n",
    "# Common patients\n",
    "print(f'common patient between perfusion and stroke {len(set_perfusion & set_stroke)}')"
   ]
  },
  {
   "cell_type": "code",
   "execution_count": 12,
   "id": "95ebccc7",
   "metadata": {},
   "outputs": [
    {
     "name": "stdout",
     "output_type": "stream",
     "text": [
      "36\n"
     ]
    },
    {
     "data": {
      "text/plain": [
       "['arbs',\n",
       " 'syncope autonomic symptoms',\n",
       " 'statins',\n",
       " 'patient id',\n",
       " 'neuropathy autonomic symptoms',\n",
       " 'beta blockers',\n",
       " 'current tobacco use',\n",
       " 'heart failure =chf /ifarction=mi patient medical history',\n",
       " 'previous tobacco use',\n",
       " 'ace inhibitors',\n",
       " 'antiparkinsonian',\n",
       " 'antiplatelets',\n",
       " 'oh autonomic symptoms',\n",
       " 'alcohol dose/week',\n",
       " 'oral hypoglycemic',\n",
       " 'age',\n",
       " 'htn family history',\n",
       " 'heartdisease family history',\n",
       " 'antihyperlipidemic',\n",
       " 'previous alcohol use',\n",
       " 'strokefamily history',\n",
       " 'dizziness autonomic symptoms',\n",
       " 'years',\n",
       " 'atrial fibtrillation patient medical history',\n",
       " 'hyperlipidemia patient medical history',\n",
       " 'cancer# family history',\n",
       " 'diuretics',\n",
       " 'numbness autonomic symptoms',\n",
       " 'ca ++ blockers',\n",
       " 'painful feet autonomic symptoms',\n",
       " 'anticoagulants',\n",
       " 'estrogen',\n",
       " 'bmi',\n",
       " 'insulin(yes or no)',\n",
       " 'cancer patient medical history',\n",
       " 'dm family history']"
      ]
     },
     "execution_count": 12,
     "metadata": {},
     "output_type": "execute_result"
    }
   ],
   "source": [
    "common_col = set(df_perfusion.columns) & set(df_stroke.columns)\n",
    "print(len(common_col))\n",
    "list(common_col)"
   ]
  },
  {
   "cell_type": "markdown",
   "id": "ca6d59db",
   "metadata": {},
   "source": [
    "36 common features over 44 including demographic, lifestyle and medicall record features"
   ]
  },
  {
   "cell_type": "code",
   "execution_count": 13,
   "id": "47bc3bf0",
   "metadata": {
    "scrolled": false
   },
   "outputs": [
    {
     "data": {
      "text/plain": [
       "['completed visit status',\n",
       " 'htn patient medical history',\n",
       " 'group',\n",
       " 'height/m',\n",
       " 'mass/kg',\n",
       " 'gender',\n",
       " 'pack years',\n",
       " 'dm patient medical history']"
      ]
     },
     "execution_count": 13,
     "metadata": {},
     "output_type": "execute_result"
    }
   ],
   "source": [
    "undetected_stroke = df_stroke.columns[~df_stroke.columns.isin(df_perfusion.columns)]\n",
    "list(undetected_stroke)"
   ]
  },
  {
   "cell_type": "code",
   "execution_count": 14,
   "id": "4ca34480",
   "metadata": {},
   "outputs": [
    {
     "data": {
      "text/html": [
       "<div>\n",
       "<style scoped>\n",
       "    .dataframe tbody tr th:only-of-type {\n",
       "        vertical-align: middle;\n",
       "    }\n",
       "\n",
       "    .dataframe tbody tr th {\n",
       "        vertical-align: top;\n",
       "    }\n",
       "\n",
       "    .dataframe thead th {\n",
       "        text-align: right;\n",
       "    }\n",
       "</style>\n",
       "<table border=\"1\" class=\"dataframe\">\n",
       "  <thead>\n",
       "    <tr style=\"text-align: right;\">\n",
       "      <th></th>\n",
       "      <th>unique_value</th>\n",
       "    </tr>\n",
       "  </thead>\n",
       "  <tbody>\n",
       "    <tr>\n",
       "      <th>completed visit status</th>\n",
       "      <td>[ineligible, excluded, completed, v1, lost to followup, excluded pending pcp]</td>\n",
       "    </tr>\n",
       "    <tr>\n",
       "      <th>htn patient medical history</th>\n",
       "      <td>[yes, no, nan]</td>\n",
       "    </tr>\n",
       "    <tr>\n",
       "      <th>group</th>\n",
       "      <td>[control, stroke]</td>\n",
       "    </tr>\n",
       "    <tr>\n",
       "      <th>height/m</th>\n",
       "      <td>[1.6383, 1.82, 1.7018, 1.6764, 1.5748, 1.5494, 1.8288, 1.6256, 1.8034, 1.7526, 1.651, 1.4732, 1.524, 1.49, 1.778, 1.6002, 1.7653, 1.8542, 1.7272, 1.6, 1.57, 1.4986, 1.7, 1.52, 1.502, 1.695, 1.68, 1.715, 1.72, 1.63, 1.8, 1.66, 1.73, 1.75, 1.61, 1.69, 1.64, 1.67, 1.65, 1.59, 1.78, 1.55, 1.47, 1.56, 1.74, nan, 1.83, 1.62, 1.81, 1.53]</td>\n",
       "    </tr>\n",
       "    <tr>\n",
       "      <th>mass/kg</th>\n",
       "      <td>[71.66759446, 92.986, 68.0388555, 68.49244787, 64.86370891, 52.16312255, 72.5747792, 73.02837157, 95.2543977, 99.7903214, 66.67807839, 80.73944186, 73.93555631, 106.59420695, 54.4310844, 84.82177319, 63.5029318, 53.97749203, 73.48196394, 58.9670081, 67.58526313, 77.1107029, 90.718474, 62.14215469, 92.98643585, 76.20351816, 64.41011654, 60.78137758, 58.05982336, 70.30681735, 67.13167076, 54.88467677, 83.91458845, 57.60623099, 60.32778521, 65.31730128, 113.3980925, 79.37866475, 56.24545388, 114.30527724, 55.33826914, 77.11, 72.57, 45.81, 57.45, 72.25, 69.85, 64.41, 72.95, 91.63, 99.6, 82.9, 83.65, 92.6, 71.55, 112.35, 65.9, 84.5, 81.65, 78.85, 73.7, 66.5, 63.0, 63.25, 74.55, 78.45, 68.3, 75.85, 78.15, 66.2, 69.0, 68.0, 90.7, 51.5, 93.6, 85.9, 49.89, 79.25, 66.3, 83.91, 74.8, 90.72, 93.0, 81.45, 76.4, 94.55, 106.55, nan, 62.15, 96.2, 98.8, 61.0, 77.27, 78.2, 75.38, 85.15, 63.2, 67.9, 107.2, 68.75, ...]</td>\n",
       "    </tr>\n",
       "    <tr>\n",
       "      <th>gender</th>\n",
       "      <td>[f, m]</td>\n",
       "    </tr>\n",
       "    <tr>\n",
       "      <th>pack years</th>\n",
       "      <td>[20.0, 10.0, 40.0, 0.0, nan, 72.0, 12.0, 35.0, 15.0, 41.0, 60.0, 5.0, 25.0, 27.0, 160.0, 9.0, 30.0, 11.0, 45.0, 3.75, 48.0, 1.0, 64.0, 43.0, 2.14, 17.0, 30.86, 86.0, 1.71, 62.5, 66.0, 36.0, 0.1667, 10.5, 50.0, 8.0, 33.0, 100.0, 42.0, 1.43, 57.0, 54.0, 96.0, 14.0, 70.0, 6.75, 24.0, 0.6, 4.0]</td>\n",
       "    </tr>\n",
       "    <tr>\n",
       "      <th>dm patient medical history</th>\n",
       "      <td>[no, nan, yes]</td>\n",
       "    </tr>\n",
       "  </tbody>\n",
       "</table>\n",
       "</div>"
      ],
      "text/plain": [
       "                                                                                                                                                                                                                                                                                                                                                                                                                                                                                                                                                                                                                                                                                                                                                                                                                                                                                                                                                                 unique_value\n",
       "completed visit status                                                                                                                                                                                                                                                                                                                                                                                                                                                                                                                                                                                                                                                                                                                                                                                                                                                                          [ineligible, excluded, completed, v1, lost to followup, excluded pending pcp]\n",
       "htn patient medical history                                                                                                                                                                                                                                                                                                                                                                                                                                                                                                                                                                                                                                                                                                                                                                                                                                                                                                                                    [yes, no, nan]\n",
       "group                                                                                                                                                                                                                                                                                                                                                                                                                                                                                                                                                                                                                                                                                                                                                                                                                                                                                                                                                       [control, stroke]\n",
       "height/m                                                                                                                                                                                                                                                                                                                                                                                                                                                                                                                                                                                                                         [1.6383, 1.82, 1.7018, 1.6764, 1.5748, 1.5494, 1.8288, 1.6256, 1.8034, 1.7526, 1.651, 1.4732, 1.524, 1.49, 1.778, 1.6002, 1.7653, 1.8542, 1.7272, 1.6, 1.57, 1.4986, 1.7, 1.52, 1.502, 1.695, 1.68, 1.715, 1.72, 1.63, 1.8, 1.66, 1.73, 1.75, 1.61, 1.69, 1.64, 1.67, 1.65, 1.59, 1.78, 1.55, 1.47, 1.56, 1.74, nan, 1.83, 1.62, 1.81, 1.53]\n",
       "mass/kg                      [71.66759446, 92.986, 68.0388555, 68.49244787, 64.86370891, 52.16312255, 72.5747792, 73.02837157, 95.2543977, 99.7903214, 66.67807839, 80.73944186, 73.93555631, 106.59420695, 54.4310844, 84.82177319, 63.5029318, 53.97749203, 73.48196394, 58.9670081, 67.58526313, 77.1107029, 90.718474, 62.14215469, 92.98643585, 76.20351816, 64.41011654, 60.78137758, 58.05982336, 70.30681735, 67.13167076, 54.88467677, 83.91458845, 57.60623099, 60.32778521, 65.31730128, 113.3980925, 79.37866475, 56.24545388, 114.30527724, 55.33826914, 77.11, 72.57, 45.81, 57.45, 72.25, 69.85, 64.41, 72.95, 91.63, 99.6, 82.9, 83.65, 92.6, 71.55, 112.35, 65.9, 84.5, 81.65, 78.85, 73.7, 66.5, 63.0, 63.25, 74.55, 78.45, 68.3, 75.85, 78.15, 66.2, 69.0, 68.0, 90.7, 51.5, 93.6, 85.9, 49.89, 79.25, 66.3, 83.91, 74.8, 90.72, 93.0, 81.45, 76.4, 94.55, 106.55, nan, 62.15, 96.2, 98.8, 61.0, 77.27, 78.2, 75.38, 85.15, 63.2, 67.9, 107.2, 68.75, ...]\n",
       "gender                                                                                                                                                                                                                                                                                                                                                                                                                                                                                                                                                                                                                                                                                                                                                                                                                                                                                                                                                                 [f, m]\n",
       "pack years                                                                                                                                                                                                                                                                                                                                                                                                                                                                                                                                                                                                                                                                [20.0, 10.0, 40.0, 0.0, nan, 72.0, 12.0, 35.0, 15.0, 41.0, 60.0, 5.0, 25.0, 27.0, 160.0, 9.0, 30.0, 11.0, 45.0, 3.75, 48.0, 1.0, 64.0, 43.0, 2.14, 17.0, 30.86, 86.0, 1.71, 62.5, 66.0, 36.0, 0.1667, 10.5, 50.0, 8.0, 33.0, 100.0, 42.0, 1.43, 57.0, 54.0, 96.0, 14.0, 70.0, 6.75, 24.0, 0.6, 4.0]\n",
       "dm patient medical history                                                                                                                                                                                                                                                                                                                                                                                                                                                                                                                                                                                                                                                                                                                                                                                                                                                                                                                                     [no, nan, yes]"
      ]
     },
     "execution_count": 14,
     "metadata": {},
     "output_type": "execute_result"
    }
   ],
   "source": [
    "get_unique_value_col(df_stroke[undetected_stroke])"
   ]
  },
  {
   "cell_type": "code",
   "execution_count": 15,
   "id": "23e13d1a",
   "metadata": {
    "scrolled": true
   },
   "outputs": [
    {
     "data": {
      "text/plain": [
       "['study',\n",
       " 'diabetes duration',\n",
       " 'sex',\n",
       " 'height (m)',\n",
       " 'mass (kg)',\n",
       " 'diabetes',\n",
       " 'packyears',\n",
       " 'stroke patient medical history']"
      ]
     },
     "execution_count": 15,
     "metadata": {},
     "output_type": "execute_result"
    }
   ],
   "source": [
    "undetected_perfusion = df_perfusion.columns[~df_perfusion.columns.isin(df_stroke.columns)]\n",
    "list(undetected_perfusion)"
   ]
  },
  {
   "cell_type": "code",
   "execution_count": 16,
   "id": "ff698a2f",
   "metadata": {},
   "outputs": [
    {
     "data": {
      "text/html": [
       "<div>\n",
       "<style scoped>\n",
       "    .dataframe tbody tr th:only-of-type {\n",
       "        vertical-align: middle;\n",
       "    }\n",
       "\n",
       "    .dataframe tbody tr th {\n",
       "        vertical-align: top;\n",
       "    }\n",
       "\n",
       "    .dataframe thead th {\n",
       "        text-align: right;\n",
       "    }\n",
       "</style>\n",
       "<table border=\"1\" class=\"dataframe\">\n",
       "  <thead>\n",
       "    <tr style=\"text-align: right;\">\n",
       "      <th></th>\n",
       "      <th>unique_value</th>\n",
       "    </tr>\n",
       "  </thead>\n",
       "  <tbody>\n",
       "    <tr>\n",
       "      <th>completed visit status</th>\n",
       "      <td>[ineligible, excluded, completed, v1, lost to followup, excluded pending pcp]</td>\n",
       "    </tr>\n",
       "    <tr>\n",
       "      <th>htn patient medical history</th>\n",
       "      <td>[yes, no, nan]</td>\n",
       "    </tr>\n",
       "    <tr>\n",
       "      <th>group</th>\n",
       "      <td>[control, stroke]</td>\n",
       "    </tr>\n",
       "    <tr>\n",
       "      <th>height/m</th>\n",
       "      <td>[1.6383, 1.82, 1.7018, 1.6764, 1.5748, 1.5494, 1.8288, 1.6256, 1.8034, 1.7526, 1.651, 1.4732, 1.524, 1.49, 1.778, 1.6002, 1.7653, 1.8542, 1.7272, 1.6, 1.57, 1.4986, 1.7, 1.52, 1.502, 1.695, 1.68, 1.715, 1.72, 1.63, 1.8, 1.66, 1.73, 1.75, 1.61, 1.69, 1.64, 1.67, 1.65, 1.59, 1.78, 1.55, 1.47, 1.56, 1.74, nan, 1.83, 1.62, 1.81, 1.53]</td>\n",
       "    </tr>\n",
       "    <tr>\n",
       "      <th>mass/kg</th>\n",
       "      <td>[71.66759446, 92.986, 68.0388555, 68.49244787, 64.86370891, 52.16312255, 72.5747792, 73.02837157, 95.2543977, 99.7903214, 66.67807839, 80.73944186, 73.93555631, 106.59420695, 54.4310844, 84.82177319, 63.5029318, 53.97749203, 73.48196394, 58.9670081, 67.58526313, 77.1107029, 90.718474, 62.14215469, 92.98643585, 76.20351816, 64.41011654, 60.78137758, 58.05982336, 70.30681735, 67.13167076, 54.88467677, 83.91458845, 57.60623099, 60.32778521, 65.31730128, 113.3980925, 79.37866475, 56.24545388, 114.30527724, 55.33826914, 77.11, 72.57, 45.81, 57.45, 72.25, 69.85, 64.41, 72.95, 91.63, 99.6, 82.9, 83.65, 92.6, 71.55, 112.35, 65.9, 84.5, 81.65, 78.85, 73.7, 66.5, 63.0, 63.25, 74.55, 78.45, 68.3, 75.85, 78.15, 66.2, 69.0, 68.0, 90.7, 51.5, 93.6, 85.9, 49.89, 79.25, 66.3, 83.91, 74.8, 90.72, 93.0, 81.45, 76.4, 94.55, 106.55, nan, 62.15, 96.2, 98.8, 61.0, 77.27, 78.2, 75.38, 85.15, 63.2, 67.9, 107.2, 68.75, ...]</td>\n",
       "    </tr>\n",
       "    <tr>\n",
       "      <th>gender</th>\n",
       "      <td>[f, m]</td>\n",
       "    </tr>\n",
       "    <tr>\n",
       "      <th>pack years</th>\n",
       "      <td>[20.0, 10.0, 40.0, 0.0, nan, 72.0, 12.0, 35.0, 15.0, 41.0, 60.0, 5.0, 25.0, 27.0, 160.0, 9.0, 30.0, 11.0, 45.0, 3.75, 48.0, 1.0, 64.0, 43.0, 2.14, 17.0, 30.86, 86.0, 1.71, 62.5, 66.0, 36.0, 0.1667, 10.5, 50.0, 8.0, 33.0, 100.0, 42.0, 1.43, 57.0, 54.0, 96.0, 14.0, 70.0, 6.75, 24.0, 0.6, 4.0]</td>\n",
       "    </tr>\n",
       "    <tr>\n",
       "      <th>dm patient medical history</th>\n",
       "      <td>[no, nan, yes]</td>\n",
       "    </tr>\n",
       "  </tbody>\n",
       "</table>\n",
       "</div>"
      ],
      "text/plain": [
       "                                                                                                                                                                                                                                                                                                                                                                                                                                                                                                                                                                                                                                                                                                                                                                                                                                                                                                                                                                 unique_value\n",
       "completed visit status                                                                                                                                                                                                                                                                                                                                                                                                                                                                                                                                                                                                                                                                                                                                                                                                                                                                          [ineligible, excluded, completed, v1, lost to followup, excluded pending pcp]\n",
       "htn patient medical history                                                                                                                                                                                                                                                                                                                                                                                                                                                                                                                                                                                                                                                                                                                                                                                                                                                                                                                                    [yes, no, nan]\n",
       "group                                                                                                                                                                                                                                                                                                                                                                                                                                                                                                                                                                                                                                                                                                                                                                                                                                                                                                                                                       [control, stroke]\n",
       "height/m                                                                                                                                                                                                                                                                                                                                                                                                                                                                                                                                                                                                                         [1.6383, 1.82, 1.7018, 1.6764, 1.5748, 1.5494, 1.8288, 1.6256, 1.8034, 1.7526, 1.651, 1.4732, 1.524, 1.49, 1.778, 1.6002, 1.7653, 1.8542, 1.7272, 1.6, 1.57, 1.4986, 1.7, 1.52, 1.502, 1.695, 1.68, 1.715, 1.72, 1.63, 1.8, 1.66, 1.73, 1.75, 1.61, 1.69, 1.64, 1.67, 1.65, 1.59, 1.78, 1.55, 1.47, 1.56, 1.74, nan, 1.83, 1.62, 1.81, 1.53]\n",
       "mass/kg                      [71.66759446, 92.986, 68.0388555, 68.49244787, 64.86370891, 52.16312255, 72.5747792, 73.02837157, 95.2543977, 99.7903214, 66.67807839, 80.73944186, 73.93555631, 106.59420695, 54.4310844, 84.82177319, 63.5029318, 53.97749203, 73.48196394, 58.9670081, 67.58526313, 77.1107029, 90.718474, 62.14215469, 92.98643585, 76.20351816, 64.41011654, 60.78137758, 58.05982336, 70.30681735, 67.13167076, 54.88467677, 83.91458845, 57.60623099, 60.32778521, 65.31730128, 113.3980925, 79.37866475, 56.24545388, 114.30527724, 55.33826914, 77.11, 72.57, 45.81, 57.45, 72.25, 69.85, 64.41, 72.95, 91.63, 99.6, 82.9, 83.65, 92.6, 71.55, 112.35, 65.9, 84.5, 81.65, 78.85, 73.7, 66.5, 63.0, 63.25, 74.55, 78.45, 68.3, 75.85, 78.15, 66.2, 69.0, 68.0, 90.7, 51.5, 93.6, 85.9, 49.89, 79.25, 66.3, 83.91, 74.8, 90.72, 93.0, 81.45, 76.4, 94.55, 106.55, nan, 62.15, 96.2, 98.8, 61.0, 77.27, 78.2, 75.38, 85.15, 63.2, 67.9, 107.2, 68.75, ...]\n",
       "gender                                                                                                                                                                                                                                                                                                                                                                                                                                                                                                                                                                                                                                                                                                                                                                                                                                                                                                                                                                 [f, m]\n",
       "pack years                                                                                                                                                                                                                                                                                                                                                                                                                                                                                                                                                                                                                                                                [20.0, 10.0, 40.0, 0.0, nan, 72.0, 12.0, 35.0, 15.0, 41.0, 60.0, 5.0, 25.0, 27.0, 160.0, 9.0, 30.0, 11.0, 45.0, 3.75, 48.0, 1.0, 64.0, 43.0, 2.14, 17.0, 30.86, 86.0, 1.71, 62.5, 66.0, 36.0, 0.1667, 10.5, 50.0, 8.0, 33.0, 100.0, 42.0, 1.43, 57.0, 54.0, 96.0, 14.0, 70.0, 6.75, 24.0, 0.6, 4.0]\n",
       "dm patient medical history                                                                                                                                                                                                                                                                                                                                                                                                                                                                                                                                                                                                                                                                                                                                                                                                                                                                                                                                     [no, nan, yes]"
      ]
     },
     "execution_count": 16,
     "metadata": {},
     "output_type": "execute_result"
    }
   ],
   "source": [
    "get_unique_value_col(df_stroke[undetected_stroke])"
   ]
  },
  {
   "cell_type": "code",
   "execution_count": 17,
   "id": "8788cf14",
   "metadata": {
    "scrolled": true
   },
   "outputs": [
    {
     "data": {
      "text/html": [
       "<div>\n",
       "<style scoped>\n",
       "    .dataframe tbody tr th:only-of-type {\n",
       "        vertical-align: middle;\n",
       "    }\n",
       "\n",
       "    .dataframe tbody tr th {\n",
       "        vertical-align: top;\n",
       "    }\n",
       "\n",
       "    .dataframe thead th {\n",
       "        text-align: right;\n",
       "    }\n",
       "</style>\n",
       "<table border=\"1\" class=\"dataframe\">\n",
       "  <thead>\n",
       "    <tr style=\"text-align: right;\">\n",
       "      <th></th>\n",
       "      <th>unique_value</th>\n",
       "    </tr>\n",
       "  </thead>\n",
       "  <tbody>\n",
       "    <tr>\n",
       "      <th>study</th>\n",
       "      <td>[ge75]</td>\n",
       "    </tr>\n",
       "    <tr>\n",
       "      <th>diabetes duration</th>\n",
       "      <td>[7.0, 0.0, 3.0, 23.0, 1.0, 26.0, 10.0, 16.0, nan, 4.0, 18.0, 2.0, 15.0, 5.0, 9.0, 21.0, 6.0, 12.0, 17.0, 37.0, 28.0, 25.0, 8.0, 32.0, 31.0, 20.0]</td>\n",
       "    </tr>\n",
       "    <tr>\n",
       "      <th>sex</th>\n",
       "      <td>[male, female]</td>\n",
       "    </tr>\n",
       "    <tr>\n",
       "      <th>height (m)</th>\n",
       "      <td>[1.79, 1.531, 1.52, 1.575, 1.7, 1.5, 1.722, 1.68, 1.73, 1.807, 1.63, 1.6, 1.608, 1.62, 1.602, 1.54, 1.57, 1.66, 1.85, 1.46, 1.9, 1.59, 1.84, 1.64, 1.8, 1.75, 1.53, 1.76, 1.83, 1.72, 1.56, 1.65, 1.78, 1.71, 1.82, 1.74, 1.67, 1.77, 1.55, 1.61, 1.92, 1.69, 1.561, 1.557, 1.818, 1.768, 1.667, 1.727, 1.798, nan]</td>\n",
       "    </tr>\n",
       "    <tr>\n",
       "      <th>mass (kg)</th>\n",
       "      <td>[114.65, 56.9, 65.77, 73.5, 70.31, 83.46, 98.4, 85.28, 96.16, 71.67, 85.8, 63.5, 81.65, 56.25, 69.2, 48.99, 52.25, 65.65, 54.43, 88.8, 64.75, 74.6, 84.1, 95.4, 91.4, 65.2, 94.65, 74.25, 79.6, 84.0, 69.5, 124.0, 79.8, 96.95, 91.3, 75.85, 85.0, 81.95, 77.95, 99.05, 84.9, 83.5, 64.35, 95.25, 83.1, 84.05, 130.7, 86.05, 89.6, 122.5, 65.35, 63.8, 91.1, 81.15, 119.4, 77.5, 86.1, 60.5, 100.3, 78.8, 93.55, 121.6, 68.0, 69.0, 72.7, 69.85, 85.75, 63.96, 86.85, 85.3, 87.8, 89.65, 86.95, 75.15, 64.65, 79.5, 133.05, 92.85, 72.3, 80.74, 75.4, 93.6, 71.05, nan]</td>\n",
       "    </tr>\n",
       "    <tr>\n",
       "      <th>diabetes</th>\n",
       "      <td>[dm, nondm]</td>\n",
       "    </tr>\n",
       "    <tr>\n",
       "      <th>packyears</th>\n",
       "      <td>[2.86, 0.14, 0.0, 5.71, 34.0, 20.0, 10.0, 15.0, 60.0, 30.0, 25.0, 4.29, nan, 35.0, 12.5, 8.57, 57.0, 80.0, 26.0, 40.0, 61.5, 48.0, 45.0, 7.5, 1.14, 1.25, 0.5, 0.29]</td>\n",
       "    </tr>\n",
       "    <tr>\n",
       "      <th>stroke patient medical history</th>\n",
       "      <td>[no, tia]</td>\n",
       "    </tr>\n",
       "  </tbody>\n",
       "</table>\n",
       "</div>"
      ],
      "text/plain": [
       "                                                                                                                                                                                                                                                                                                                                                                                                                                                                                                                                                                                           unique_value\n",
       "study                                                                                                                                                                                                                                                                                                                                                                                                                                                                                                                                                                                            [ge75]\n",
       "diabetes duration                                                                                                                                                                                                                                                                                                                                                                                                                                     [7.0, 0.0, 3.0, 23.0, 1.0, 26.0, 10.0, 16.0, nan, 4.0, 18.0, 2.0, 15.0, 5.0, 9.0, 21.0, 6.0, 12.0, 17.0, 37.0, 28.0, 25.0, 8.0, 32.0, 31.0, 20.0]\n",
       "sex                                                                                                                                                                                                                                                                                                                                                                                                                                                                                                                                                                                      [male, female]\n",
       "height (m)                                                                                                                                                                                                                                                                          [1.79, 1.531, 1.52, 1.575, 1.7, 1.5, 1.722, 1.68, 1.73, 1.807, 1.63, 1.6, 1.608, 1.62, 1.602, 1.54, 1.57, 1.66, 1.85, 1.46, 1.9, 1.59, 1.84, 1.64, 1.8, 1.75, 1.53, 1.76, 1.83, 1.72, 1.56, 1.65, 1.78, 1.71, 1.82, 1.74, 1.67, 1.77, 1.55, 1.61, 1.92, 1.69, 1.561, 1.557, 1.818, 1.768, 1.667, 1.727, 1.798, nan]\n",
       "mass (kg)                       [114.65, 56.9, 65.77, 73.5, 70.31, 83.46, 98.4, 85.28, 96.16, 71.67, 85.8, 63.5, 81.65, 56.25, 69.2, 48.99, 52.25, 65.65, 54.43, 88.8, 64.75, 74.6, 84.1, 95.4, 91.4, 65.2, 94.65, 74.25, 79.6, 84.0, 69.5, 124.0, 79.8, 96.95, 91.3, 75.85, 85.0, 81.95, 77.95, 99.05, 84.9, 83.5, 64.35, 95.25, 83.1, 84.05, 130.7, 86.05, 89.6, 122.5, 65.35, 63.8, 91.1, 81.15, 119.4, 77.5, 86.1, 60.5, 100.3, 78.8, 93.55, 121.6, 68.0, 69.0, 72.7, 69.85, 85.75, 63.96, 86.85, 85.3, 87.8, 89.65, 86.95, 75.15, 64.65, 79.5, 133.05, 92.85, 72.3, 80.74, 75.4, 93.6, 71.05, nan]\n",
       "diabetes                                                                                                                                                                                                                                                                                                                                                                                                                                                                                                                                                                                    [dm, nondm]\n",
       "packyears                                                                                                                                                                                                                                                                                                                                                                                                                          [2.86, 0.14, 0.0, 5.71, 34.0, 20.0, 10.0, 15.0, 60.0, 30.0, 25.0, 4.29, nan, 35.0, 12.5, 8.57, 57.0, 80.0, 26.0, 40.0, 61.5, 48.0, 45.0, 7.5, 1.14, 1.25, 0.5, 0.29]\n",
       "stroke patient medical history                                                                                                                                                                                                                                                                                                                                                                                                                                                                                                                                                                [no, tia]"
      ]
     },
     "execution_count": 17,
     "metadata": {},
     "output_type": "execute_result"
    }
   ],
   "source": [
    "get_unique_value_col(df_perfusion[undetected_perfusion])"
   ]
  },
  {
   "cell_type": "markdown",
   "id": "2bf5c7c8",
   "metadata": {},
   "source": [
    "The only uncommon features are\n",
    "- perfusion dataset: 'study'\n",
    "- stroke dataset: \"completed visit status\", \"htn patient medical history\"\n",
    "Regarding diabetes duration we are keeping this feature at the moment. We will try different combination of features for the clustering and the model prediction\n",
    "\n",
    "We can \n",
    "- drop those features \n",
    "- change the spelling of the others so they match\n",
    "- change the name of the categories \n"
   ]
  },
  {
   "cell_type": "code",
   "execution_count": 18,
   "id": "6e200f1b",
   "metadata": {},
   "outputs": [],
   "source": [
    "df_perfusion_v1 = df_perfusion.drop(labels='study', axis=\"columns\")\n",
    "df_stroke_v1 = df_stroke.drop(labels=['completed visit status', 'htn patient medical history'], axis=\"columns\")"
   ]
  },
  {
   "cell_type": "code",
   "execution_count": 19,
   "id": "429707e1",
   "metadata": {},
   "outputs": [],
   "source": [
    "dict_rename_perfusion = {\n",
    "    \"sex\" : \"gender\", \n",
    "    \"height (m)\": \"height\",\n",
    "    \"mass (kg)\": \"mass\",\n",
    "    \"packyears\": \"pack years\", \n",
    "}\n",
    "\n",
    "df_perfusion_v1.rename(mapper=dict_rename_perfusion, axis=1, inplace=True)"
   ]
  },
  {
   "cell_type": "code",
   "execution_count": 20,
   "id": "c6443e49",
   "metadata": {},
   "outputs": [],
   "source": [
    "dict_rename_stroke = {\n",
    "    \"group\" : \"stroke patient medical history\", \n",
    "    \"height/m\": \"height\",\n",
    "    \"mass/kg\": \"mass\",\n",
    "    \"dm patient medical history\": \"diabetes\", \n",
    "}\n",
    "df_stroke_v1.rename(mapper=dict_rename_stroke, axis=1, inplace=True)"
   ]
  },
  {
   "cell_type": "code",
   "execution_count": 21,
   "id": "339ce964",
   "metadata": {
    "scrolled": true
   },
   "outputs": [
    {
     "data": {
      "text/plain": [
       "{'ace inhibitors',\n",
       " 'age',\n",
       " 'alcohol dose/week',\n",
       " 'anticoagulants',\n",
       " 'antihyperlipidemic',\n",
       " 'antiparkinsonian',\n",
       " 'antiplatelets',\n",
       " 'arbs',\n",
       " 'atrial fibtrillation patient medical history',\n",
       " 'beta blockers',\n",
       " 'bmi',\n",
       " 'ca ++ blockers',\n",
       " 'cancer patient medical history',\n",
       " 'cancer# family history',\n",
       " 'current tobacco use',\n",
       " 'diabetes',\n",
       " 'diuretics',\n",
       " 'dizziness autonomic symptoms',\n",
       " 'dm family history',\n",
       " 'estrogen',\n",
       " 'gender',\n",
       " 'heart failure =chf /ifarction=mi patient medical history',\n",
       " 'heartdisease family history',\n",
       " 'height',\n",
       " 'htn family history',\n",
       " 'hyperlipidemia patient medical history',\n",
       " 'insulin(yes or no)',\n",
       " 'mass',\n",
       " 'neuropathy autonomic symptoms',\n",
       " 'numbness autonomic symptoms',\n",
       " 'oh autonomic symptoms',\n",
       " 'oral hypoglycemic',\n",
       " 'pack years',\n",
       " 'painful feet autonomic symptoms',\n",
       " 'patient id',\n",
       " 'previous alcohol use',\n",
       " 'previous tobacco use',\n",
       " 'statins',\n",
       " 'stroke patient medical history',\n",
       " 'strokefamily history',\n",
       " 'syncope autonomic symptoms',\n",
       " 'years'}"
      ]
     },
     "execution_count": 21,
     "metadata": {},
     "output_type": "execute_result"
    }
   ],
   "source": [
    "set(df_perfusion_v1.columns) & set(df_stroke_v1.columns)"
   ]
  },
  {
   "cell_type": "markdown",
   "id": "ef03b12f",
   "metadata": {},
   "source": [
    "Let's check consistency of values between the two datasets"
   ]
  },
  {
   "cell_type": "code",
   "execution_count": 22,
   "id": "2edb9830",
   "metadata": {},
   "outputs": [
    {
     "data": {
      "text/html": [
       "<div>\n",
       "<style scoped>\n",
       "    .dataframe tbody tr th:only-of-type {\n",
       "        vertical-align: middle;\n",
       "    }\n",
       "\n",
       "    .dataframe tbody tr th {\n",
       "        vertical-align: top;\n",
       "    }\n",
       "\n",
       "    .dataframe thead th {\n",
       "        text-align: right;\n",
       "    }\n",
       "</style>\n",
       "<table border=\"1\" class=\"dataframe\">\n",
       "  <thead>\n",
       "    <tr style=\"text-align: right;\">\n",
       "      <th></th>\n",
       "      <th>stroke</th>\n",
       "      <th>perfusion</th>\n",
       "      <th>symmetric_diff</th>\n",
       "    </tr>\n",
       "  </thead>\n",
       "  <tbody>\n",
       "    <tr>\n",
       "      <th>arbs</th>\n",
       "      <td>[yes, no, nan]</td>\n",
       "      <td>[no, yes, nan]</td>\n",
       "      <td>{}</td>\n",
       "    </tr>\n",
       "    <tr>\n",
       "      <th>syncope autonomic symptoms</th>\n",
       "      <td>[no, yes, nan]</td>\n",
       "      <td>[no, yes, nan]</td>\n",
       "      <td>{}</td>\n",
       "    </tr>\n",
       "    <tr>\n",
       "      <th>statins</th>\n",
       "      <td>[no, yes, nan]</td>\n",
       "      <td>[no, yes, nan]</td>\n",
       "      <td>{}</td>\n",
       "    </tr>\n",
       "    <tr>\n",
       "      <th>patient id</th>\n",
       "      <td>[s0011, s0033, s0044, s0067, s0068, s0078, s0098, s0121, s0132, s0147, s0151, s0153, s0154, s0157, s0160, s0162, s0163, s0164, s0165, s0166, s0169, s0172, s0174, s0175, s0176, s0177, s0178, s0181, s0182, s0183, s0184, s0185, s0187, s0188, s0194, s0197, s0200, s0203, s0204, s0205, s0206, s0207, s0208, s0209, s0210, s0211, s0212, s0213, s0215, s0216, s0217, s0218, s0219, s0220, s0221, s0222, s0223, s0225, s0226, s0227, s0228, s0229, s0231, s0232, s0233, s0235, s0236, s0238, s0239, s0240, s0241, s0242, s0243, s0244, s0245, s0246, s0247, s0248, s0249, s0261, s0275, s0277, s0295, s0305, s0307, s0313, s0319, s0321, s0322, s0324, s0325, s0329, s0331, s0332, s0334, s0335, s0336, s0337, s0338, s0340, ...]</td>\n",
       "      <td>[s0250, s0254, s0255, s0256, s0257, s0262, s0264, s0267, s0270, s0271, s0273, s0274, s0279, s0281, s0282, s0283, s0287, s0288, s0290, s0292, s0294, s0296, s0300, s0301, s0302, s0303, s0304, s0306, s0308, s0310, s0312, s0314, s0315, s0316, s0317, s0318, s0320, s0323, s0326, s0327, s0328, s0330, s0333, s0339, s0342, s0349, s0360, s0365, s0366, s0368, s0372, s0375, s0381, s0382, s0386, s0390, s0391, s0392, s0393, s0395, s0398, s0403, s0405, s0406, s0407, s0408, s0409, s0410, s0411, s0416, s0417, s0420, s0421, s0422, s0423, s0424, s0426, s0427, s0430, s0431, s0432, s0433, s0434, s0435, s0438, s0441, s0443]</td>\n",
       "      <td>{s0341, s0371, s0406, s0390, s0169, s0336, s0302, s0255, s0330, s0187, s0416, s0402, s0166, s0338, s0235, s0366, s0380, s0404, s0287, s0411, s0165, s0177, s0290, s0068, s0262, s0203, s0164, s0353, s0432, s0267, s0211, s0333, s0347, s0328, s0162, s0369, s0151, s0326, s0422, s0271, s0433, s0200, s0315, s0175, s0098, s0282, s0409, s0408, s0229, s0249, s0182, s0256, s0414, s0427, s0240, s0275, s0217, s0434, s0227, s0241, s0153, s0359, s0247, s0435, s0374, s0342, s0423, s0443, s0270, s0301, s0379, s0382, s0383, s0243, s0375, s0210, s0391, s0365, s0209, s0223, s0410, s0332, s0185, s0277, s0274, s0314, s0356, s0329, s0239, s0334, s0354, s0163, s0424, s0281, s0364, s0296, s0393, s0245, s0324, s0322, ...}</td>\n",
       "    </tr>\n",
       "    <tr>\n",
       "      <th>neuropathy autonomic symptoms</th>\n",
       "      <td>[no, yes, nan]</td>\n",
       "      <td>[no, yes]</td>\n",
       "      <td>{nan}</td>\n",
       "    </tr>\n",
       "    <tr>\n",
       "      <th>beta blockers</th>\n",
       "      <td>[no, yes, nan]</td>\n",
       "      <td>[no, yes, nan]</td>\n",
       "      <td>{}</td>\n",
       "    </tr>\n",
       "    <tr>\n",
       "      <th>current tobacco use</th>\n",
       "      <td>[no, nan, yes]</td>\n",
       "      <td>[no, yes, nan]</td>\n",
       "      <td>{}</td>\n",
       "    </tr>\n",
       "    <tr>\n",
       "      <th>heart failure =chf /ifarction=mi patient medical history</th>\n",
       "      <td>[no, nan, yes]</td>\n",
       "      <td>[no, nan, yes]</td>\n",
       "      <td>{}</td>\n",
       "    </tr>\n",
       "    <tr>\n",
       "      <th>previous tobacco use</th>\n",
       "      <td>[yes, no, nan]</td>\n",
       "      <td>[yes, no, nan]</td>\n",
       "      <td>{}</td>\n",
       "    </tr>\n",
       "    <tr>\n",
       "      <th>ace inhibitors</th>\n",
       "      <td>[no, yes, nan]</td>\n",
       "      <td>[no, yes, nan]</td>\n",
       "      <td>{}</td>\n",
       "    </tr>\n",
       "    <tr>\n",
       "      <th>antiparkinsonian</th>\n",
       "      <td>[no, nan]</td>\n",
       "      <td>[no, yes, nan]</td>\n",
       "      <td>{yes}</td>\n",
       "    </tr>\n",
       "    <tr>\n",
       "      <th>antiplatelets</th>\n",
       "      <td>[no, yes, nan]</td>\n",
       "      <td>[no, yes, nan]</td>\n",
       "      <td>{}</td>\n",
       "    </tr>\n",
       "    <tr>\n",
       "      <th>oh autonomic symptoms</th>\n",
       "      <td>[no, yes, nan]</td>\n",
       "      <td>[no, yes, nan]</td>\n",
       "      <td>{}</td>\n",
       "    </tr>\n",
       "    <tr>\n",
       "      <th>alcohol dose/week</th>\n",
       "      <td>[0.0, 1.0, 2.0, 7.0, 4.0, 3.0, 5.0, 15.0, 12.0, 20.0, 70.0, nan, 10.0, 1.5, 2.5, 28.0, 21.0, 6.0, 10.5, 49.0, 0.5, 0.25, 8.0, 3.5, 42.0, 14.0, 24.0]</td>\n",
       "      <td>[7.0, 0.5, 9.0, 3.0, 0.0, nan, 0.25, 1.0, 70.0, 4.0, 14.0, 2.0, 35.0, 0.86, 21.0, 25.0, 5.0, 10.0]</td>\n",
       "      <td>{nan, 9.0, nan, 1.5, 2.5, 12.0, 10.5, 15.0, 3.5, 20.0, 24.0, 25.0, 28.0, 6.0, 35.0, 0.86, 8.0, 42.0, 49.0}</td>\n",
       "    </tr>\n",
       "    <tr>\n",
       "      <th>pack years</th>\n",
       "      <td>[20.0, 10.0, 40.0, 0.0, nan, 72.0, 12.0, 35.0, 15.0, 41.0, 60.0, 5.0, 25.0, 27.0, 160.0, 9.0, 30.0, 11.0, 45.0, 3.75, 48.0, 1.0, 64.0, 43.0, 2.14, 17.0, 30.86, 86.0, 1.71, 62.5, 66.0, 36.0, 0.1667, 10.5, 50.0, 8.0, 33.0, 100.0, 42.0, 1.43, 57.0, 54.0, 96.0, 14.0, 70.0, 6.75, 24.0, 0.6, 4.0]</td>\n",
       "      <td>[2.86, 0.14, 0.0, 5.71, 34.0, 20.0, 10.0, 15.0, 60.0, 30.0, 25.0, 4.29, nan, 35.0, 12.5, 8.57, 57.0, 80.0, 26.0, 40.0, 61.5, 48.0, 45.0, 7.5, 1.14, 1.25, 0.5, 0.29]</td>\n",
       "      <td>{0.14, nan, 2.86, 1.14, 4.29, 5.71, 1.25, 7.5, 8.57, 0.5, nan, 1.0, 12.5, 5.0, 8.0, 3.75, 9.0, 11.0, 12.0, 14.0, 1.43, 17.0, 4.0, 26.0, 24.0, 27.0, 30.86, 6.75, 33.0, 34.0, 36.0, 41.0, 42.0, 43.0, 50.0, 10.5, 54.0, 61.5, 62.5, 64.0, 0.1667, 66.0, 70.0, 72.0, 80.0, 86.0, 96.0, 100.0, 0.29, 0.6, 160.0, 1.71, 2.14}</td>\n",
       "    </tr>\n",
       "    <tr>\n",
       "      <th>oral hypoglycemic</th>\n",
       "      <td>[no, yes, nan]</td>\n",
       "      <td>[yes, no, nan]</td>\n",
       "      <td>{}</td>\n",
       "    </tr>\n",
       "    <tr>\n",
       "      <th>age</th>\n",
       "      <td>[70, 65, 74, 79, 60, 71, 67, 72, 62, 73, 75, 76, 64, 68, 78, 66, 80, 63, 61, 77, 54, 52, 53, 57, 59, 51, 50, 69, 55, 58]</td>\n",
       "      <td>[50, 69, 78, 65, 55, 67, 66, 74, 81, 57, 68, 58, 62, 83, 73, 59, 71, 53, 64, 52, 61, 51, 80, 76, 77, 60, 70, 56, 72, 54, 63]</td>\n",
       "      <td>{75, 79, 81, 83, 56}</td>\n",
       "    </tr>\n",
       "    <tr>\n",
       "      <th>htn family history</th>\n",
       "      <td>[0.0, 1.0, 2.0, 3.0, nan, 4.0]</td>\n",
       "      <td>[1.0, 0.0, 2.0, 3.0, nan, 4.0]</td>\n",
       "      <td>{nan, nan}</td>\n",
       "    </tr>\n",
       "    <tr>\n",
       "      <th>heartdisease family history</th>\n",
       "      <td>[1.0, 2.0, 0.0, 4.0, 3.0, nan]</td>\n",
       "      <td>[1.0, 3.0, 0.0, 2.0, nan]</td>\n",
       "      <td>{nan, 4.0, nan}</td>\n",
       "    </tr>\n",
       "    <tr>\n",
       "      <th>antihyperlipidemic</th>\n",
       "      <td>[no, yes, nan]</td>\n",
       "      <td>[no, yes, nan]</td>\n",
       "      <td>{}</td>\n",
       "    </tr>\n",
       "    <tr>\n",
       "      <th>height</th>\n",
       "      <td>[1.6383, 1.82, 1.7018, 1.6764, 1.5748, 1.5494, 1.8288, 1.6256, 1.8034, 1.7526, 1.651, 1.4732, 1.524, 1.49, 1.778, 1.6002, 1.7653, 1.8542, 1.7272, 1.6, 1.57, 1.4986, 1.7, 1.52, 1.502, 1.695, 1.68, 1.715, 1.72, 1.63, 1.8, 1.66, 1.73, 1.75, 1.61, 1.69, 1.64, 1.67, 1.65, 1.59, 1.78, 1.55, 1.47, 1.56, 1.74, nan, 1.83, 1.62, 1.81, 1.53]</td>\n",
       "      <td>[1.79, 1.531, 1.52, 1.575, 1.7, 1.5, 1.722, 1.68, 1.73, 1.807, 1.63, 1.6, 1.608, 1.62, 1.602, 1.54, 1.57, 1.66, 1.85, 1.46, 1.9, 1.59, 1.84, 1.64, 1.8, 1.75, 1.53, 1.76, 1.83, 1.72, 1.56, 1.65, 1.78, 1.71, 1.82, 1.74, 1.67, 1.77, 1.55, 1.61, 1.92, 1.69, 1.561, 1.557, 1.818, 1.768, 1.667, 1.727, 1.798, nan]</td>\n",
       "      <td>{nan, 1.79, 1.575, 1.531, 1.5, 1.722, 1.807, 1.92, 1.561, 1.8034, 1.84, 1.76, 1.667, 1.5748, 1.798, 1.651, 1.7653, 1.7272, nan, 1.85, 1.77, 1.818, 1.715, 1.6764, 1.8288, 1.7526, 1.54, 1.46, 1.71, 1.6383, 1.524, 1.6002, 1.768, 1.4986, 1.502, 1.47, 1.608, 1.9, 1.557, 1.7018, 1.6256, 1.778, 1.8542, 1.81, 1.602, 1.727, 1.5494, 1.4732, 1.49, 1.695}</td>\n",
       "    </tr>\n",
       "    <tr>\n",
       "      <th>mass</th>\n",
       "      <td>[71.66759446, 92.986, 68.0388555, 68.49244787, 64.86370891, 52.16312255, 72.5747792, 73.02837157, 95.2543977, 99.7903214, 66.67807839, 80.73944186, 73.93555631, 106.59420695, 54.4310844, 84.82177319, 63.5029318, 53.97749203, 73.48196394, 58.9670081, 67.58526313, 77.1107029, 90.718474, 62.14215469, 92.98643585, 76.20351816, 64.41011654, 60.78137758, 58.05982336, 70.30681735, 67.13167076, 54.88467677, 83.91458845, 57.60623099, 60.32778521, 65.31730128, 113.3980925, 79.37866475, 56.24545388, 114.30527724, 55.33826914, 77.11, 72.57, 45.81, 57.45, 72.25, 69.85, 64.41, 72.95, 91.63, 99.6, 82.9, 83.65, 92.6, 71.55, 112.35, 65.9, 84.5, 81.65, 78.85, 73.7, 66.5, 63.0, 63.25, 74.55, 78.45, 68.3, 75.85, 78.15, 66.2, 69.0, 68.0, 90.7, 51.5, 93.6, 85.9, 49.89, 79.25, 66.3, 83.91, 74.8, 90.72, 93.0, 81.45, 76.4, 94.55, 106.55, nan, 62.15, 96.2, 98.8, 61.0, 77.27, 78.2, 75.38, 85.15, 63.2, 67.9, 107.2, 68.75, ...]</td>\n",
       "      <td>[114.65, 56.9, 65.77, 73.5, 70.31, 83.46, 98.4, 85.28, 96.16, 71.67, 85.8, 63.5, 81.65, 56.25, 69.2, 48.99, 52.25, 65.65, 54.43, 88.8, 64.75, 74.6, 84.1, 95.4, 91.4, 65.2, 94.65, 74.25, 79.6, 84.0, 69.5, 124.0, 79.8, 96.95, 91.3, 75.85, 85.0, 81.95, 77.95, 99.05, 84.9, 83.5, 64.35, 95.25, 83.1, 84.05, 130.7, 86.05, 89.6, 122.5, 65.35, 63.8, 91.1, 81.15, 119.4, 77.5, 86.1, 60.5, 100.3, 78.8, 93.55, 121.6, 68.0, 69.0, 72.7, 69.85, 85.75, 63.96, 86.85, 85.3, 87.8, 89.65, 86.95, 75.15, 64.65, 79.5, 133.05, 92.85, 72.3, 80.74, 75.4, 93.6, 71.05, nan]</td>\n",
       "      <td>{nan, nan, 45.81, 48.99, 49.89, 51.5, 52.25, 52.16312255, 54.43, 53.97749203, 56.24545388, 57.60623099, 58.9670081, 58.05982336, 59.1, 61.0, 62.15, 60.78137758, 64.35, 65.31730128, 66.2, 67.58526313, 68.0388555, 65.35, 63.0, 63.8, 63.96, 64.75, 69.2, 75.15, 70.31, 77.5, 78.8, 79.5, 81.15, 83.5, 83.1, 85.75, 86.95, 85.3, 86.05, 89.6, 89.65, 86.1, 91.1, 86.85, 87.8, 91.4, 91.3, 94.65, 95.4, 96.16, 96.95, 98.4, 99.05, 95.25, 100.3, 106.59420695, 106.55, 107.2, 112.35, 113.3980925, 114.30527724, 114.65, 119.4, 121.6, 122.5, 124.0, 130.7, 133.05, 54.4310844, 54.88467677, 56.25, 57.45, 60.32778521, 60.5, 62.14215469, 63.5, 63.5029318, 63.2, 63.25, 64.41011654, 64.41, 64.86370891, 65.77, 65.65, 65.2, 65.9, 66.5, 66.67807839, 66.3, 67.13167076, 67.9, 68.49244787, 68.3, 68.75, 69.5, 70.30681735, 71.67, 71.05, ...}</td>\n",
       "    </tr>\n",
       "    <tr>\n",
       "      <th>previous alcohol use</th>\n",
       "      <td>[yes, no, nan]</td>\n",
       "      <td>[yes, no, nan]</td>\n",
       "      <td>{}</td>\n",
       "    </tr>\n",
       "    <tr>\n",
       "      <th>strokefamily history</th>\n",
       "      <td>[0.0, 1.0, 2.0, 3.0, nan]</td>\n",
       "      <td>[0.0, 1.0, 3.0, 2.0, nan]</td>\n",
       "      <td>{nan, nan}</td>\n",
       "    </tr>\n",
       "    <tr>\n",
       "      <th>dizziness autonomic symptoms</th>\n",
       "      <td>[no, yes, nan]</td>\n",
       "      <td>[no, yes]</td>\n",
       "      <td>{nan}</td>\n",
       "    </tr>\n",
       "    <tr>\n",
       "      <th>years</th>\n",
       "      <td>[40.0, 10.0, 0.0, nan, 36.0, 12.0, 25.0, 35.0, 1.0, 41.0, 60.0, 20.0, 27.0, 9.0, 55.0, 30.0, 15.0, 48.0, 2.0, 64.0, 43.0, 17.0, 24.0, 33.0, 5.0, 7.0, 50.0, 8.0, 22.0, 42.0, 57.0, 28.0, 45.0, 4.0]</td>\n",
       "      <td>[10.0, 1.0, 0.0, 20.0, 17.0, 15.0, 40.0, 30.0, 25.0, nan, 35.0, 57.0, 26.0, 3.0, 41.0, 2.0, 24.0, 5.0]</td>\n",
       "      <td>{nan, 3.0, nan, 4.0, 7.0, 8.0, 9.0, 12.0, 64.0, 22.0, 26.0, 27.0, 28.0, 33.0, 36.0, 42.0, 43.0, 45.0, 48.0, 50.0, 55.0, 60.0}</td>\n",
       "    </tr>\n",
       "    <tr>\n",
       "      <th>atrial fibtrillation patient medical history</th>\n",
       "      <td>[no, yes, nan]</td>\n",
       "      <td>[no, yes, nan]</td>\n",
       "      <td>{}</td>\n",
       "    </tr>\n",
       "    <tr>\n",
       "      <th>hyperlipidemia patient medical history</th>\n",
       "      <td>[no, yes, nan]</td>\n",
       "      <td>[no, yes]</td>\n",
       "      <td>{nan}</td>\n",
       "    </tr>\n",
       "    <tr>\n",
       "      <th>cancer# family history</th>\n",
       "      <td>[0.0, 3.0, 1.0, 2.0, nan, 5.0]</td>\n",
       "      <td>[1.0, 0.0, 2.0, 3.0, nan]</td>\n",
       "      <td>{nan, nan, 5.0}</td>\n",
       "    </tr>\n",
       "    <tr>\n",
       "      <th>diuretics</th>\n",
       "      <td>[no, yes, nan]</td>\n",
       "      <td>[no, yes, nan]</td>\n",
       "      <td>{}</td>\n",
       "    </tr>\n",
       "    <tr>\n",
       "      <th>numbness autonomic symptoms</th>\n",
       "      <td>[no, yes, nan, 20]</td>\n",
       "      <td>[no, yes, nan]</td>\n",
       "      <td>{20}</td>\n",
       "    </tr>\n",
       "    <tr>\n",
       "      <th>ca ++ blockers</th>\n",
       "      <td>[no, yes, nan]</td>\n",
       "      <td>[no, yes, nan]</td>\n",
       "      <td>{}</td>\n",
       "    </tr>\n",
       "    <tr>\n",
       "      <th>painful feet autonomic symptoms</th>\n",
       "      <td>[no, yes, nan]</td>\n",
       "      <td>[no, yes, nan]</td>\n",
       "      <td>{}</td>\n",
       "    </tr>\n",
       "    <tr>\n",
       "      <th>diabetes</th>\n",
       "      <td>[no, nan, yes]</td>\n",
       "      <td>[dm, nondm]</td>\n",
       "      <td>{nan, yes, nondm, dm, no}</td>\n",
       "    </tr>\n",
       "    <tr>\n",
       "      <th>anticoagulants</th>\n",
       "      <td>[no, yes, nan]</td>\n",
       "      <td>[no, yes, nan]</td>\n",
       "      <td>{}</td>\n",
       "    </tr>\n",
       "    <tr>\n",
       "      <th>estrogen</th>\n",
       "      <td>[no, yes, nan]</td>\n",
       "      <td>[no, yes, nan]</td>\n",
       "      <td>{}</td>\n",
       "    </tr>\n",
       "    <tr>\n",
       "      <th>bmi</th>\n",
       "      <td>[26.7015187989, 28.0720927424, 23.493080184, 24.3717875403, 26.1547736442, 21.72883678, 25.5016055057, 21.6996783839, 27.6353033012, 29.2887545575, 32.4879872969, 23.0232185803, 26.2857351766, 27.124341179, 31.8714026264, 25.079770974, 31.1181092053, 23.2969801537, 18.6378436126, 26.9579341779, 27.9274860801, 26.5605189406, 23.3364596494, 24.3922099058, 28.6967175363, 25.0592855296, 25.8856577293, 28.5914032585, 28.8368382274, 24.373994216, 22.2401159075, 23.7367910485, 23.4112659193, 30.1315534131, 24.5630328818, 23.431003646, 21.6178902686, 21.5422178534, 21.079687573, 21.9268748384, 19.5297105455, 25.7930851702, 26.6054162217, 27.1203597615, 24.2103849738, 27.7058757223, 35.4280463411, 21.0335592244, 28.9747988936, 21.2867087261, 23.9961936614, 21.4393268633, 24.4747394255, 29.0841768078, 27.7321889747, 34.8675649494, 27.9640682039, 24.4072954646, 24.2168410765, 27.1156311707, 24.0306985228, 18.9510846817, 36.1578640957, 24.3276671155, 24.2761828568, 35.5085646282, 19.1077052163...</td>\n",
       "      <td>[35.782279, 24.2751479, 28.4669321, 29.6296296, 24.3287197, 37.0933333, 33.1840053, 30.2154195, 32.1293728, 25.3932823, 26.2767097, 23.9000339, 31.8945313, 24.3464335, 26.7629514, 21.2041205, 19.9093126, 25.5805399, 23.5586911, 25.6914062, 37.4430764, 26.2688142, 27.072144, 31.6534307, 27.8743608, 32.3837868, 30.5873522, 26.2188366, 29.3698825, 27.5432526, 24.8109641, 25.8402736, 38.2716049, 26.0571429, 29.9228395, 39.0020932, 33.7111111, 28.400548, 26.4559659, 31.624001, 27.6063355, 29.576876, 28.6979448, 34.3113083, 23.6363636, 30.0624921, 26.227749, 28.743887, 40.3395062, 29.7750865, 26.7550539, 38.6630476, 25.5273437, 22.6048753, 35.5859375, 24.4988528, 37.2647545, 25.5978333, 36.3046045, 21.6931407, 33.1285507, 23.0241052, 20.8326531, 33.1455499, 45.7676239, 26.5625, 26.2917238, 23.2053369, 23.6107355, 30.7468895, 26.6222685, 36.1498439, 32.907681, 23.8172743, 34.160189, 29.0520899, 26.3121039, 26.5315561, 32.793661, 40.2556757, 29.7041676, 26.0175919, 27.0709857, 24.6204082, ...</td>\n",
       "      <td>{nan, nan, 18.6378436126, 19.9093126, 20.8326531, 21.2041205, 21.6931407, 23.5586911, 24.5630328818, 25.4653803805, 24.3464335, 27.9640682039, 25.8402736, 26.2688142, 26.2188366, 26.0571429, 26.4559659, 26.227749, 27.072144, 27.8743608, 27.5432526, 28.400548, 29.3698825, 31.8945313, 32.1293728, 33.1840053, 35.782279, 37.0933333, 37.4430764, 38.2716049, 39.0020932, 40.3395062, 45.7676239, 40.2556757, 21.079687573, 23.8445265158, 23.9961936614, 23.3364596494, 24.3526170799, 24.27734375, 24.7484410431, 24.6204082, 24.3922099058, 25.5016055057, 25.7930851702, 24.373994216, 25.079770974, 24.7474542578, 26.2857351766, 26.9024970273, 26.9579341779, 26.2917238, 26.5625, 27.6063355, 26.0175919, 27.1156311707, 26.7455363623, 28.743887, 28.6967175363, 28.5879345961, 28.7052341598, 29.576876, 29.6296296, 29.0520899, 29.7750865, 29.2887545575, 30.0624921, 29.0190643591, 30.12109375, 31.6534307, 31.1181092053, 31.8714026264, 31.4840603711, 31.1728843083, 31.462585034, 32.907681, 32.793661, 32.48...</td>\n",
       "    </tr>\n",
       "    <tr>\n",
       "      <th>insulin(yes or no)</th>\n",
       "      <td>[no, nan]</td>\n",
       "      <td>[no, yes, nan]</td>\n",
       "      <td>{yes}</td>\n",
       "    </tr>\n",
       "    <tr>\n",
       "      <th>cancer patient medical history</th>\n",
       "      <td>[no, yes, nan]</td>\n",
       "      <td>[no, yes]</td>\n",
       "      <td>{nan}</td>\n",
       "    </tr>\n",
       "    <tr>\n",
       "      <th>gender</th>\n",
       "      <td>[f, m]</td>\n",
       "      <td>[male, female]</td>\n",
       "      <td>{male, female, f, m}</td>\n",
       "    </tr>\n",
       "    <tr>\n",
       "      <th>dm family history</th>\n",
       "      <td>[0.0, 1.0, 2.0, nan, 3.0, 4.0]</td>\n",
       "      <td>[1.0, 0.0, 3.0, 2.0, 4.0, nan]</td>\n",
       "      <td>{nan, nan}</td>\n",
       "    </tr>\n",
       "    <tr>\n",
       "      <th>stroke patient medical history</th>\n",
       "      <td>[control, stroke]</td>\n",
       "      <td>[no, tia]</td>\n",
       "      <td>{control, stroke, no, tia}</td>\n",
       "    </tr>\n",
       "  </tbody>\n",
       "</table>\n",
       "</div>"
      ],
      "text/plain": [
       "                                                                                                                                                                                                                                                                                                                                                                                                                                                                                                                                                                                                                                                                                                                                                                                                                                                                                                                                                                                                                                                                                           stroke  \\\n",
       "arbs                                                                                                                                                                                                                                                                                                                                                                                                                                                                                                                                                                                                                                                                                                                                                                                                                                                                                                                                                                                                                                                                               [yes, no, nan]   \n",
       "syncope autonomic symptoms                                                                                                                                                                                                                                                                                                                                                                                                                                                                                                                                                                                                                                                                                                                                                                                                                                                                                                                                                                                                                                                         [no, yes, nan]   \n",
       "statins                                                                                                                                                                                                                                                                                                                                                                                                                                                                                                                                                                                                                                                                                                                                                                                                                                                                                                                                                                                                                                                                            [no, yes, nan]   \n",
       "patient id                                                                                                                                                                                                                                                                                                                                                      [s0011, s0033, s0044, s0067, s0068, s0078, s0098, s0121, s0132, s0147, s0151, s0153, s0154, s0157, s0160, s0162, s0163, s0164, s0165, s0166, s0169, s0172, s0174, s0175, s0176, s0177, s0178, s0181, s0182, s0183, s0184, s0185, s0187, s0188, s0194, s0197, s0200, s0203, s0204, s0205, s0206, s0207, s0208, s0209, s0210, s0211, s0212, s0213, s0215, s0216, s0217, s0218, s0219, s0220, s0221, s0222, s0223, s0225, s0226, s0227, s0228, s0229, s0231, s0232, s0233, s0235, s0236, s0238, s0239, s0240, s0241, s0242, s0243, s0244, s0245, s0246, s0247, s0248, s0249, s0261, s0275, s0277, s0295, s0305, s0307, s0313, s0319, s0321, s0322, s0324, s0325, s0329, s0331, s0332, s0334, s0335, s0336, s0337, s0338, s0340, ...]   \n",
       "neuropathy autonomic symptoms                                                                                                                                                                                                                                                                                                                                                                                                                                                                                                                                                                                                                                                                                                                                                                                                                                                                                                                                                                                                                                                      [no, yes, nan]   \n",
       "beta blockers                                                                                                                                                                                                                                                                                                                                                                                                                                                                                                                                                                                                                                                                                                                                                                                                                                                                                                                                                                                                                                                                      [no, yes, nan]   \n",
       "current tobacco use                                                                                                                                                                                                                                                                                                                                                                                                                                                                                                                                                                                                                                                                                                                                                                                                                                                                                                                                                                                                                                                                [no, nan, yes]   \n",
       "heart failure =chf /ifarction=mi patient medical history                                                                                                                                                                                                                                                                                                                                                                                                                                                                                                                                                                                                                                                                                                                                                                                                                                                                                                                                                                                                                           [no, nan, yes]   \n",
       "previous tobacco use                                                                                                                                                                                                                                                                                                                                                                                                                                                                                                                                                                                                                                                                                                                                                                                                                                                                                                                                                                                                                                                               [yes, no, nan]   \n",
       "ace inhibitors                                                                                                                                                                                                                                                                                                                                                                                                                                                                                                                                                                                                                                                                                                                                                                                                                                                                                                                                                                                                                                                                     [no, yes, nan]   \n",
       "antiparkinsonian                                                                                                                                                                                                                                                                                                                                                                                                                                                                                                                                                                                                                                                                                                                                                                                                                                                                                                                                                                                                                                                                        [no, nan]   \n",
       "antiplatelets                                                                                                                                                                                                                                                                                                                                                                                                                                                                                                                                                                                                                                                                                                                                                                                                                                                                                                                                                                                                                                                                      [no, yes, nan]   \n",
       "oh autonomic symptoms                                                                                                                                                                                                                                                                                                                                                                                                                                                                                                                                                                                                                                                                                                                                                                                                                                                                                                                                                                                                                                                              [no, yes, nan]   \n",
       "alcohol dose/week                                                                                                                                                                                                                                                                                                                                                                                                                                                                                                                                                                                                                                                                                                                                                                                                                                                                                                                            [0.0, 1.0, 2.0, 7.0, 4.0, 3.0, 5.0, 15.0, 12.0, 20.0, 70.0, nan, 10.0, 1.5, 2.5, 28.0, 21.0, 6.0, 10.5, 49.0, 0.5, 0.25, 8.0, 3.5, 42.0, 14.0, 24.0]   \n",
       "pack years                                                                                                                                                                                                                                                                                                                                                                                                                                                                                                                                                                                                                                                                                                                                                                                    [20.0, 10.0, 40.0, 0.0, nan, 72.0, 12.0, 35.0, 15.0, 41.0, 60.0, 5.0, 25.0, 27.0, 160.0, 9.0, 30.0, 11.0, 45.0, 3.75, 48.0, 1.0, 64.0, 43.0, 2.14, 17.0, 30.86, 86.0, 1.71, 62.5, 66.0, 36.0, 0.1667, 10.5, 50.0, 8.0, 33.0, 100.0, 42.0, 1.43, 57.0, 54.0, 96.0, 14.0, 70.0, 6.75, 24.0, 0.6, 4.0]   \n",
       "oral hypoglycemic                                                                                                                                                                                                                                                                                                                                                                                                                                                                                                                                                                                                                                                                                                                                                                                                                                                                                                                                                                                                                                                                  [no, yes, nan]   \n",
       "age                                                                                                                                                                                                                                                                                                                                                                                                                                                                                                                                                                                                                                                                                                                                                                                                                                                                                                                                                                      [70, 65, 74, 79, 60, 71, 67, 72, 62, 73, 75, 76, 64, 68, 78, 66, 80, 63, 61, 77, 54, 52, 53, 57, 59, 51, 50, 69, 55, 58]   \n",
       "htn family history                                                                                                                                                                                                                                                                                                                                                                                                                                                                                                                                                                                                                                                                                                                                                                                                                                                                                                                                                                                                                                                 [0.0, 1.0, 2.0, 3.0, nan, 4.0]   \n",
       "heartdisease family history                                                                                                                                                                                                                                                                                                                                                                                                                                                                                                                                                                                                                                                                                                                                                                                                                                                                                                                                                                                                                                        [1.0, 2.0, 0.0, 4.0, 3.0, nan]   \n",
       "antihyperlipidemic                                                                                                                                                                                                                                                                                                                                                                                                                                                                                                                                                                                                                                                                                                                                                                                                                                                                                                                                                                                                                                                                 [no, yes, nan]   \n",
       "height                                                                                                                                                                                                                                                                                                                                                                                                                                                                                                                                                                                                                                                                                                                                               [1.6383, 1.82, 1.7018, 1.6764, 1.5748, 1.5494, 1.8288, 1.6256, 1.8034, 1.7526, 1.651, 1.4732, 1.524, 1.49, 1.778, 1.6002, 1.7653, 1.8542, 1.7272, 1.6, 1.57, 1.4986, 1.7, 1.52, 1.502, 1.695, 1.68, 1.715, 1.72, 1.63, 1.8, 1.66, 1.73, 1.75, 1.61, 1.69, 1.64, 1.67, 1.65, 1.59, 1.78, 1.55, 1.47, 1.56, 1.74, nan, 1.83, 1.62, 1.81, 1.53]   \n",
       "mass                                                                                                                                             [71.66759446, 92.986, 68.0388555, 68.49244787, 64.86370891, 52.16312255, 72.5747792, 73.02837157, 95.2543977, 99.7903214, 66.67807839, 80.73944186, 73.93555631, 106.59420695, 54.4310844, 84.82177319, 63.5029318, 53.97749203, 73.48196394, 58.9670081, 67.58526313, 77.1107029, 90.718474, 62.14215469, 92.98643585, 76.20351816, 64.41011654, 60.78137758, 58.05982336, 70.30681735, 67.13167076, 54.88467677, 83.91458845, 57.60623099, 60.32778521, 65.31730128, 113.3980925, 79.37866475, 56.24545388, 114.30527724, 55.33826914, 77.11, 72.57, 45.81, 57.45, 72.25, 69.85, 64.41, 72.95, 91.63, 99.6, 82.9, 83.65, 92.6, 71.55, 112.35, 65.9, 84.5, 81.65, 78.85, 73.7, 66.5, 63.0, 63.25, 74.55, 78.45, 68.3, 75.85, 78.15, 66.2, 69.0, 68.0, 90.7, 51.5, 93.6, 85.9, 49.89, 79.25, 66.3, 83.91, 74.8, 90.72, 93.0, 81.45, 76.4, 94.55, 106.55, nan, 62.15, 96.2, 98.8, 61.0, 77.27, 78.2, 75.38, 85.15, 63.2, 67.9, 107.2, 68.75, ...]   \n",
       "previous alcohol use                                                                                                                                                                                                                                                                                                                                                                                                                                                                                                                                                                                                                                                                                                                                                                                                                                                                                                                                                                                                                                                               [yes, no, nan]   \n",
       "strokefamily history                                                                                                                                                                                                                                                                                                                                                                                                                                                                                                                                                                                                                                                                                                                                                                                                                                                                                                                                                                                                                                                    [0.0, 1.0, 2.0, 3.0, nan]   \n",
       "dizziness autonomic symptoms                                                                                                                                                                                                                                                                                                                                                                                                                                                                                                                                                                                                                                                                                                                                                                                                                                                                                                                                                                                                                                                       [no, yes, nan]   \n",
       "years                                                                                                                                                                                                                                                                                                                                                                                                                                                                                                                                                                                                                                                                                                                                                                                                                                                                                         [40.0, 10.0, 0.0, nan, 36.0, 12.0, 25.0, 35.0, 1.0, 41.0, 60.0, 20.0, 27.0, 9.0, 55.0, 30.0, 15.0, 48.0, 2.0, 64.0, 43.0, 17.0, 24.0, 33.0, 5.0, 7.0, 50.0, 8.0, 22.0, 42.0, 57.0, 28.0, 45.0, 4.0]   \n",
       "atrial fibtrillation patient medical history                                                                                                                                                                                                                                                                                                                                                                                                                                                                                                                                                                                                                                                                                                                                                                                                                                                                                                                                                                                                                                       [no, yes, nan]   \n",
       "hyperlipidemia patient medical history                                                                                                                                                                                                                                                                                                                                                                                                                                                                                                                                                                                                                                                                                                                                                                                                                                                                                                                                                                                                                                             [no, yes, nan]   \n",
       "cancer# family history                                                                                                                                                                                                                                                                                                                                                                                                                                                                                                                                                                                                                                                                                                                                                                                                                                                                                                                                                                                                                                             [0.0, 3.0, 1.0, 2.0, nan, 5.0]   \n",
       "diuretics                                                                                                                                                                                                                                                                                                                                                                                                                                                                                                                                                                                                                                                                                                                                                                                                                                                                                                                                                                                                                                                                          [no, yes, nan]   \n",
       "numbness autonomic symptoms                                                                                                                                                                                                                                                                                                                                                                                                                                                                                                                                                                                                                                                                                                                                                                                                                                                                                                                                                                                                                                                    [no, yes, nan, 20]   \n",
       "ca ++ blockers                                                                                                                                                                                                                                                                                                                                                                                                                                                                                                                                                                                                                                                                                                                                                                                                                                                                                                                                                                                                                                                                     [no, yes, nan]   \n",
       "painful feet autonomic symptoms                                                                                                                                                                                                                                                                                                                                                                                                                                                                                                                                                                                                                                                                                                                                                                                                                                                                                                                                                                                                                                                    [no, yes, nan]   \n",
       "diabetes                                                                                                                                                                                                                                                                                                                                                                                                                                                                                                                                                                                                                                                                                                                                                                                                                                                                                                                                                                                                                                                                           [no, nan, yes]   \n",
       "anticoagulants                                                                                                                                                                                                                                                                                                                                                                                                                                                                                                                                                                                                                                                                                                                                                                                                                                                                                                                                                                                                                                                                     [no, yes, nan]   \n",
       "estrogen                                                                                                                                                                                                                                                                                                                                                                                                                                                                                                                                                                                                                                                                                                                                                                                                                                                                                                                                                                                                                                                                           [no, yes, nan]   \n",
       "bmi                                                       [26.7015187989, 28.0720927424, 23.493080184, 24.3717875403, 26.1547736442, 21.72883678, 25.5016055057, 21.6996783839, 27.6353033012, 29.2887545575, 32.4879872969, 23.0232185803, 26.2857351766, 27.124341179, 31.8714026264, 25.079770974, 31.1181092053, 23.2969801537, 18.6378436126, 26.9579341779, 27.9274860801, 26.5605189406, 23.3364596494, 24.3922099058, 28.6967175363, 25.0592855296, 25.8856577293, 28.5914032585, 28.8368382274, 24.373994216, 22.2401159075, 23.7367910485, 23.4112659193, 30.1315534131, 24.5630328818, 23.431003646, 21.6178902686, 21.5422178534, 21.079687573, 21.9268748384, 19.5297105455, 25.7930851702, 26.6054162217, 27.1203597615, 24.2103849738, 27.7058757223, 35.4280463411, 21.0335592244, 28.9747988936, 21.2867087261, 23.9961936614, 21.4393268633, 24.4747394255, 29.0841768078, 27.7321889747, 34.8675649494, 27.9640682039, 24.4072954646, 24.2168410765, 27.1156311707, 24.0306985228, 18.9510846817, 36.1578640957, 24.3276671155, 24.2761828568, 35.5085646282, 19.1077052163...   \n",
       "insulin(yes or no)                                                                                                                                                                                                                                                                                                                                                                                                                                                                                                                                                                                                                                                                                                                                                                                                                                                                                                                                                                                                                                                                      [no, nan]   \n",
       "cancer patient medical history                                                                                                                                                                                                                                                                                                                                                                                                                                                                                                                                                                                                                                                                                                                                                                                                                                                                                                                                                                                                                                                     [no, yes, nan]   \n",
       "gender                                                                                                                                                                                                                                                                                                                                                                                                                                                                                                                                                                                                                                                                                                                                                                                                                                                                                                                                                                                                                                                                                     [f, m]   \n",
       "dm family history                                                                                                                                                                                                                                                                                                                                                                                                                                                                                                                                                                                                                                                                                                                                                                                                                                                                                                                                                                                                                                                  [0.0, 1.0, 2.0, nan, 3.0, 4.0]   \n",
       "stroke patient medical history                                                                                                                                                                                                                                                                                                                                                                                                                                                                                                                                                                                                                                                                                                                                                                                                                                                                                                                                                                                                                                                  [control, stroke]   \n",
       "\n",
       "                                                                                                                                                                                                                                                                                                                                                                                                                                                                                                                                                                                                                                                                                                                                                                                                                                                                                                                                                                                                                                                                                        perfusion  \\\n",
       "arbs                                                                                                                                                                                                                                                                                                                                                                                                                                                                                                                                                                                                                                                                                                                                                                                                                                                                                                                                                                                                                                                                               [no, yes, nan]   \n",
       "syncope autonomic symptoms                                                                                                                                                                                                                                                                                                                                                                                                                                                                                                                                                                                                                                                                                                                                                                                                                                                                                                                                                                                                                                                         [no, yes, nan]   \n",
       "statins                                                                                                                                                                                                                                                                                                                                                                                                                                                                                                                                                                                                                                                                                                                                                                                                                                                                                                                                                                                                                                                                            [no, yes, nan]   \n",
       "patient id                                                                                                                                                                                                                                                                                                                                                                                                                                                      [s0250, s0254, s0255, s0256, s0257, s0262, s0264, s0267, s0270, s0271, s0273, s0274, s0279, s0281, s0282, s0283, s0287, s0288, s0290, s0292, s0294, s0296, s0300, s0301, s0302, s0303, s0304, s0306, s0308, s0310, s0312, s0314, s0315, s0316, s0317, s0318, s0320, s0323, s0326, s0327, s0328, s0330, s0333, s0339, s0342, s0349, s0360, s0365, s0366, s0368, s0372, s0375, s0381, s0382, s0386, s0390, s0391, s0392, s0393, s0395, s0398, s0403, s0405, s0406, s0407, s0408, s0409, s0410, s0411, s0416, s0417, s0420, s0421, s0422, s0423, s0424, s0426, s0427, s0430, s0431, s0432, s0433, s0434, s0435, s0438, s0441, s0443]   \n",
       "neuropathy autonomic symptoms                                                                                                                                                                                                                                                                                                                                                                                                                                                                                                                                                                                                                                                                                                                                                                                                                                                                                                                                                                                                                                                           [no, yes]   \n",
       "beta blockers                                                                                                                                                                                                                                                                                                                                                                                                                                                                                                                                                                                                                                                                                                                                                                                                                                                                                                                                                                                                                                                                      [no, yes, nan]   \n",
       "current tobacco use                                                                                                                                                                                                                                                                                                                                                                                                                                                                                                                                                                                                                                                                                                                                                                                                                                                                                                                                                                                                                                                                [no, yes, nan]   \n",
       "heart failure =chf /ifarction=mi patient medical history                                                                                                                                                                                                                                                                                                                                                                                                                                                                                                                                                                                                                                                                                                                                                                                                                                                                                                                                                                                                                           [no, nan, yes]   \n",
       "previous tobacco use                                                                                                                                                                                                                                                                                                                                                                                                                                                                                                                                                                                                                                                                                                                                                                                                                                                                                                                                                                                                                                                               [yes, no, nan]   \n",
       "ace inhibitors                                                                                                                                                                                                                                                                                                                                                                                                                                                                                                                                                                                                                                                                                                                                                                                                                                                                                                                                                                                                                                                                     [no, yes, nan]   \n",
       "antiparkinsonian                                                                                                                                                                                                                                                                                                                                                                                                                                                                                                                                                                                                                                                                                                                                                                                                                                                                                                                                                                                                                                                                   [no, yes, nan]   \n",
       "antiplatelets                                                                                                                                                                                                                                                                                                                                                                                                                                                                                                                                                                                                                                                                                                                                                                                                                                                                                                                                                                                                                                                                      [no, yes, nan]   \n",
       "oh autonomic symptoms                                                                                                                                                                                                                                                                                                                                                                                                                                                                                                                                                                                                                                                                                                                                                                                                                                                                                                                                                                                                                                                              [no, yes, nan]   \n",
       "alcohol dose/week                                                                                                                                                                                                                                                                                                                                                                                                                                                                                                                                                                                                                                                                                                                                                                                                                                                                                                                                                                              [7.0, 0.5, 9.0, 3.0, 0.0, nan, 0.25, 1.0, 70.0, 4.0, 14.0, 2.0, 35.0, 0.86, 21.0, 25.0, 5.0, 10.0]   \n",
       "pack years                                                                                                                                                                                                                                                                                                                                                                                                                                                                                                                                                                                                                                                                                                                                                                                                                                                                                                                   [2.86, 0.14, 0.0, 5.71, 34.0, 20.0, 10.0, 15.0, 60.0, 30.0, 25.0, 4.29, nan, 35.0, 12.5, 8.57, 57.0, 80.0, 26.0, 40.0, 61.5, 48.0, 45.0, 7.5, 1.14, 1.25, 0.5, 0.29]   \n",
       "oral hypoglycemic                                                                                                                                                                                                                                                                                                                                                                                                                                                                                                                                                                                                                                                                                                                                                                                                                                                                                                                                                                                                                                                                  [yes, no, nan]   \n",
       "age                                                                                                                                                                                                                                                                                                                                                                                                                                                                                                                                                                                                                                                                                                                                                                                                                                                                                                                                                                  [50, 69, 78, 65, 55, 67, 66, 74, 81, 57, 68, 58, 62, 83, 73, 59, 71, 53, 64, 52, 61, 51, 80, 76, 77, 60, 70, 56, 72, 54, 63]   \n",
       "htn family history                                                                                                                                                                                                                                                                                                                                                                                                                                                                                                                                                                                                                                                                                                                                                                                                                                                                                                                                                                                                                                                 [1.0, 0.0, 2.0, 3.0, nan, 4.0]   \n",
       "heartdisease family history                                                                                                                                                                                                                                                                                                                                                                                                                                                                                                                                                                                                                                                                                                                                                                                                                                                                                                                                                                                                                                             [1.0, 3.0, 0.0, 2.0, nan]   \n",
       "antihyperlipidemic                                                                                                                                                                                                                                                                                                                                                                                                                                                                                                                                                                                                                                                                                                                                                                                                                                                                                                                                                                                                                                                                 [no, yes, nan]   \n",
       "height                                                                                                                                                                                                                                                                                                                                                                                                                                                                                                                                                                                                                                                                                                                                                                        [1.79, 1.531, 1.52, 1.575, 1.7, 1.5, 1.722, 1.68, 1.73, 1.807, 1.63, 1.6, 1.608, 1.62, 1.602, 1.54, 1.57, 1.66, 1.85, 1.46, 1.9, 1.59, 1.84, 1.64, 1.8, 1.75, 1.53, 1.76, 1.83, 1.72, 1.56, 1.65, 1.78, 1.71, 1.82, 1.74, 1.67, 1.77, 1.55, 1.61, 1.92, 1.69, 1.561, 1.557, 1.818, 1.768, 1.667, 1.727, 1.798, nan]   \n",
       "mass                                                                                                                                                                                                                                                                                                                                                                                                                                                                                                                      [114.65, 56.9, 65.77, 73.5, 70.31, 83.46, 98.4, 85.28, 96.16, 71.67, 85.8, 63.5, 81.65, 56.25, 69.2, 48.99, 52.25, 65.65, 54.43, 88.8, 64.75, 74.6, 84.1, 95.4, 91.4, 65.2, 94.65, 74.25, 79.6, 84.0, 69.5, 124.0, 79.8, 96.95, 91.3, 75.85, 85.0, 81.95, 77.95, 99.05, 84.9, 83.5, 64.35, 95.25, 83.1, 84.05, 130.7, 86.05, 89.6, 122.5, 65.35, 63.8, 91.1, 81.15, 119.4, 77.5, 86.1, 60.5, 100.3, 78.8, 93.55, 121.6, 68.0, 69.0, 72.7, 69.85, 85.75, 63.96, 86.85, 85.3, 87.8, 89.65, 86.95, 75.15, 64.65, 79.5, 133.05, 92.85, 72.3, 80.74, 75.4, 93.6, 71.05, nan]   \n",
       "previous alcohol use                                                                                                                                                                                                                                                                                                                                                                                                                                                                                                                                                                                                                                                                                                                                                                                                                                                                                                                                                                                                                                                               [yes, no, nan]   \n",
       "strokefamily history                                                                                                                                                                                                                                                                                                                                                                                                                                                                                                                                                                                                                                                                                                                                                                                                                                                                                                                                                                                                                                                    [0.0, 1.0, 3.0, 2.0, nan]   \n",
       "dizziness autonomic symptoms                                                                                                                                                                                                                                                                                                                                                                                                                                                                                                                                                                                                                                                                                                                                                                                                                                                                                                                                                                                                                                                            [no, yes]   \n",
       "years                                                                                                                                                                                                                                                                                                                                                                                                                                                                                                                                                                                                                                                                                                                                                                                                                                                                                                                                                                                      [10.0, 1.0, 0.0, 20.0, 17.0, 15.0, 40.0, 30.0, 25.0, nan, 35.0, 57.0, 26.0, 3.0, 41.0, 2.0, 24.0, 5.0]   \n",
       "atrial fibtrillation patient medical history                                                                                                                                                                                                                                                                                                                                                                                                                                                                                                                                                                                                                                                                                                                                                                                                                                                                                                                                                                                                                                       [no, yes, nan]   \n",
       "hyperlipidemia patient medical history                                                                                                                                                                                                                                                                                                                                                                                                                                                                                                                                                                                                                                                                                                                                                                                                                                                                                                                                                                                                                                                  [no, yes]   \n",
       "cancer# family history                                                                                                                                                                                                                                                                                                                                                                                                                                                                                                                                                                                                                                                                                                                                                                                                                                                                                                                                                                                                                                                  [1.0, 0.0, 2.0, 3.0, nan]   \n",
       "diuretics                                                                                                                                                                                                                                                                                                                                                                                                                                                                                                                                                                                                                                                                                                                                                                                                                                                                                                                                                                                                                                                                          [no, yes, nan]   \n",
       "numbness autonomic symptoms                                                                                                                                                                                                                                                                                                                                                                                                                                                                                                                                                                                                                                                                                                                                                                                                                                                                                                                                                                                                                                                        [no, yes, nan]   \n",
       "ca ++ blockers                                                                                                                                                                                                                                                                                                                                                                                                                                                                                                                                                                                                                                                                                                                                                                                                                                                                                                                                                                                                                                                                     [no, yes, nan]   \n",
       "painful feet autonomic symptoms                                                                                                                                                                                                                                                                                                                                                                                                                                                                                                                                                                                                                                                                                                                                                                                                                                                                                                                                                                                                                                                    [no, yes, nan]   \n",
       "diabetes                                                                                                                                                                                                                                                                                                                                                                                                                                                                                                                                                                                                                                                                                                                                                                                                                                                                                                                                                                                                                                                                              [dm, nondm]   \n",
       "anticoagulants                                                                                                                                                                                                                                                                                                                                                                                                                                                                                                                                                                                                                                                                                                                                                                                                                                                                                                                                                                                                                                                                     [no, yes, nan]   \n",
       "estrogen                                                                                                                                                                                                                                                                                                                                                                                                                                                                                                                                                                                                                                                                                                                                                                                                                                                                                                                                                                                                                                                                           [no, yes, nan]   \n",
       "bmi                                                       [35.782279, 24.2751479, 28.4669321, 29.6296296, 24.3287197, 37.0933333, 33.1840053, 30.2154195, 32.1293728, 25.3932823, 26.2767097, 23.9000339, 31.8945313, 24.3464335, 26.7629514, 21.2041205, 19.9093126, 25.5805399, 23.5586911, 25.6914062, 37.4430764, 26.2688142, 27.072144, 31.6534307, 27.8743608, 32.3837868, 30.5873522, 26.2188366, 29.3698825, 27.5432526, 24.8109641, 25.8402736, 38.2716049, 26.0571429, 29.9228395, 39.0020932, 33.7111111, 28.400548, 26.4559659, 31.624001, 27.6063355, 29.576876, 28.6979448, 34.3113083, 23.6363636, 30.0624921, 26.227749, 28.743887, 40.3395062, 29.7750865, 26.7550539, 38.6630476, 25.5273437, 22.6048753, 35.5859375, 24.4988528, 37.2647545, 25.5978333, 36.3046045, 21.6931407, 33.1285507, 23.0241052, 20.8326531, 33.1455499, 45.7676239, 26.5625, 26.2917238, 23.2053369, 23.6107355, 30.7468895, 26.6222685, 36.1498439, 32.907681, 23.8172743, 34.160189, 29.0520899, 26.3121039, 26.5315561, 32.793661, 40.2556757, 29.7041676, 26.0175919, 27.0709857, 24.6204082, ...   \n",
       "insulin(yes or no)                                                                                                                                                                                                                                                                                                                                                                                                                                                                                                                                                                                                                                                                                                                                                                                                                                                                                                                                                                                                                                                                 [no, yes, nan]   \n",
       "cancer patient medical history                                                                                                                                                                                                                                                                                                                                                                                                                                                                                                                                                                                                                                                                                                                                                                                                                                                                                                                                                                                                                                                          [no, yes]   \n",
       "gender                                                                                                                                                                                                                                                                                                                                                                                                                                                                                                                                                                                                                                                                                                                                                                                                                                                                                                                                                                                                                                                                             [male, female]   \n",
       "dm family history                                                                                                                                                                                                                                                                                                                                                                                                                                                                                                                                                                                                                                                                                                                                                                                                                                                                                                                                                                                                                                                  [1.0, 0.0, 3.0, 2.0, 4.0, nan]   \n",
       "stroke patient medical history                                                                                                                                                                                                                                                                                                                                                                                                                                                                                                                                                                                                                                                                                                                                                                                                                                                                                                                                                                                                                                                          [no, tia]   \n",
       "\n",
       "                                                                                                                                                                                                                                                                                                                                                                                                                                                                                                                                                                                                                                                                                                                                                                                                                                                                                                                                                                                                                                                                                   symmetric_diff  \n",
       "arbs                                                                                                                                                                                                                                                                                                                                                                                                                                                                                                                                                                                                                                                                                                                                                                                                                                                                                                                                                                                                                                                                                           {}  \n",
       "syncope autonomic symptoms                                                                                                                                                                                                                                                                                                                                                                                                                                                                                                                                                                                                                                                                                                                                                                                                                                                                                                                                                                                                                                                                     {}  \n",
       "statins                                                                                                                                                                                                                                                                                                                                                                                                                                                                                                                                                                                                                                                                                                                                                                                                                                                                                                                                                                                                                                                                                        {}  \n",
       "patient id                                                                                                                                                                                                                                                                                                                                                      {s0341, s0371, s0406, s0390, s0169, s0336, s0302, s0255, s0330, s0187, s0416, s0402, s0166, s0338, s0235, s0366, s0380, s0404, s0287, s0411, s0165, s0177, s0290, s0068, s0262, s0203, s0164, s0353, s0432, s0267, s0211, s0333, s0347, s0328, s0162, s0369, s0151, s0326, s0422, s0271, s0433, s0200, s0315, s0175, s0098, s0282, s0409, s0408, s0229, s0249, s0182, s0256, s0414, s0427, s0240, s0275, s0217, s0434, s0227, s0241, s0153, s0359, s0247, s0435, s0374, s0342, s0423, s0443, s0270, s0301, s0379, s0382, s0383, s0243, s0375, s0210, s0391, s0365, s0209, s0223, s0410, s0332, s0185, s0277, s0274, s0314, s0356, s0329, s0239, s0334, s0354, s0163, s0424, s0281, s0364, s0296, s0393, s0245, s0324, s0322, ...}  \n",
       "neuropathy autonomic symptoms                                                                                                                                                                                                                                                                                                                                                                                                                                                                                                                                                                                                                                                                                                                                                                                                                                                                                                                                                                                                                                                               {nan}  \n",
       "beta blockers                                                                                                                                                                                                                                                                                                                                                                                                                                                                                                                                                                                                                                                                                                                                                                                                                                                                                                                                                                                                                                                                                  {}  \n",
       "current tobacco use                                                                                                                                                                                                                                                                                                                                                                                                                                                                                                                                                                                                                                                                                                                                                                                                                                                                                                                                                                                                                                                                            {}  \n",
       "heart failure =chf /ifarction=mi patient medical history                                                                                                                                                                                                                                                                                                                                                                                                                                                                                                                                                                                                                                                                                                                                                                                                                                                                                                                                                                                                                                       {}  \n",
       "previous tobacco use                                                                                                                                                                                                                                                                                                                                                                                                                                                                                                                                                                                                                                                                                                                                                                                                                                                                                                                                                                                                                                                                           {}  \n",
       "ace inhibitors                                                                                                                                                                                                                                                                                                                                                                                                                                                                                                                                                                                                                                                                                                                                                                                                                                                                                                                                                                                                                                                                                 {}  \n",
       "antiparkinsonian                                                                                                                                                                                                                                                                                                                                                                                                                                                                                                                                                                                                                                                                                                                                                                                                                                                                                                                                                                                                                                                                            {yes}  \n",
       "antiplatelets                                                                                                                                                                                                                                                                                                                                                                                                                                                                                                                                                                                                                                                                                                                                                                                                                                                                                                                                                                                                                                                                                  {}  \n",
       "oh autonomic symptoms                                                                                                                                                                                                                                                                                                                                                                                                                                                                                                                                                                                                                                                                                                                                                                                                                                                                                                                                                                                                                                                                          {}  \n",
       "alcohol dose/week                                                                                                                                                                                                                                                                                                                                                                                                                                                                                                                                                                                                                                                                                                                                                                                                                                                                                                                                                                      {nan, 9.0, nan, 1.5, 2.5, 12.0, 10.5, 15.0, 3.5, 20.0, 24.0, 25.0, 28.0, 6.0, 35.0, 0.86, 8.0, 42.0, 49.0}  \n",
       "pack years                                                                                                                                                                                                                                                                                                                                                                                                                                                                                                                                                                                                                                                                                                                                                              {0.14, nan, 2.86, 1.14, 4.29, 5.71, 1.25, 7.5, 8.57, 0.5, nan, 1.0, 12.5, 5.0, 8.0, 3.75, 9.0, 11.0, 12.0, 14.0, 1.43, 17.0, 4.0, 26.0, 24.0, 27.0, 30.86, 6.75, 33.0, 34.0, 36.0, 41.0, 42.0, 43.0, 50.0, 10.5, 54.0, 61.5, 62.5, 64.0, 0.1667, 66.0, 70.0, 72.0, 80.0, 86.0, 96.0, 100.0, 0.29, 0.6, 160.0, 1.71, 2.14}  \n",
       "oral hypoglycemic                                                                                                                                                                                                                                                                                                                                                                                                                                                                                                                                                                                                                                                                                                                                                                                                                                                                                                                                                                                                                                                                              {}  \n",
       "age                                                                                                                                                                                                                                                                                                                                                                                                                                                                                                                                                                                                                                                                                                                                                                                                                                                                                                                                                                                                                                                                          {75, 79, 81, 83, 56}  \n",
       "htn family history                                                                                                                                                                                                                                                                                                                                                                                                                                                                                                                                                                                                                                                                                                                                                                                                                                                                                                                                                                                                                                                                     {nan, nan}  \n",
       "heartdisease family history                                                                                                                                                                                                                                                                                                                                                                                                                                                                                                                                                                                                                                                                                                                                                                                                                                                                                                                                                                                                                                                       {nan, 4.0, nan}  \n",
       "antihyperlipidemic                                                                                                                                                                                                                                                                                                                                                                                                                                                                                                                                                                                                                                                                                                                                                                                                                                                                                                                                                                                                                                                                             {}  \n",
       "height                                                                                                                                                                                                                                                                                                                                                                                                                                                                                                                                                                                                                                                                                                                                  {nan, 1.79, 1.575, 1.531, 1.5, 1.722, 1.807, 1.92, 1.561, 1.8034, 1.84, 1.76, 1.667, 1.5748, 1.798, 1.651, 1.7653, 1.7272, nan, 1.85, 1.77, 1.818, 1.715, 1.6764, 1.8288, 1.7526, 1.54, 1.46, 1.71, 1.6383, 1.524, 1.6002, 1.768, 1.4986, 1.502, 1.47, 1.608, 1.9, 1.557, 1.7018, 1.6256, 1.778, 1.8542, 1.81, 1.602, 1.727, 1.5494, 1.4732, 1.49, 1.695}  \n",
       "mass                                                                                                                                                                                                                                             {nan, nan, 45.81, 48.99, 49.89, 51.5, 52.25, 52.16312255, 54.43, 53.97749203, 56.24545388, 57.60623099, 58.9670081, 58.05982336, 59.1, 61.0, 62.15, 60.78137758, 64.35, 65.31730128, 66.2, 67.58526313, 68.0388555, 65.35, 63.0, 63.8, 63.96, 64.75, 69.2, 75.15, 70.31, 77.5, 78.8, 79.5, 81.15, 83.5, 83.1, 85.75, 86.95, 85.3, 86.05, 89.6, 89.65, 86.1, 91.1, 86.85, 87.8, 91.4, 91.3, 94.65, 95.4, 96.16, 96.95, 98.4, 99.05, 95.25, 100.3, 106.59420695, 106.55, 107.2, 112.35, 113.3980925, 114.30527724, 114.65, 119.4, 121.6, 122.5, 124.0, 130.7, 133.05, 54.4310844, 54.88467677, 56.25, 57.45, 60.32778521, 60.5, 62.14215469, 63.5, 63.5029318, 63.2, 63.25, 64.41011654, 64.41, 64.86370891, 65.77, 65.65, 65.2, 65.9, 66.5, 66.67807839, 66.3, 67.13167076, 67.9, 68.49244787, 68.3, 68.75, 69.5, 70.30681735, 71.67, 71.05, ...}  \n",
       "previous alcohol use                                                                                                                                                                                                                                                                                                                                                                                                                                                                                                                                                                                                                                                                                                                                                                                                                                                                                                                                                                                                                                                                           {}  \n",
       "strokefamily history                                                                                                                                                                                                                                                                                                                                                                                                                                                                                                                                                                                                                                                                                                                                                                                                                                                                                                                                                                                                                                                                   {nan, nan}  \n",
       "dizziness autonomic symptoms                                                                                                                                                                                                                                                                                                                                                                                                                                                                                                                                                                                                                                                                                                                                                                                                                                                                                                                                                                                                                                                                {nan}  \n",
       "years                                                                                                                                                                                                                                                                                                                                                                                                                                                                                                                                                                                                                                                                                                                                                                                                                                                                                                                                                               {nan, 3.0, nan, 4.0, 7.0, 8.0, 9.0, 12.0, 64.0, 22.0, 26.0, 27.0, 28.0, 33.0, 36.0, 42.0, 43.0, 45.0, 48.0, 50.0, 55.0, 60.0}  \n",
       "atrial fibtrillation patient medical history                                                                                                                                                                                                                                                                                                                                                                                                                                                                                                                                                                                                                                                                                                                                                                                                                                                                                                                                                                                                                                                   {}  \n",
       "hyperlipidemia patient medical history                                                                                                                                                                                                                                                                                                                                                                                                                                                                                                                                                                                                                                                                                                                                                                                                                                                                                                                                                                                                                                                      {nan}  \n",
       "cancer# family history                                                                                                                                                                                                                                                                                                                                                                                                                                                                                                                                                                                                                                                                                                                                                                                                                                                                                                                                                                                                                                                            {nan, nan, 5.0}  \n",
       "diuretics                                                                                                                                                                                                                                                                                                                                                                                                                                                                                                                                                                                                                                                                                                                                                                                                                                                                                                                                                                                                                                                                                      {}  \n",
       "numbness autonomic symptoms                                                                                                                                                                                                                                                                                                                                                                                                                                                                                                                                                                                                                                                                                                                                                                                                                                                                                                                                                                                                                                                                  {20}  \n",
       "ca ++ blockers                                                                                                                                                                                                                                                                                                                                                                                                                                                                                                                                                                                                                                                                                                                                                                                                                                                                                                                                                                                                                                                                                 {}  \n",
       "painful feet autonomic symptoms                                                                                                                                                                                                                                                                                                                                                                                                                                                                                                                                                                                                                                                                                                                                                                                                                                                                                                                                                                                                                                                                {}  \n",
       "diabetes                                                                                                                                                                                                                                                                                                                                                                                                                                                                                                                                                                                                                                                                                                                                                                                                                                                                                                                                                                                                                                                                {nan, yes, nondm, dm, no}  \n",
       "anticoagulants                                                                                                                                                                                                                                                                                                                                                                                                                                                                                                                                                                                                                                                                                                                                                                                                                                                                                                                                                                                                                                                                                 {}  \n",
       "estrogen                                                                                                                                                                                                                                                                                                                                                                                                                                                                                                                                                                                                                                                                                                                                                                                                                                                                                                                                                                                                                                                                                       {}  \n",
       "bmi                                                       {nan, nan, 18.6378436126, 19.9093126, 20.8326531, 21.2041205, 21.6931407, 23.5586911, 24.5630328818, 25.4653803805, 24.3464335, 27.9640682039, 25.8402736, 26.2688142, 26.2188366, 26.0571429, 26.4559659, 26.227749, 27.072144, 27.8743608, 27.5432526, 28.400548, 29.3698825, 31.8945313, 32.1293728, 33.1840053, 35.782279, 37.0933333, 37.4430764, 38.2716049, 39.0020932, 40.3395062, 45.7676239, 40.2556757, 21.079687573, 23.8445265158, 23.9961936614, 23.3364596494, 24.3526170799, 24.27734375, 24.7484410431, 24.6204082, 24.3922099058, 25.5016055057, 25.7930851702, 24.373994216, 25.079770974, 24.7474542578, 26.2857351766, 26.9024970273, 26.9579341779, 26.2917238, 26.5625, 27.6063355, 26.0175919, 27.1156311707, 26.7455363623, 28.743887, 28.6967175363, 28.5879345961, 28.7052341598, 29.576876, 29.6296296, 29.0520899, 29.7750865, 29.2887545575, 30.0624921, 29.0190643591, 30.12109375, 31.6534307, 31.1181092053, 31.8714026264, 31.4840603711, 31.1728843083, 31.462585034, 32.907681, 32.793661, 32.48...  \n",
       "insulin(yes or no)                                                                                                                                                                                                                                                                                                                                                                                                                                                                                                                                                                                                                                                                                                                                                                                                                                                                                                                                                                                                                                                                          {yes}  \n",
       "cancer patient medical history                                                                                                                                                                                                                                                                                                                                                                                                                                                                                                                                                                                                                                                                                                                                                                                                                                                                                                                                                                                                                                                              {nan}  \n",
       "gender                                                                                                                                                                                                                                                                                                                                                                                                                                                                                                                                                                                                                                                                                                                                                                                                                                                                                                                                                                                                                                                                       {male, female, f, m}  \n",
       "dm family history                                                                                                                                                                                                                                                                                                                                                                                                                                                                                                                                                                                                                                                                                                                                                                                                                                                                                                                                                                                                                                                                      {nan, nan}  \n",
       "stroke patient medical history                                                                                                                                                                                                                                                                                                                                                                                                                                                                                                                                                                                                                                                                                                                                                                                                                                                                                                                                                                                                                                         {control, stroke, no, tia}  "
      ]
     },
     "execution_count": 22,
     "metadata": {},
     "output_type": "execute_result"
    }
   ],
   "source": [
    "unique_value_stroke = []\n",
    "unique_value_perfusion = []\n",
    "symmetric_difference = []\n",
    "\n",
    "for col in (set(df_perfusion_v1.columns) & set(df_stroke_v1.columns)):\n",
    "    unique_stroke = list(pd.unique(df_stroke_v1[col]))\n",
    "    unique_perfusion = list(pd.unique(df_perfusion_v1[col]))\n",
    "    unique_value_stroke.append(unique_stroke)\n",
    "    unique_value_perfusion.append(unique_perfusion)\n",
    "    symmetric_difference.append((set(unique_stroke).symmetric_difference(set(unique_perfusion))))\n",
    "          \n",
    "df_common_features_comparison = pd.DataFrame({'stroke':unique_value_stroke, 'perfusion':unique_value_perfusion, \"symmetric_diff\": symmetric_difference}, index=(set(df_perfusion_v1.columns) & set(df_stroke_v1.columns)))\n",
    "df_common_features_comparison"
   ]
  },
  {
   "cell_type": "markdown",
   "id": "3f2c3990",
   "metadata": {},
   "source": [
    "**Inconsistency**:\n",
    "stroke patient medical history: control/stroke\n",
    "numbness autonomic symptoms: 20 -> let'sdrop this patient\n",
    "gender: f, m, male, female\n",
    "diabetes: yes, no and dm non dm"
   ]
  },
  {
   "cell_type": "code",
   "execution_count": 23,
   "id": "fb9f1f78",
   "metadata": {
    "scrolled": true
   },
   "outputs": [
    {
     "data": {
      "text/html": [
       "<div>\n",
       "<style scoped>\n",
       "    .dataframe tbody tr th:only-of-type {\n",
       "        vertical-align: middle;\n",
       "    }\n",
       "\n",
       "    .dataframe tbody tr th {\n",
       "        vertical-align: top;\n",
       "    }\n",
       "\n",
       "    .dataframe thead th {\n",
       "        text-align: right;\n",
       "    }\n",
       "</style>\n",
       "<table border=\"1\" class=\"dataframe\">\n",
       "  <thead>\n",
       "    <tr style=\"text-align: right;\">\n",
       "      <th></th>\n",
       "      <th>patient id</th>\n",
       "      <th>stroke patient medical history</th>\n",
       "      <th>age</th>\n",
       "      <th>height</th>\n",
       "      <th>mass</th>\n",
       "      <th>bmi</th>\n",
       "      <th>gender</th>\n",
       "      <th>previous tobacco use</th>\n",
       "      <th>current tobacco use</th>\n",
       "      <th>pack years</th>\n",
       "      <th>years</th>\n",
       "      <th>previous alcohol use</th>\n",
       "      <th>alcohol dose/week</th>\n",
       "      <th>neuropathy autonomic symptoms</th>\n",
       "      <th>dizziness autonomic symptoms</th>\n",
       "      <th>numbness autonomic symptoms</th>\n",
       "      <th>painful feet autonomic symptoms</th>\n",
       "      <th>syncope autonomic symptoms</th>\n",
       "      <th>oh autonomic symptoms</th>\n",
       "      <th>cancer# family history</th>\n",
       "      <th>heartdisease family history</th>\n",
       "      <th>htn family history</th>\n",
       "      <th>dm family history</th>\n",
       "      <th>strokefamily history</th>\n",
       "      <th>cancer patient medical history</th>\n",
       "      <th>atrial fibtrillation patient medical history</th>\n",
       "      <th>heart failure =chf /ifarction=mi patient medical history</th>\n",
       "      <th>hyperlipidemia patient medical history</th>\n",
       "      <th>diabetes</th>\n",
       "      <th>antiplatelets</th>\n",
       "      <th>anticoagulants</th>\n",
       "      <th>antihyperlipidemic</th>\n",
       "      <th>antiparkinsonian</th>\n",
       "      <th>statins</th>\n",
       "      <th>estrogen</th>\n",
       "      <th>ace inhibitors</th>\n",
       "      <th>arbs</th>\n",
       "      <th>beta blockers</th>\n",
       "      <th>diuretics</th>\n",
       "      <th>ca ++ blockers</th>\n",
       "      <th>insulin(yes or no)</th>\n",
       "      <th>oral hypoglycemic</th>\n",
       "    </tr>\n",
       "  </thead>\n",
       "  <tbody>\n",
       "    <tr>\n",
       "      <th>129</th>\n",
       "      <td>s0380</td>\n",
       "      <td>stroke</td>\n",
       "      <td>69</td>\n",
       "      <td>1.74</td>\n",
       "      <td>85.15</td>\n",
       "      <td>28.124587</td>\n",
       "      <td>m</td>\n",
       "      <td>yes</td>\n",
       "      <td>no</td>\n",
       "      <td>70.0</td>\n",
       "      <td>35.0</td>\n",
       "      <td>yes</td>\n",
       "      <td>20.0</td>\n",
       "      <td>yes</td>\n",
       "      <td>no</td>\n",
       "      <td>20</td>\n",
       "      <td>yes</td>\n",
       "      <td>no</td>\n",
       "      <td>no</td>\n",
       "      <td>0.0</td>\n",
       "      <td>1.0</td>\n",
       "      <td>3.0</td>\n",
       "      <td>0.0</td>\n",
       "      <td>2.0</td>\n",
       "      <td>no</td>\n",
       "      <td>no</td>\n",
       "      <td>no</td>\n",
       "      <td>yes</td>\n",
       "      <td>no</td>\n",
       "      <td>yes</td>\n",
       "      <td>no</td>\n",
       "      <td>no</td>\n",
       "      <td>no</td>\n",
       "      <td>yes</td>\n",
       "      <td>no</td>\n",
       "      <td>yes</td>\n",
       "      <td>no</td>\n",
       "      <td>no</td>\n",
       "      <td>no</td>\n",
       "      <td>yes</td>\n",
       "      <td>no</td>\n",
       "      <td>no</td>\n",
       "    </tr>\n",
       "  </tbody>\n",
       "</table>\n",
       "</div>"
      ],
      "text/plain": [
       "    patient id stroke patient medical history  age  height   mass        bmi  \\\n",
       "129      s0380                         stroke   69    1.74  85.15  28.124587   \n",
       "\n",
       "    gender previous tobacco use current tobacco use  pack years  years  \\\n",
       "129      m                  yes                  no        70.0   35.0   \n",
       "\n",
       "    previous alcohol use  alcohol dose/week neuropathy autonomic symptoms  \\\n",
       "129                  yes               20.0                           yes   \n",
       "\n",
       "    dizziness autonomic symptoms numbness autonomic symptoms  \\\n",
       "129                           no                          20   \n",
       "\n",
       "    painful feet autonomic symptoms syncope autonomic symptoms  \\\n",
       "129                             yes                         no   \n",
       "\n",
       "    oh autonomic symptoms  cancer# family history  \\\n",
       "129                    no                     0.0   \n",
       "\n",
       "     heartdisease family history  htn family history  dm family history  \\\n",
       "129                          1.0                 3.0                0.0   \n",
       "\n",
       "     strokefamily history cancer patient medical history  \\\n",
       "129                   2.0                             no   \n",
       "\n",
       "    atrial fibtrillation patient medical history  \\\n",
       "129                                           no   \n",
       "\n",
       "    heart failure =chf /ifarction=mi patient medical history  \\\n",
       "129                                                       no   \n",
       "\n",
       "    hyperlipidemia patient medical history diabetes antiplatelets  \\\n",
       "129                                    yes       no           yes   \n",
       "\n",
       "    anticoagulants antihyperlipidemic antiparkinsonian statins estrogen  \\\n",
       "129             no                 no               no     yes       no   \n",
       "\n",
       "    ace inhibitors arbs beta blockers diuretics ca ++ blockers  \\\n",
       "129            yes   no            no        no            yes   \n",
       "\n",
       "    insulin(yes or no) oral hypoglycemic  \n",
       "129                 no                no  "
      ]
     },
     "execution_count": 23,
     "metadata": {},
     "output_type": "execute_result"
    }
   ],
   "source": [
    "df_stroke_v1[df_stroke_v1[\"numbness autonomic symptoms\"] == \"20\"]"
   ]
  },
  {
   "cell_type": "code",
   "execution_count": 24,
   "id": "1b0e84b1",
   "metadata": {},
   "outputs": [],
   "source": [
    "df_stroke_v1.drop(labels=df_stroke_v1[df_stroke_v1[\"numbness autonomic symptoms\"] == \"20\"].index, inplace=True)"
   ]
  },
  {
   "cell_type": "code",
   "execution_count": 25,
   "id": "4277928e",
   "metadata": {},
   "outputs": [
    {
     "name": "stdout",
     "output_type": "stream",
     "text": [
      "'yes' regex results: ['stroke']\n",
      "'no' regex results: ['control']\n",
      "'female' regex results: ['f']\n",
      "'male' regex results: ['m']\n"
     ]
    }
   ],
   "source": [
    "no_re = re.compile(\"(control)|(^nondm$)\")\n",
    "yes_re = re.compile(\"(^dm$)|(stroke)\")\n",
    "gender_female_re = re.compile(\"(^f$)|(female)\")\n",
    "gender_male_re = re.compile(\"(^m$)|(male)\")\n",
    "\n",
    "# Let's start with the stroke dataset\n",
    "print(f\"'yes' regex results: {list(filter(yes_re.match, get_unique_value_col(df_stroke_v1, string=True)))}\")\n",
    "print(f\"'no' regex results: {list(filter(no_re.match, get_unique_value_col(df_stroke_v1, string=True)))}\")\n",
    "print(f\"'female' regex results: {list(filter(gender_female_re.match, get_unique_value_col(df_stroke_v1, string=True)))}\")\n",
    "print(f\"'male' regex results: {list(filter(gender_male_re.match, get_unique_value_col(df_stroke_v1, string=True)))}\")"
   ]
  },
  {
   "cell_type": "code",
   "execution_count": 26,
   "id": "3021da2f",
   "metadata": {},
   "outputs": [],
   "source": [
    "df_stroke_v1 = df_stroke_v1.replace(to_replace = {yes_re:YES_REPLACEMENT, \n",
    "                              no_re: NO_REPLACEMENT, \n",
    "                              gender_female_re: 'female',\n",
    "                              gender_male_re: 'male'}, \n",
    "                              regex=True)"
   ]
  },
  {
   "cell_type": "code",
   "execution_count": 27,
   "id": "9441a5d9",
   "metadata": {
    "scrolled": true
   },
   "outputs": [
    {
     "name": "stdout",
     "output_type": "stream",
     "text": [
      "'yes' regex results: ['dm']\n",
      "'no' regex results: ['nondm']\n",
      "'female' regex results: ['female']\n",
      "'male' regex results: ['male']\n"
     ]
    }
   ],
   "source": [
    "print(f\"'yes' regex results: {list(filter(yes_re.match, get_unique_value_col(df_perfusion_v1, string=True)))}\")\n",
    "print(f\"'no' regex results: {list(filter(no_re.match, get_unique_value_col(df_perfusion_v1, string=True)))}\")\n",
    "print(f\"'female' regex results: {list(filter(gender_female_re.match, get_unique_value_col(df_perfusion_v1, string=True)))}\")\n",
    "print(f\"'male' regex results: {list(filter(gender_male_re.match, get_unique_value_col(df_perfusion_v1, string=True)))}\")"
   ]
  },
  {
   "cell_type": "code",
   "execution_count": 28,
   "id": "d7a1ad4f",
   "metadata": {},
   "outputs": [],
   "source": [
    "df_perfusion_v1 = df_perfusion_v1.replace(to_replace = {yes_re:YES_REPLACEMENT, \n",
    "                              no_re: NO_REPLACEMENT, \n",
    "                              gender_female_re: 'female',\n",
    "                              gender_male_re: 'male'}, \n",
    "                              regex=True)"
   ]
  },
  {
   "cell_type": "code",
   "execution_count": 29,
   "id": "49447ff2",
   "metadata": {},
   "outputs": [
    {
     "name": "stdout",
     "output_type": "stream",
     "text": [
      "'yes' regex results: []\n",
      "'no' regex results: []\n",
      "'female' regex results: ['female']\n",
      "'male' regex results: ['male']\n"
     ]
    }
   ],
   "source": [
    "print(f\"'yes' regex results: {list(filter(yes_re.match, get_unique_value_col(df_perfusion_v1, string=True)))}\")\n",
    "print(f\"'no' regex results: {list(filter(no_re.match, get_unique_value_col(df_perfusion_v1, string=True)))}\")\n",
    "print(f\"'female' regex results: {list(filter(gender_female_re.match, get_unique_value_col(df_perfusion_v1, string=True)))}\")\n",
    "print(f\"'male' regex results: {list(filter(gender_male_re.match, get_unique_value_col(df_perfusion_v1, string=True)))}\")"
   ]
  },
  {
   "cell_type": "code",
   "execution_count": 30,
   "id": "421d51d8",
   "metadata": {
    "scrolled": false
   },
   "outputs": [
    {
     "data": {
      "text/html": [
       "<div>\n",
       "<style scoped>\n",
       "    .dataframe tbody tr th:only-of-type {\n",
       "        vertical-align: middle;\n",
       "    }\n",
       "\n",
       "    .dataframe tbody tr th {\n",
       "        vertical-align: top;\n",
       "    }\n",
       "\n",
       "    .dataframe thead th {\n",
       "        text-align: right;\n",
       "    }\n",
       "</style>\n",
       "<table border=\"1\" class=\"dataframe\">\n",
       "  <thead>\n",
       "    <tr style=\"text-align: right;\">\n",
       "      <th></th>\n",
       "      <th>stroke</th>\n",
       "      <th>perfusion</th>\n",
       "      <th>symmetric_diff</th>\n",
       "    </tr>\n",
       "  </thead>\n",
       "  <tbody>\n",
       "    <tr>\n",
       "      <th>arbs</th>\n",
       "      <td>[yes, no, nan]</td>\n",
       "      <td>[no, yes, nan]</td>\n",
       "      <td>{}</td>\n",
       "    </tr>\n",
       "    <tr>\n",
       "      <th>syncope autonomic symptoms</th>\n",
       "      <td>[no, yes, nan]</td>\n",
       "      <td>[no, yes, nan]</td>\n",
       "      <td>{}</td>\n",
       "    </tr>\n",
       "    <tr>\n",
       "      <th>statins</th>\n",
       "      <td>[no, yes, nan]</td>\n",
       "      <td>[no, yes, nan]</td>\n",
       "      <td>{}</td>\n",
       "    </tr>\n",
       "    <tr>\n",
       "      <th>patient id</th>\n",
       "      <td>[s0011, s0033, s0044, s0067, s0068, s0078, s0098, s0121, s0132, s0147, s0151, s0153, s0154, s0157, s0160, s0162, s0163, s0164, s0165, s0166, s0169, s0172, s0174, s0175, s0176, s0177, s0178, s0181, s0182, s0183, s0184, s0185, s0187, s0188, s0194, s0197, s0200, s0203, s0204, s0205, s0206, s0207, s0208, s0209, s0210, s0211, s0212, s0213, s0215, s0216, s0217, s0218, s0219, s0220, s0221, s0222, s0223, s0225, s0226, s0227, s0228, s0229, s0231, s0232, s0233, s0235, s0236, s0238, s0239, s0240, s0241, s0242, s0243, s0244, s0245, s0246, s0247, s0248, s0249, s0261, s0275, s0277, s0295, s0305, s0307, s0313, s0319, s0321, s0322, s0324, s0325, s0329, s0331, s0332, s0334, s0335, s0336, s0337, s0338, s0340, ...]</td>\n",
       "      <td>[s0250, s0254, s0255, s0256, s0257, s0262, s0264, s0267, s0270, s0271, s0273, s0274, s0279, s0281, s0282, s0283, s0287, s0288, s0290, s0292, s0294, s0296, s0300, s0301, s0302, s0303, s0304, s0306, s0308, s0310, s0312, s0314, s0315, s0316, s0317, s0318, s0320, s0323, s0326, s0327, s0328, s0330, s0333, s0339, s0342, s0349, s0360, s0365, s0366, s0368, s0372, s0375, s0381, s0382, s0386, s0390, s0391, s0392, s0393, s0395, s0398, s0403, s0405, s0406, s0407, s0408, s0409, s0410, s0411, s0416, s0417, s0420, s0421, s0422, s0423, s0424, s0426, s0427, s0430, s0431, s0432, s0433, s0434, s0435, s0438, s0441, s0443]</td>\n",
       "      <td>{s0341, s0371, s0406, s0390, s0169, s0336, s0302, s0255, s0330, s0187, s0416, s0402, s0166, s0338, s0235, s0366, s0404, s0287, s0411, s0165, s0177, s0290, s0068, s0262, s0203, s0164, s0353, s0432, s0267, s0211, s0333, s0347, s0328, s0162, s0369, s0151, s0326, s0422, s0271, s0433, s0200, s0315, s0175, s0098, s0282, s0409, s0408, s0229, s0249, s0182, s0256, s0414, s0427, s0240, s0275, s0217, s0434, s0227, s0241, s0153, s0359, s0247, s0435, s0374, s0342, s0423, s0443, s0270, s0301, s0379, s0382, s0383, s0243, s0375, s0210, s0391, s0365, s0209, s0223, s0410, s0332, s0185, s0277, s0274, s0314, s0356, s0329, s0239, s0334, s0354, s0163, s0424, s0281, s0364, s0296, s0393, s0245, s0324, s0322, s0250, ...}</td>\n",
       "    </tr>\n",
       "    <tr>\n",
       "      <th>neuropathy autonomic symptoms</th>\n",
       "      <td>[no, yes, nan]</td>\n",
       "      <td>[no, yes]</td>\n",
       "      <td>{nan}</td>\n",
       "    </tr>\n",
       "    <tr>\n",
       "      <th>beta blockers</th>\n",
       "      <td>[no, yes, nan]</td>\n",
       "      <td>[no, yes, nan]</td>\n",
       "      <td>{}</td>\n",
       "    </tr>\n",
       "    <tr>\n",
       "      <th>current tobacco use</th>\n",
       "      <td>[no, nan, yes]</td>\n",
       "      <td>[no, yes, nan]</td>\n",
       "      <td>{}</td>\n",
       "    </tr>\n",
       "    <tr>\n",
       "      <th>heart failure =chf /ifarction=mi patient medical history</th>\n",
       "      <td>[no, nan, yes]</td>\n",
       "      <td>[no, nan, yes]</td>\n",
       "      <td>{}</td>\n",
       "    </tr>\n",
       "    <tr>\n",
       "      <th>previous tobacco use</th>\n",
       "      <td>[yes, no, nan]</td>\n",
       "      <td>[yes, no, nan]</td>\n",
       "      <td>{}</td>\n",
       "    </tr>\n",
       "    <tr>\n",
       "      <th>ace inhibitors</th>\n",
       "      <td>[no, yes, nan]</td>\n",
       "      <td>[no, yes, nan]</td>\n",
       "      <td>{}</td>\n",
       "    </tr>\n",
       "    <tr>\n",
       "      <th>antiparkinsonian</th>\n",
       "      <td>[no, nan]</td>\n",
       "      <td>[no, yes, nan]</td>\n",
       "      <td>{yes}</td>\n",
       "    </tr>\n",
       "    <tr>\n",
       "      <th>antiplatelets</th>\n",
       "      <td>[no, yes, nan]</td>\n",
       "      <td>[no, yes, nan]</td>\n",
       "      <td>{}</td>\n",
       "    </tr>\n",
       "    <tr>\n",
       "      <th>oh autonomic symptoms</th>\n",
       "      <td>[no, yes, nan]</td>\n",
       "      <td>[no, yes, nan]</td>\n",
       "      <td>{}</td>\n",
       "    </tr>\n",
       "    <tr>\n",
       "      <th>alcohol dose/week</th>\n",
       "      <td>[0.0, 1.0, 2.0, 7.0, 4.0, 3.0, 5.0, 15.0, 12.0, 20.0, 70.0, nan, 10.0, 1.5, 2.5, 28.0, 21.0, 6.0, 10.5, 49.0, 0.5, 0.25, 8.0, 3.5, 42.0, 14.0, 24.0]</td>\n",
       "      <td>[7.0, 0.5, 9.0, 3.0, 0.0, nan, 0.25, 1.0, 70.0, 4.0, 14.0, 2.0, 35.0, 0.86, 21.0, 25.0, 5.0, 10.0]</td>\n",
       "      <td>{nan, 9.0, nan, 1.5, 2.5, 12.0, 10.5, 15.0, 3.5, 20.0, 24.0, 25.0, 28.0, 6.0, 35.0, 0.86, 8.0, 42.0, 49.0}</td>\n",
       "    </tr>\n",
       "    <tr>\n",
       "      <th>pack years</th>\n",
       "      <td>[20.0, 10.0, 40.0, 0.0, nan, 72.0, 12.0, 35.0, 15.0, 41.0, 60.0, 5.0, 25.0, 27.0, 160.0, 9.0, 30.0, 11.0, 45.0, 3.75, 48.0, 1.0, 64.0, 43.0, 2.14, 17.0, 30.86, 86.0, 1.71, 62.5, 66.0, 36.0, 0.1667, 10.5, 50.0, 8.0, 33.0, 100.0, 42.0, 1.43, 57.0, 54.0, 96.0, 14.0, 6.75, 24.0, 0.6, 4.0]</td>\n",
       "      <td>[2.86, 0.14, 0.0, 5.71, 34.0, 20.0, 10.0, 15.0, 60.0, 30.0, 25.0, 4.29, nan, 35.0, 12.5, 8.57, 57.0, 80.0, 26.0, 40.0, 61.5, 48.0, 45.0, 7.5, 1.14, 1.25, 0.5, 0.29]</td>\n",
       "      <td>{0.14, nan, 2.86, 1.14, 4.29, 5.71, 1.25, 7.5, 8.57, 0.5, nan, 1.0, 12.5, 5.0, 8.0, 3.75, 9.0, 11.0, 12.0, 14.0, 1.43, 17.0, 4.0, 26.0, 24.0, 27.0, 30.86, 6.75, 33.0, 34.0, 36.0, 41.0, 42.0, 43.0, 50.0, 10.5, 54.0, 61.5, 62.5, 64.0, 0.1667, 66.0, 72.0, 80.0, 86.0, 96.0, 100.0, 0.29, 0.6, 160.0, 1.71, 2.14}</td>\n",
       "    </tr>\n",
       "    <tr>\n",
       "      <th>oral hypoglycemic</th>\n",
       "      <td>[no, yes, nan]</td>\n",
       "      <td>[yes, no, nan]</td>\n",
       "      <td>{}</td>\n",
       "    </tr>\n",
       "    <tr>\n",
       "      <th>age</th>\n",
       "      <td>[70, 65, 74, 79, 60, 71, 67, 72, 62, 73, 75, 76, 64, 68, 78, 66, 80, 63, 61, 77, 54, 52, 53, 57, 59, 51, 50, 69, 55, 58]</td>\n",
       "      <td>[50, 69, 78, 65, 55, 67, 66, 74, 81, 57, 68, 58, 62, 83, 73, 59, 71, 53, 64, 52, 61, 51, 80, 76, 77, 60, 70, 56, 72, 54, 63]</td>\n",
       "      <td>{75, 79, 81, 83, 56}</td>\n",
       "    </tr>\n",
       "    <tr>\n",
       "      <th>htn family history</th>\n",
       "      <td>[0.0, 1.0, 2.0, 3.0, nan, 4.0]</td>\n",
       "      <td>[1.0, 0.0, 2.0, 3.0, nan, 4.0]</td>\n",
       "      <td>{nan, nan}</td>\n",
       "    </tr>\n",
       "    <tr>\n",
       "      <th>heartdisease family history</th>\n",
       "      <td>[1.0, 2.0, 0.0, 4.0, 3.0, nan]</td>\n",
       "      <td>[1.0, 3.0, 0.0, 2.0, nan]</td>\n",
       "      <td>{nan, 4.0, nan}</td>\n",
       "    </tr>\n",
       "    <tr>\n",
       "      <th>antihyperlipidemic</th>\n",
       "      <td>[no, yes, nan]</td>\n",
       "      <td>[no, yes, nan]</td>\n",
       "      <td>{}</td>\n",
       "    </tr>\n",
       "    <tr>\n",
       "      <th>height</th>\n",
       "      <td>[1.6383, 1.82, 1.7018, 1.6764, 1.5748, 1.5494, 1.8288, 1.6256, 1.8034, 1.7526, 1.651, 1.4732, 1.524, 1.49, 1.778, 1.6002, 1.7653, 1.8542, 1.7272, 1.6, 1.57, 1.4986, 1.7, 1.52, 1.502, 1.695, 1.68, 1.715, 1.72, 1.63, 1.8, 1.66, 1.73, 1.75, 1.61, 1.69, 1.64, 1.67, 1.65, 1.59, 1.78, 1.55, 1.47, 1.56, 1.74, nan, 1.83, 1.62, 1.81, 1.53]</td>\n",
       "      <td>[1.79, 1.531, 1.52, 1.575, 1.7, 1.5, 1.722, 1.68, 1.73, 1.807, 1.63, 1.6, 1.608, 1.62, 1.602, 1.54, 1.57, 1.66, 1.85, 1.46, 1.9, 1.59, 1.84, 1.64, 1.8, 1.75, 1.53, 1.76, 1.83, 1.72, 1.56, 1.65, 1.78, 1.71, 1.82, 1.74, 1.67, 1.77, 1.55, 1.61, 1.92, 1.69, 1.561, 1.557, 1.818, 1.768, 1.667, 1.727, 1.798, nan]</td>\n",
       "      <td>{nan, 1.79, 1.575, 1.531, 1.5, 1.722, 1.807, 1.92, 1.561, 1.8034, 1.84, 1.76, 1.667, 1.5748, 1.798, 1.651, 1.7653, 1.7272, nan, 1.85, 1.77, 1.818, 1.715, 1.6764, 1.8288, 1.7526, 1.54, 1.46, 1.71, 1.6383, 1.524, 1.6002, 1.768, 1.4986, 1.502, 1.47, 1.608, 1.9, 1.557, 1.7018, 1.6256, 1.778, 1.8542, 1.81, 1.602, 1.727, 1.5494, 1.4732, 1.49, 1.695}</td>\n",
       "    </tr>\n",
       "    <tr>\n",
       "      <th>mass</th>\n",
       "      <td>[71.66759446, 92.986, 68.0388555, 68.49244787, 64.86370891, 52.16312255, 72.5747792, 73.02837157, 95.2543977, 99.7903214, 66.67807839, 80.73944186, 73.93555631, 106.59420695, 54.4310844, 84.82177319, 63.5029318, 53.97749203, 73.48196394, 58.9670081, 67.58526313, 77.1107029, 90.718474, 62.14215469, 92.98643585, 76.20351816, 64.41011654, 60.78137758, 58.05982336, 70.30681735, 67.13167076, 54.88467677, 83.91458845, 57.60623099, 60.32778521, 65.31730128, 113.3980925, 79.37866475, 56.24545388, 114.30527724, 55.33826914, 77.11, 72.57, 45.81, 57.45, 72.25, 69.85, 64.41, 72.95, 91.63, 99.6, 82.9, 83.65, 92.6, 71.55, 112.35, 65.9, 84.5, 81.65, 78.85, 73.7, 66.5, 63.0, 63.25, 74.55, 78.45, 68.3, 75.85, 78.15, 66.2, 69.0, 68.0, 90.7, 51.5, 93.6, 85.9, 49.89, 79.25, 66.3, 83.91, 74.8, 90.72, 93.0, 81.45, 76.4, 94.55, 106.55, nan, 62.15, 96.2, 98.8, 61.0, 77.27, 78.2, 75.38, 63.2, 67.9, 107.2, 68.75, 85.85, ...]</td>\n",
       "      <td>[114.65, 56.9, 65.77, 73.5, 70.31, 83.46, 98.4, 85.28, 96.16, 71.67, 85.8, 63.5, 81.65, 56.25, 69.2, 48.99, 52.25, 65.65, 54.43, 88.8, 64.75, 74.6, 84.1, 95.4, 91.4, 65.2, 94.65, 74.25, 79.6, 84.0, 69.5, 124.0, 79.8, 96.95, 91.3, 75.85, 85.0, 81.95, 77.95, 99.05, 84.9, 83.5, 64.35, 95.25, 83.1, 84.05, 130.7, 86.05, 89.6, 122.5, 65.35, 63.8, 91.1, 81.15, 119.4, 77.5, 86.1, 60.5, 100.3, 78.8, 93.55, 121.6, 68.0, 69.0, 72.7, 69.85, 85.75, 63.96, 86.85, 85.3, 87.8, 89.65, 86.95, 75.15, 64.65, 79.5, 133.05, 92.85, 72.3, 80.74, 75.4, 93.6, 71.05, nan]</td>\n",
       "      <td>{nan, nan, 45.81, 48.99, 49.89, 51.5, 52.25, 52.16312255, 54.43, 53.97749203, 56.24545388, 57.60623099, 58.9670081, 58.05982336, 59.1, 61.0, 62.15, 60.78137758, 64.35, 65.31730128, 66.2, 67.58526313, 68.0388555, 65.35, 63.0, 63.8, 63.96, 64.75, 69.2, 75.15, 70.31, 77.5, 78.8, 79.5, 81.15, 83.5, 83.1, 85.75, 86.95, 85.3, 86.05, 89.6, 89.65, 86.1, 91.1, 86.85, 87.8, 91.4, 91.3, 94.65, 95.4, 96.16, 96.95, 98.4, 99.05, 95.25, 100.3, 106.59420695, 106.55, 107.2, 112.35, 113.3980925, 114.30527724, 114.65, 119.4, 121.6, 122.5, 124.0, 130.7, 133.05, 54.4310844, 54.88467677, 56.25, 57.45, 60.32778521, 60.5, 62.14215469, 63.5, 63.5029318, 63.2, 63.25, 64.41011654, 64.41, 64.86370891, 65.77, 65.65, 65.2, 65.9, 66.5, 66.67807839, 66.3, 67.13167076, 67.9, 68.49244787, 68.3, 68.75, 69.5, 70.30681735, 71.67, 71.05, ...}</td>\n",
       "    </tr>\n",
       "    <tr>\n",
       "      <th>previous alcohol use</th>\n",
       "      <td>[yes, no, nan]</td>\n",
       "      <td>[yes, no, nan]</td>\n",
       "      <td>{}</td>\n",
       "    </tr>\n",
       "    <tr>\n",
       "      <th>strokefamily history</th>\n",
       "      <td>[0.0, 1.0, 2.0, 3.0, nan]</td>\n",
       "      <td>[0.0, 1.0, 3.0, 2.0, nan]</td>\n",
       "      <td>{nan, nan}</td>\n",
       "    </tr>\n",
       "    <tr>\n",
       "      <th>dizziness autonomic symptoms</th>\n",
       "      <td>[no, yes, nan]</td>\n",
       "      <td>[no, yes]</td>\n",
       "      <td>{nan}</td>\n",
       "    </tr>\n",
       "    <tr>\n",
       "      <th>years</th>\n",
       "      <td>[40.0, 10.0, 0.0, nan, 36.0, 12.0, 25.0, 35.0, 1.0, 41.0, 60.0, 20.0, 27.0, 9.0, 55.0, 30.0, 15.0, 48.0, 2.0, 64.0, 43.0, 17.0, 24.0, 33.0, 5.0, 7.0, 50.0, 8.0, 22.0, 42.0, 57.0, 28.0, 45.0, 4.0]</td>\n",
       "      <td>[10.0, 1.0, 0.0, 20.0, 17.0, 15.0, 40.0, 30.0, 25.0, nan, 35.0, 57.0, 26.0, 3.0, 41.0, 2.0, 24.0, 5.0]</td>\n",
       "      <td>{nan, 3.0, nan, 4.0, 7.0, 8.0, 9.0, 12.0, 64.0, 22.0, 26.0, 27.0, 28.0, 33.0, 36.0, 42.0, 43.0, 45.0, 48.0, 50.0, 55.0, 60.0}</td>\n",
       "    </tr>\n",
       "    <tr>\n",
       "      <th>atrial fibtrillation patient medical history</th>\n",
       "      <td>[no, yes, nan]</td>\n",
       "      <td>[no, yes, nan]</td>\n",
       "      <td>{}</td>\n",
       "    </tr>\n",
       "    <tr>\n",
       "      <th>hyperlipidemia patient medical history</th>\n",
       "      <td>[no, yes, nan]</td>\n",
       "      <td>[no, yes]</td>\n",
       "      <td>{nan}</td>\n",
       "    </tr>\n",
       "    <tr>\n",
       "      <th>cancer# family history</th>\n",
       "      <td>[0.0, 3.0, 1.0, 2.0, nan, 5.0]</td>\n",
       "      <td>[1.0, 0.0, 2.0, 3.0, nan]</td>\n",
       "      <td>{nan, nan, 5.0}</td>\n",
       "    </tr>\n",
       "    <tr>\n",
       "      <th>diuretics</th>\n",
       "      <td>[no, yes, nan]</td>\n",
       "      <td>[no, yes, nan]</td>\n",
       "      <td>{}</td>\n",
       "    </tr>\n",
       "    <tr>\n",
       "      <th>numbness autonomic symptoms</th>\n",
       "      <td>[no, yes, nan]</td>\n",
       "      <td>[no, yes, nan]</td>\n",
       "      <td>{}</td>\n",
       "    </tr>\n",
       "    <tr>\n",
       "      <th>ca ++ blockers</th>\n",
       "      <td>[no, yes, nan]</td>\n",
       "      <td>[no, yes, nan]</td>\n",
       "      <td>{}</td>\n",
       "    </tr>\n",
       "    <tr>\n",
       "      <th>painful feet autonomic symptoms</th>\n",
       "      <td>[no, yes, nan]</td>\n",
       "      <td>[no, yes, nan]</td>\n",
       "      <td>{}</td>\n",
       "    </tr>\n",
       "    <tr>\n",
       "      <th>diabetes</th>\n",
       "      <td>[no, nan, yes]</td>\n",
       "      <td>[yes, no]</td>\n",
       "      <td>{nan}</td>\n",
       "    </tr>\n",
       "    <tr>\n",
       "      <th>anticoagulants</th>\n",
       "      <td>[no, yes, nan]</td>\n",
       "      <td>[no, yes, nan]</td>\n",
       "      <td>{}</td>\n",
       "    </tr>\n",
       "    <tr>\n",
       "      <th>estrogen</th>\n",
       "      <td>[no, yes, nan]</td>\n",
       "      <td>[no, yes, nan]</td>\n",
       "      <td>{}</td>\n",
       "    </tr>\n",
       "    <tr>\n",
       "      <th>bmi</th>\n",
       "      <td>[26.7015187989, 28.0720927424, 23.493080184, 24.3717875403, 26.1547736442, 21.72883678, 25.5016055057, 21.6996783839, 27.6353033012, 29.2887545575, 32.4879872969, 23.0232185803, 26.2857351766, 27.124341179, 31.8714026264, 25.079770974, 31.1181092053, 23.2969801537, 18.6378436126, 26.9579341779, 27.9274860801, 26.5605189406, 23.3364596494, 24.3922099058, 28.6967175363, 25.0592855296, 25.8856577293, 28.5914032585, 28.8368382274, 24.373994216, 22.2401159075, 23.7367910485, 23.4112659193, 30.1315534131, 24.5630328818, 23.431003646, 21.6178902686, 21.5422178534, 21.079687573, 21.9268748384, 19.5297105455, 25.7930851702, 26.6054162217, 27.1203597615, 24.2103849738, 27.7058757223, 35.4280463411, 21.0335592244, 28.9747988936, 21.2867087261, 23.9961936614, 21.4393268633, 24.4747394255, 29.0841768078, 27.7321889747, 34.8675649494, 27.9640682039, 24.4072954646, 24.2168410765, 27.1156311707, 24.0306985228, 18.9510846817, 36.1578640957, 24.3276671155, 24.2761828568, 35.5085646282, 19.1077052163...</td>\n",
       "      <td>[35.782279, 24.2751479, 28.4669321, 29.6296296, 24.3287197, 37.0933333, 33.1840053, 30.2154195, 32.1293728, 25.3932823, 26.2767097, 23.9000339, 31.8945313, 24.3464335, 26.7629514, 21.2041205, 19.9093126, 25.5805399, 23.5586911, 25.6914062, 37.4430764, 26.2688142, 27.072144, 31.6534307, 27.8743608, 32.3837868, 30.5873522, 26.2188366, 29.3698825, 27.5432526, 24.8109641, 25.8402736, 38.2716049, 26.0571429, 29.9228395, 39.0020932, 33.7111111, 28.400548, 26.4559659, 31.624001, 27.6063355, 29.576876, 28.6979448, 34.3113083, 23.6363636, 30.0624921, 26.227749, 28.743887, 40.3395062, 29.7750865, 26.7550539, 38.6630476, 25.5273437, 22.6048753, 35.5859375, 24.4988528, 37.2647545, 25.5978333, 36.3046045, 21.6931407, 33.1285507, 23.0241052, 20.8326531, 33.1455499, 45.7676239, 26.5625, 26.2917238, 23.2053369, 23.6107355, 30.7468895, 26.6222685, 36.1498439, 32.907681, 23.8172743, 34.160189, 29.0520899, 26.3121039, 26.5315561, 32.793661, 40.2556757, 29.7041676, 26.0175919, 27.0709857, 24.6204082, ...</td>\n",
       "      <td>{nan, nan, 18.6378436126, 19.9093126, 20.8326531, 21.2041205, 21.6931407, 23.5586911, 24.5630328818, 25.4653803805, 24.3464335, 27.9640682039, 25.8402736, 26.2688142, 26.2188366, 26.0571429, 26.4559659, 26.227749, 27.072144, 27.8743608, 27.5432526, 28.400548, 29.3698825, 31.8945313, 32.1293728, 33.1840053, 35.782279, 37.0933333, 37.4430764, 38.2716049, 39.0020932, 40.3395062, 45.7676239, 40.2556757, 21.079687573, 23.8445265158, 23.9961936614, 23.3364596494, 24.3526170799, 24.27734375, 24.7484410431, 24.6204082, 24.3922099058, 25.5016055057, 25.7930851702, 24.373994216, 25.079770974, 24.7474542578, 26.2857351766, 26.9024970273, 26.9579341779, 26.2917238, 26.5625, 27.6063355, 26.0175919, 27.1156311707, 26.7455363623, 28.743887, 28.6967175363, 28.5879345961, 28.7052341598, 29.576876, 29.6296296, 29.0520899, 29.7750865, 29.2887545575, 30.0624921, 29.0190643591, 30.12109375, 31.6534307, 31.1181092053, 31.8714026264, 31.4840603711, 31.1728843083, 31.462585034, 32.907681, 32.793661, 32.48...</td>\n",
       "    </tr>\n",
       "    <tr>\n",
       "      <th>insulin(yes or no)</th>\n",
       "      <td>[no, nan]</td>\n",
       "      <td>[no, yes, nan]</td>\n",
       "      <td>{yes}</td>\n",
       "    </tr>\n",
       "    <tr>\n",
       "      <th>cancer patient medical history</th>\n",
       "      <td>[no, yes, nan]</td>\n",
       "      <td>[no, yes]</td>\n",
       "      <td>{nan}</td>\n",
       "    </tr>\n",
       "    <tr>\n",
       "      <th>gender</th>\n",
       "      <td>[female, male]</td>\n",
       "      <td>[male, female]</td>\n",
       "      <td>{}</td>\n",
       "    </tr>\n",
       "    <tr>\n",
       "      <th>dm family history</th>\n",
       "      <td>[0.0, 1.0, 2.0, nan, 3.0, 4.0]</td>\n",
       "      <td>[1.0, 0.0, 3.0, 2.0, 4.0, nan]</td>\n",
       "      <td>{nan, nan}</td>\n",
       "    </tr>\n",
       "    <tr>\n",
       "      <th>stroke patient medical history</th>\n",
       "      <td>[no, yes]</td>\n",
       "      <td>[no, tia]</td>\n",
       "      <td>{yes, tia}</td>\n",
       "    </tr>\n",
       "  </tbody>\n",
       "</table>\n",
       "</div>"
      ],
      "text/plain": [
       "                                                                                                                                                                                                                                                                                                                                                                                                                                                                                                                                                                                                                                                                                                                                                                                                                                                                                                                                                                                                                                                                                           stroke  \\\n",
       "arbs                                                                                                                                                                                                                                                                                                                                                                                                                                                                                                                                                                                                                                                                                                                                                                                                                                                                                                                                                                                                                                                                               [yes, no, nan]   \n",
       "syncope autonomic symptoms                                                                                                                                                                                                                                                                                                                                                                                                                                                                                                                                                                                                                                                                                                                                                                                                                                                                                                                                                                                                                                                         [no, yes, nan]   \n",
       "statins                                                                                                                                                                                                                                                                                                                                                                                                                                                                                                                                                                                                                                                                                                                                                                                                                                                                                                                                                                                                                                                                            [no, yes, nan]   \n",
       "patient id                                                                                                                                                                                                                                                                                                                                                      [s0011, s0033, s0044, s0067, s0068, s0078, s0098, s0121, s0132, s0147, s0151, s0153, s0154, s0157, s0160, s0162, s0163, s0164, s0165, s0166, s0169, s0172, s0174, s0175, s0176, s0177, s0178, s0181, s0182, s0183, s0184, s0185, s0187, s0188, s0194, s0197, s0200, s0203, s0204, s0205, s0206, s0207, s0208, s0209, s0210, s0211, s0212, s0213, s0215, s0216, s0217, s0218, s0219, s0220, s0221, s0222, s0223, s0225, s0226, s0227, s0228, s0229, s0231, s0232, s0233, s0235, s0236, s0238, s0239, s0240, s0241, s0242, s0243, s0244, s0245, s0246, s0247, s0248, s0249, s0261, s0275, s0277, s0295, s0305, s0307, s0313, s0319, s0321, s0322, s0324, s0325, s0329, s0331, s0332, s0334, s0335, s0336, s0337, s0338, s0340, ...]   \n",
       "neuropathy autonomic symptoms                                                                                                                                                                                                                                                                                                                                                                                                                                                                                                                                                                                                                                                                                                                                                                                                                                                                                                                                                                                                                                                      [no, yes, nan]   \n",
       "beta blockers                                                                                                                                                                                                                                                                                                                                                                                                                                                                                                                                                                                                                                                                                                                                                                                                                                                                                                                                                                                                                                                                      [no, yes, nan]   \n",
       "current tobacco use                                                                                                                                                                                                                                                                                                                                                                                                                                                                                                                                                                                                                                                                                                                                                                                                                                                                                                                                                                                                                                                                [no, nan, yes]   \n",
       "heart failure =chf /ifarction=mi patient medical history                                                                                                                                                                                                                                                                                                                                                                                                                                                                                                                                                                                                                                                                                                                                                                                                                                                                                                                                                                                                                           [no, nan, yes]   \n",
       "previous tobacco use                                                                                                                                                                                                                                                                                                                                                                                                                                                                                                                                                                                                                                                                                                                                                                                                                                                                                                                                                                                                                                                               [yes, no, nan]   \n",
       "ace inhibitors                                                                                                                                                                                                                                                                                                                                                                                                                                                                                                                                                                                                                                                                                                                                                                                                                                                                                                                                                                                                                                                                     [no, yes, nan]   \n",
       "antiparkinsonian                                                                                                                                                                                                                                                                                                                                                                                                                                                                                                                                                                                                                                                                                                                                                                                                                                                                                                                                                                                                                                                                        [no, nan]   \n",
       "antiplatelets                                                                                                                                                                                                                                                                                                                                                                                                                                                                                                                                                                                                                                                                                                                                                                                                                                                                                                                                                                                                                                                                      [no, yes, nan]   \n",
       "oh autonomic symptoms                                                                                                                                                                                                                                                                                                                                                                                                                                                                                                                                                                                                                                                                                                                                                                                                                                                                                                                                                                                                                                                              [no, yes, nan]   \n",
       "alcohol dose/week                                                                                                                                                                                                                                                                                                                                                                                                                                                                                                                                                                                                                                                                                                                                                                                                                                                                                                                            [0.0, 1.0, 2.0, 7.0, 4.0, 3.0, 5.0, 15.0, 12.0, 20.0, 70.0, nan, 10.0, 1.5, 2.5, 28.0, 21.0, 6.0, 10.5, 49.0, 0.5, 0.25, 8.0, 3.5, 42.0, 14.0, 24.0]   \n",
       "pack years                                                                                                                                                                                                                                                                                                                                                                                                                                                                                                                                                                                                                                                                                                                                                                                          [20.0, 10.0, 40.0, 0.0, nan, 72.0, 12.0, 35.0, 15.0, 41.0, 60.0, 5.0, 25.0, 27.0, 160.0, 9.0, 30.0, 11.0, 45.0, 3.75, 48.0, 1.0, 64.0, 43.0, 2.14, 17.0, 30.86, 86.0, 1.71, 62.5, 66.0, 36.0, 0.1667, 10.5, 50.0, 8.0, 33.0, 100.0, 42.0, 1.43, 57.0, 54.0, 96.0, 14.0, 6.75, 24.0, 0.6, 4.0]   \n",
       "oral hypoglycemic                                                                                                                                                                                                                                                                                                                                                                                                                                                                                                                                                                                                                                                                                                                                                                                                                                                                                                                                                                                                                                                                  [no, yes, nan]   \n",
       "age                                                                                                                                                                                                                                                                                                                                                                                                                                                                                                                                                                                                                                                                                                                                                                                                                                                                                                                                                                      [70, 65, 74, 79, 60, 71, 67, 72, 62, 73, 75, 76, 64, 68, 78, 66, 80, 63, 61, 77, 54, 52, 53, 57, 59, 51, 50, 69, 55, 58]   \n",
       "htn family history                                                                                                                                                                                                                                                                                                                                                                                                                                                                                                                                                                                                                                                                                                                                                                                                                                                                                                                                                                                                                                                 [0.0, 1.0, 2.0, 3.0, nan, 4.0]   \n",
       "heartdisease family history                                                                                                                                                                                                                                                                                                                                                                                                                                                                                                                                                                                                                                                                                                                                                                                                                                                                                                                                                                                                                                        [1.0, 2.0, 0.0, 4.0, 3.0, nan]   \n",
       "antihyperlipidemic                                                                                                                                                                                                                                                                                                                                                                                                                                                                                                                                                                                                                                                                                                                                                                                                                                                                                                                                                                                                                                                                 [no, yes, nan]   \n",
       "height                                                                                                                                                                                                                                                                                                                                                                                                                                                                                                                                                                                                                                                                                                                                               [1.6383, 1.82, 1.7018, 1.6764, 1.5748, 1.5494, 1.8288, 1.6256, 1.8034, 1.7526, 1.651, 1.4732, 1.524, 1.49, 1.778, 1.6002, 1.7653, 1.8542, 1.7272, 1.6, 1.57, 1.4986, 1.7, 1.52, 1.502, 1.695, 1.68, 1.715, 1.72, 1.63, 1.8, 1.66, 1.73, 1.75, 1.61, 1.69, 1.64, 1.67, 1.65, 1.59, 1.78, 1.55, 1.47, 1.56, 1.74, nan, 1.83, 1.62, 1.81, 1.53]   \n",
       "mass                                                                                                                                             [71.66759446, 92.986, 68.0388555, 68.49244787, 64.86370891, 52.16312255, 72.5747792, 73.02837157, 95.2543977, 99.7903214, 66.67807839, 80.73944186, 73.93555631, 106.59420695, 54.4310844, 84.82177319, 63.5029318, 53.97749203, 73.48196394, 58.9670081, 67.58526313, 77.1107029, 90.718474, 62.14215469, 92.98643585, 76.20351816, 64.41011654, 60.78137758, 58.05982336, 70.30681735, 67.13167076, 54.88467677, 83.91458845, 57.60623099, 60.32778521, 65.31730128, 113.3980925, 79.37866475, 56.24545388, 114.30527724, 55.33826914, 77.11, 72.57, 45.81, 57.45, 72.25, 69.85, 64.41, 72.95, 91.63, 99.6, 82.9, 83.65, 92.6, 71.55, 112.35, 65.9, 84.5, 81.65, 78.85, 73.7, 66.5, 63.0, 63.25, 74.55, 78.45, 68.3, 75.85, 78.15, 66.2, 69.0, 68.0, 90.7, 51.5, 93.6, 85.9, 49.89, 79.25, 66.3, 83.91, 74.8, 90.72, 93.0, 81.45, 76.4, 94.55, 106.55, nan, 62.15, 96.2, 98.8, 61.0, 77.27, 78.2, 75.38, 63.2, 67.9, 107.2, 68.75, 85.85, ...]   \n",
       "previous alcohol use                                                                                                                                                                                                                                                                                                                                                                                                                                                                                                                                                                                                                                                                                                                                                                                                                                                                                                                                                                                                                                                               [yes, no, nan]   \n",
       "strokefamily history                                                                                                                                                                                                                                                                                                                                                                                                                                                                                                                                                                                                                                                                                                                                                                                                                                                                                                                                                                                                                                                    [0.0, 1.0, 2.0, 3.0, nan]   \n",
       "dizziness autonomic symptoms                                                                                                                                                                                                                                                                                                                                                                                                                                                                                                                                                                                                                                                                                                                                                                                                                                                                                                                                                                                                                                                       [no, yes, nan]   \n",
       "years                                                                                                                                                                                                                                                                                                                                                                                                                                                                                                                                                                                                                                                                                                                                                                                                                                                                                         [40.0, 10.0, 0.0, nan, 36.0, 12.0, 25.0, 35.0, 1.0, 41.0, 60.0, 20.0, 27.0, 9.0, 55.0, 30.0, 15.0, 48.0, 2.0, 64.0, 43.0, 17.0, 24.0, 33.0, 5.0, 7.0, 50.0, 8.0, 22.0, 42.0, 57.0, 28.0, 45.0, 4.0]   \n",
       "atrial fibtrillation patient medical history                                                                                                                                                                                                                                                                                                                                                                                                                                                                                                                                                                                                                                                                                                                                                                                                                                                                                                                                                                                                                                       [no, yes, nan]   \n",
       "hyperlipidemia patient medical history                                                                                                                                                                                                                                                                                                                                                                                                                                                                                                                                                                                                                                                                                                                                                                                                                                                                                                                                                                                                                                             [no, yes, nan]   \n",
       "cancer# family history                                                                                                                                                                                                                                                                                                                                                                                                                                                                                                                                                                                                                                                                                                                                                                                                                                                                                                                                                                                                                                             [0.0, 3.0, 1.0, 2.0, nan, 5.0]   \n",
       "diuretics                                                                                                                                                                                                                                                                                                                                                                                                                                                                                                                                                                                                                                                                                                                                                                                                                                                                                                                                                                                                                                                                          [no, yes, nan]   \n",
       "numbness autonomic symptoms                                                                                                                                                                                                                                                                                                                                                                                                                                                                                                                                                                                                                                                                                                                                                                                                                                                                                                                                                                                                                                                        [no, yes, nan]   \n",
       "ca ++ blockers                                                                                                                                                                                                                                                                                                                                                                                                                                                                                                                                                                                                                                                                                                                                                                                                                                                                                                                                                                                                                                                                     [no, yes, nan]   \n",
       "painful feet autonomic symptoms                                                                                                                                                                                                                                                                                                                                                                                                                                                                                                                                                                                                                                                                                                                                                                                                                                                                                                                                                                                                                                                    [no, yes, nan]   \n",
       "diabetes                                                                                                                                                                                                                                                                                                                                                                                                                                                                                                                                                                                                                                                                                                                                                                                                                                                                                                                                                                                                                                                                           [no, nan, yes]   \n",
       "anticoagulants                                                                                                                                                                                                                                                                                                                                                                                                                                                                                                                                                                                                                                                                                                                                                                                                                                                                                                                                                                                                                                                                     [no, yes, nan]   \n",
       "estrogen                                                                                                                                                                                                                                                                                                                                                                                                                                                                                                                                                                                                                                                                                                                                                                                                                                                                                                                                                                                                                                                                           [no, yes, nan]   \n",
       "bmi                                                       [26.7015187989, 28.0720927424, 23.493080184, 24.3717875403, 26.1547736442, 21.72883678, 25.5016055057, 21.6996783839, 27.6353033012, 29.2887545575, 32.4879872969, 23.0232185803, 26.2857351766, 27.124341179, 31.8714026264, 25.079770974, 31.1181092053, 23.2969801537, 18.6378436126, 26.9579341779, 27.9274860801, 26.5605189406, 23.3364596494, 24.3922099058, 28.6967175363, 25.0592855296, 25.8856577293, 28.5914032585, 28.8368382274, 24.373994216, 22.2401159075, 23.7367910485, 23.4112659193, 30.1315534131, 24.5630328818, 23.431003646, 21.6178902686, 21.5422178534, 21.079687573, 21.9268748384, 19.5297105455, 25.7930851702, 26.6054162217, 27.1203597615, 24.2103849738, 27.7058757223, 35.4280463411, 21.0335592244, 28.9747988936, 21.2867087261, 23.9961936614, 21.4393268633, 24.4747394255, 29.0841768078, 27.7321889747, 34.8675649494, 27.9640682039, 24.4072954646, 24.2168410765, 27.1156311707, 24.0306985228, 18.9510846817, 36.1578640957, 24.3276671155, 24.2761828568, 35.5085646282, 19.1077052163...   \n",
       "insulin(yes or no)                                                                                                                                                                                                                                                                                                                                                                                                                                                                                                                                                                                                                                                                                                                                                                                                                                                                                                                                                                                                                                                                      [no, nan]   \n",
       "cancer patient medical history                                                                                                                                                                                                                                                                                                                                                                                                                                                                                                                                                                                                                                                                                                                                                                                                                                                                                                                                                                                                                                                     [no, yes, nan]   \n",
       "gender                                                                                                                                                                                                                                                                                                                                                                                                                                                                                                                                                                                                                                                                                                                                                                                                                                                                                                                                                                                                                                                                             [female, male]   \n",
       "dm family history                                                                                                                                                                                                                                                                                                                                                                                                                                                                                                                                                                                                                                                                                                                                                                                                                                                                                                                                                                                                                                                  [0.0, 1.0, 2.0, nan, 3.0, 4.0]   \n",
       "stroke patient medical history                                                                                                                                                                                                                                                                                                                                                                                                                                                                                                                                                                                                                                                                                                                                                                                                                                                                                                                                                                                                                                                          [no, yes]   \n",
       "\n",
       "                                                                                                                                                                                                                                                                                                                                                                                                                                                                                                                                                                                                                                                                                                                                                                                                                                                                                                                                                                                                                                                                                        perfusion  \\\n",
       "arbs                                                                                                                                                                                                                                                                                                                                                                                                                                                                                                                                                                                                                                                                                                                                                                                                                                                                                                                                                                                                                                                                               [no, yes, nan]   \n",
       "syncope autonomic symptoms                                                                                                                                                                                                                                                                                                                                                                                                                                                                                                                                                                                                                                                                                                                                                                                                                                                                                                                                                                                                                                                         [no, yes, nan]   \n",
       "statins                                                                                                                                                                                                                                                                                                                                                                                                                                                                                                                                                                                                                                                                                                                                                                                                                                                                                                                                                                                                                                                                            [no, yes, nan]   \n",
       "patient id                                                                                                                                                                                                                                                                                                                                                                                                                                                      [s0250, s0254, s0255, s0256, s0257, s0262, s0264, s0267, s0270, s0271, s0273, s0274, s0279, s0281, s0282, s0283, s0287, s0288, s0290, s0292, s0294, s0296, s0300, s0301, s0302, s0303, s0304, s0306, s0308, s0310, s0312, s0314, s0315, s0316, s0317, s0318, s0320, s0323, s0326, s0327, s0328, s0330, s0333, s0339, s0342, s0349, s0360, s0365, s0366, s0368, s0372, s0375, s0381, s0382, s0386, s0390, s0391, s0392, s0393, s0395, s0398, s0403, s0405, s0406, s0407, s0408, s0409, s0410, s0411, s0416, s0417, s0420, s0421, s0422, s0423, s0424, s0426, s0427, s0430, s0431, s0432, s0433, s0434, s0435, s0438, s0441, s0443]   \n",
       "neuropathy autonomic symptoms                                                                                                                                                                                                                                                                                                                                                                                                                                                                                                                                                                                                                                                                                                                                                                                                                                                                                                                                                                                                                                                           [no, yes]   \n",
       "beta blockers                                                                                                                                                                                                                                                                                                                                                                                                                                                                                                                                                                                                                                                                                                                                                                                                                                                                                                                                                                                                                                                                      [no, yes, nan]   \n",
       "current tobacco use                                                                                                                                                                                                                                                                                                                                                                                                                                                                                                                                                                                                                                                                                                                                                                                                                                                                                                                                                                                                                                                                [no, yes, nan]   \n",
       "heart failure =chf /ifarction=mi patient medical history                                                                                                                                                                                                                                                                                                                                                                                                                                                                                                                                                                                                                                                                                                                                                                                                                                                                                                                                                                                                                           [no, nan, yes]   \n",
       "previous tobacco use                                                                                                                                                                                                                                                                                                                                                                                                                                                                                                                                                                                                                                                                                                                                                                                                                                                                                                                                                                                                                                                               [yes, no, nan]   \n",
       "ace inhibitors                                                                                                                                                                                                                                                                                                                                                                                                                                                                                                                                                                                                                                                                                                                                                                                                                                                                                                                                                                                                                                                                     [no, yes, nan]   \n",
       "antiparkinsonian                                                                                                                                                                                                                                                                                                                                                                                                                                                                                                                                                                                                                                                                                                                                                                                                                                                                                                                                                                                                                                                                   [no, yes, nan]   \n",
       "antiplatelets                                                                                                                                                                                                                                                                                                                                                                                                                                                                                                                                                                                                                                                                                                                                                                                                                                                                                                                                                                                                                                                                      [no, yes, nan]   \n",
       "oh autonomic symptoms                                                                                                                                                                                                                                                                                                                                                                                                                                                                                                                                                                                                                                                                                                                                                                                                                                                                                                                                                                                                                                                              [no, yes, nan]   \n",
       "alcohol dose/week                                                                                                                                                                                                                                                                                                                                                                                                                                                                                                                                                                                                                                                                                                                                                                                                                                                                                                                                                                              [7.0, 0.5, 9.0, 3.0, 0.0, nan, 0.25, 1.0, 70.0, 4.0, 14.0, 2.0, 35.0, 0.86, 21.0, 25.0, 5.0, 10.0]   \n",
       "pack years                                                                                                                                                                                                                                                                                                                                                                                                                                                                                                                                                                                                                                                                                                                                                                                                                                                                                                                   [2.86, 0.14, 0.0, 5.71, 34.0, 20.0, 10.0, 15.0, 60.0, 30.0, 25.0, 4.29, nan, 35.0, 12.5, 8.57, 57.0, 80.0, 26.0, 40.0, 61.5, 48.0, 45.0, 7.5, 1.14, 1.25, 0.5, 0.29]   \n",
       "oral hypoglycemic                                                                                                                                                                                                                                                                                                                                                                                                                                                                                                                                                                                                                                                                                                                                                                                                                                                                                                                                                                                                                                                                  [yes, no, nan]   \n",
       "age                                                                                                                                                                                                                                                                                                                                                                                                                                                                                                                                                                                                                                                                                                                                                                                                                                                                                                                                                                  [50, 69, 78, 65, 55, 67, 66, 74, 81, 57, 68, 58, 62, 83, 73, 59, 71, 53, 64, 52, 61, 51, 80, 76, 77, 60, 70, 56, 72, 54, 63]   \n",
       "htn family history                                                                                                                                                                                                                                                                                                                                                                                                                                                                                                                                                                                                                                                                                                                                                                                                                                                                                                                                                                                                                                                 [1.0, 0.0, 2.0, 3.0, nan, 4.0]   \n",
       "heartdisease family history                                                                                                                                                                                                                                                                                                                                                                                                                                                                                                                                                                                                                                                                                                                                                                                                                                                                                                                                                                                                                                             [1.0, 3.0, 0.0, 2.0, nan]   \n",
       "antihyperlipidemic                                                                                                                                                                                                                                                                                                                                                                                                                                                                                                                                                                                                                                                                                                                                                                                                                                                                                                                                                                                                                                                                 [no, yes, nan]   \n",
       "height                                                                                                                                                                                                                                                                                                                                                                                                                                                                                                                                                                                                                                                                                                                                                                        [1.79, 1.531, 1.52, 1.575, 1.7, 1.5, 1.722, 1.68, 1.73, 1.807, 1.63, 1.6, 1.608, 1.62, 1.602, 1.54, 1.57, 1.66, 1.85, 1.46, 1.9, 1.59, 1.84, 1.64, 1.8, 1.75, 1.53, 1.76, 1.83, 1.72, 1.56, 1.65, 1.78, 1.71, 1.82, 1.74, 1.67, 1.77, 1.55, 1.61, 1.92, 1.69, 1.561, 1.557, 1.818, 1.768, 1.667, 1.727, 1.798, nan]   \n",
       "mass                                                                                                                                                                                                                                                                                                                                                                                                                                                                                                                      [114.65, 56.9, 65.77, 73.5, 70.31, 83.46, 98.4, 85.28, 96.16, 71.67, 85.8, 63.5, 81.65, 56.25, 69.2, 48.99, 52.25, 65.65, 54.43, 88.8, 64.75, 74.6, 84.1, 95.4, 91.4, 65.2, 94.65, 74.25, 79.6, 84.0, 69.5, 124.0, 79.8, 96.95, 91.3, 75.85, 85.0, 81.95, 77.95, 99.05, 84.9, 83.5, 64.35, 95.25, 83.1, 84.05, 130.7, 86.05, 89.6, 122.5, 65.35, 63.8, 91.1, 81.15, 119.4, 77.5, 86.1, 60.5, 100.3, 78.8, 93.55, 121.6, 68.0, 69.0, 72.7, 69.85, 85.75, 63.96, 86.85, 85.3, 87.8, 89.65, 86.95, 75.15, 64.65, 79.5, 133.05, 92.85, 72.3, 80.74, 75.4, 93.6, 71.05, nan]   \n",
       "previous alcohol use                                                                                                                                                                                                                                                                                                                                                                                                                                                                                                                                                                                                                                                                                                                                                                                                                                                                                                                                                                                                                                                               [yes, no, nan]   \n",
       "strokefamily history                                                                                                                                                                                                                                                                                                                                                                                                                                                                                                                                                                                                                                                                                                                                                                                                                                                                                                                                                                                                                                                    [0.0, 1.0, 3.0, 2.0, nan]   \n",
       "dizziness autonomic symptoms                                                                                                                                                                                                                                                                                                                                                                                                                                                                                                                                                                                                                                                                                                                                                                                                                                                                                                                                                                                                                                                            [no, yes]   \n",
       "years                                                                                                                                                                                                                                                                                                                                                                                                                                                                                                                                                                                                                                                                                                                                                                                                                                                                                                                                                                                      [10.0, 1.0, 0.0, 20.0, 17.0, 15.0, 40.0, 30.0, 25.0, nan, 35.0, 57.0, 26.0, 3.0, 41.0, 2.0, 24.0, 5.0]   \n",
       "atrial fibtrillation patient medical history                                                                                                                                                                                                                                                                                                                                                                                                                                                                                                                                                                                                                                                                                                                                                                                                                                                                                                                                                                                                                                       [no, yes, nan]   \n",
       "hyperlipidemia patient medical history                                                                                                                                                                                                                                                                                                                                                                                                                                                                                                                                                                                                                                                                                                                                                                                                                                                                                                                                                                                                                                                  [no, yes]   \n",
       "cancer# family history                                                                                                                                                                                                                                                                                                                                                                                                                                                                                                                                                                                                                                                                                                                                                                                                                                                                                                                                                                                                                                                  [1.0, 0.0, 2.0, 3.0, nan]   \n",
       "diuretics                                                                                                                                                                                                                                                                                                                                                                                                                                                                                                                                                                                                                                                                                                                                                                                                                                                                                                                                                                                                                                                                          [no, yes, nan]   \n",
       "numbness autonomic symptoms                                                                                                                                                                                                                                                                                                                                                                                                                                                                                                                                                                                                                                                                                                                                                                                                                                                                                                                                                                                                                                                        [no, yes, nan]   \n",
       "ca ++ blockers                                                                                                                                                                                                                                                                                                                                                                                                                                                                                                                                                                                                                                                                                                                                                                                                                                                                                                                                                                                                                                                                     [no, yes, nan]   \n",
       "painful feet autonomic symptoms                                                                                                                                                                                                                                                                                                                                                                                                                                                                                                                                                                                                                                                                                                                                                                                                                                                                                                                                                                                                                                                    [no, yes, nan]   \n",
       "diabetes                                                                                                                                                                                                                                                                                                                                                                                                                                                                                                                                                                                                                                                                                                                                                                                                                                                                                                                                                                                                                                                                                [yes, no]   \n",
       "anticoagulants                                                                                                                                                                                                                                                                                                                                                                                                                                                                                                                                                                                                                                                                                                                                                                                                                                                                                                                                                                                                                                                                     [no, yes, nan]   \n",
       "estrogen                                                                                                                                                                                                                                                                                                                                                                                                                                                                                                                                                                                                                                                                                                                                                                                                                                                                                                                                                                                                                                                                           [no, yes, nan]   \n",
       "bmi                                                       [35.782279, 24.2751479, 28.4669321, 29.6296296, 24.3287197, 37.0933333, 33.1840053, 30.2154195, 32.1293728, 25.3932823, 26.2767097, 23.9000339, 31.8945313, 24.3464335, 26.7629514, 21.2041205, 19.9093126, 25.5805399, 23.5586911, 25.6914062, 37.4430764, 26.2688142, 27.072144, 31.6534307, 27.8743608, 32.3837868, 30.5873522, 26.2188366, 29.3698825, 27.5432526, 24.8109641, 25.8402736, 38.2716049, 26.0571429, 29.9228395, 39.0020932, 33.7111111, 28.400548, 26.4559659, 31.624001, 27.6063355, 29.576876, 28.6979448, 34.3113083, 23.6363636, 30.0624921, 26.227749, 28.743887, 40.3395062, 29.7750865, 26.7550539, 38.6630476, 25.5273437, 22.6048753, 35.5859375, 24.4988528, 37.2647545, 25.5978333, 36.3046045, 21.6931407, 33.1285507, 23.0241052, 20.8326531, 33.1455499, 45.7676239, 26.5625, 26.2917238, 23.2053369, 23.6107355, 30.7468895, 26.6222685, 36.1498439, 32.907681, 23.8172743, 34.160189, 29.0520899, 26.3121039, 26.5315561, 32.793661, 40.2556757, 29.7041676, 26.0175919, 27.0709857, 24.6204082, ...   \n",
       "insulin(yes or no)                                                                                                                                                                                                                                                                                                                                                                                                                                                                                                                                                                                                                                                                                                                                                                                                                                                                                                                                                                                                                                                                 [no, yes, nan]   \n",
       "cancer patient medical history                                                                                                                                                                                                                                                                                                                                                                                                                                                                                                                                                                                                                                                                                                                                                                                                                                                                                                                                                                                                                                                          [no, yes]   \n",
       "gender                                                                                                                                                                                                                                                                                                                                                                                                                                                                                                                                                                                                                                                                                                                                                                                                                                                                                                                                                                                                                                                                             [male, female]   \n",
       "dm family history                                                                                                                                                                                                                                                                                                                                                                                                                                                                                                                                                                                                                                                                                                                                                                                                                                                                                                                                                                                                                                                  [1.0, 0.0, 3.0, 2.0, 4.0, nan]   \n",
       "stroke patient medical history                                                                                                                                                                                                                                                                                                                                                                                                                                                                                                                                                                                                                                                                                                                                                                                                                                                                                                                                                                                                                                                          [no, tia]   \n",
       "\n",
       "                                                                                                                                                                                                                                                                                                                                                                                                                                                                                                                                                                                                                                                                                                                                                                                                                                                                                                                                                                                                                                                                                   symmetric_diff  \n",
       "arbs                                                                                                                                                                                                                                                                                                                                                                                                                                                                                                                                                                                                                                                                                                                                                                                                                                                                                                                                                                                                                                                                                           {}  \n",
       "syncope autonomic symptoms                                                                                                                                                                                                                                                                                                                                                                                                                                                                                                                                                                                                                                                                                                                                                                                                                                                                                                                                                                                                                                                                     {}  \n",
       "statins                                                                                                                                                                                                                                                                                                                                                                                                                                                                                                                                                                                                                                                                                                                                                                                                                                                                                                                                                                                                                                                                                        {}  \n",
       "patient id                                                                                                                                                                                                                                                                                                                                                      {s0341, s0371, s0406, s0390, s0169, s0336, s0302, s0255, s0330, s0187, s0416, s0402, s0166, s0338, s0235, s0366, s0404, s0287, s0411, s0165, s0177, s0290, s0068, s0262, s0203, s0164, s0353, s0432, s0267, s0211, s0333, s0347, s0328, s0162, s0369, s0151, s0326, s0422, s0271, s0433, s0200, s0315, s0175, s0098, s0282, s0409, s0408, s0229, s0249, s0182, s0256, s0414, s0427, s0240, s0275, s0217, s0434, s0227, s0241, s0153, s0359, s0247, s0435, s0374, s0342, s0423, s0443, s0270, s0301, s0379, s0382, s0383, s0243, s0375, s0210, s0391, s0365, s0209, s0223, s0410, s0332, s0185, s0277, s0274, s0314, s0356, s0329, s0239, s0334, s0354, s0163, s0424, s0281, s0364, s0296, s0393, s0245, s0324, s0322, s0250, ...}  \n",
       "neuropathy autonomic symptoms                                                                                                                                                                                                                                                                                                                                                                                                                                                                                                                                                                                                                                                                                                                                                                                                                                                                                                                                                                                                                                                               {nan}  \n",
       "beta blockers                                                                                                                                                                                                                                                                                                                                                                                                                                                                                                                                                                                                                                                                                                                                                                                                                                                                                                                                                                                                                                                                                  {}  \n",
       "current tobacco use                                                                                                                                                                                                                                                                                                                                                                                                                                                                                                                                                                                                                                                                                                                                                                                                                                                                                                                                                                                                                                                                            {}  \n",
       "heart failure =chf /ifarction=mi patient medical history                                                                                                                                                                                                                                                                                                                                                                                                                                                                                                                                                                                                                                                                                                                                                                                                                                                                                                                                                                                                                                       {}  \n",
       "previous tobacco use                                                                                                                                                                                                                                                                                                                                                                                                                                                                                                                                                                                                                                                                                                                                                                                                                                                                                                                                                                                                                                                                           {}  \n",
       "ace inhibitors                                                                                                                                                                                                                                                                                                                                                                                                                                                                                                                                                                                                                                                                                                                                                                                                                                                                                                                                                                                                                                                                                 {}  \n",
       "antiparkinsonian                                                                                                                                                                                                                                                                                                                                                                                                                                                                                                                                                                                                                                                                                                                                                                                                                                                                                                                                                                                                                                                                            {yes}  \n",
       "antiplatelets                                                                                                                                                                                                                                                                                                                                                                                                                                                                                                                                                                                                                                                                                                                                                                                                                                                                                                                                                                                                                                                                                  {}  \n",
       "oh autonomic symptoms                                                                                                                                                                                                                                                                                                                                                                                                                                                                                                                                                                                                                                                                                                                                                                                                                                                                                                                                                                                                                                                                          {}  \n",
       "alcohol dose/week                                                                                                                                                                                                                                                                                                                                                                                                                                                                                                                                                                                                                                                                                                                                                                                                                                                                                                                                                                      {nan, 9.0, nan, 1.5, 2.5, 12.0, 10.5, 15.0, 3.5, 20.0, 24.0, 25.0, 28.0, 6.0, 35.0, 0.86, 8.0, 42.0, 49.0}  \n",
       "pack years                                                                                                                                                                                                                                                                                                                                                                                                                                                                                                                                                                                                                                                                                                                                                                    {0.14, nan, 2.86, 1.14, 4.29, 5.71, 1.25, 7.5, 8.57, 0.5, nan, 1.0, 12.5, 5.0, 8.0, 3.75, 9.0, 11.0, 12.0, 14.0, 1.43, 17.0, 4.0, 26.0, 24.0, 27.0, 30.86, 6.75, 33.0, 34.0, 36.0, 41.0, 42.0, 43.0, 50.0, 10.5, 54.0, 61.5, 62.5, 64.0, 0.1667, 66.0, 72.0, 80.0, 86.0, 96.0, 100.0, 0.29, 0.6, 160.0, 1.71, 2.14}  \n",
       "oral hypoglycemic                                                                                                                                                                                                                                                                                                                                                                                                                                                                                                                                                                                                                                                                                                                                                                                                                                                                                                                                                                                                                                                                              {}  \n",
       "age                                                                                                                                                                                                                                                                                                                                                                                                                                                                                                                                                                                                                                                                                                                                                                                                                                                                                                                                                                                                                                                                          {75, 79, 81, 83, 56}  \n",
       "htn family history                                                                                                                                                                                                                                                                                                                                                                                                                                                                                                                                                                                                                                                                                                                                                                                                                                                                                                                                                                                                                                                                     {nan, nan}  \n",
       "heartdisease family history                                                                                                                                                                                                                                                                                                                                                                                                                                                                                                                                                                                                                                                                                                                                                                                                                                                                                                                                                                                                                                                       {nan, 4.0, nan}  \n",
       "antihyperlipidemic                                                                                                                                                                                                                                                                                                                                                                                                                                                                                                                                                                                                                                                                                                                                                                                                                                                                                                                                                                                                                                                                             {}  \n",
       "height                                                                                                                                                                                                                                                                                                                                                                                                                                                                                                                                                                                                                                                                                                                                  {nan, 1.79, 1.575, 1.531, 1.5, 1.722, 1.807, 1.92, 1.561, 1.8034, 1.84, 1.76, 1.667, 1.5748, 1.798, 1.651, 1.7653, 1.7272, nan, 1.85, 1.77, 1.818, 1.715, 1.6764, 1.8288, 1.7526, 1.54, 1.46, 1.71, 1.6383, 1.524, 1.6002, 1.768, 1.4986, 1.502, 1.47, 1.608, 1.9, 1.557, 1.7018, 1.6256, 1.778, 1.8542, 1.81, 1.602, 1.727, 1.5494, 1.4732, 1.49, 1.695}  \n",
       "mass                                                                                                                                                                                                                                             {nan, nan, 45.81, 48.99, 49.89, 51.5, 52.25, 52.16312255, 54.43, 53.97749203, 56.24545388, 57.60623099, 58.9670081, 58.05982336, 59.1, 61.0, 62.15, 60.78137758, 64.35, 65.31730128, 66.2, 67.58526313, 68.0388555, 65.35, 63.0, 63.8, 63.96, 64.75, 69.2, 75.15, 70.31, 77.5, 78.8, 79.5, 81.15, 83.5, 83.1, 85.75, 86.95, 85.3, 86.05, 89.6, 89.65, 86.1, 91.1, 86.85, 87.8, 91.4, 91.3, 94.65, 95.4, 96.16, 96.95, 98.4, 99.05, 95.25, 100.3, 106.59420695, 106.55, 107.2, 112.35, 113.3980925, 114.30527724, 114.65, 119.4, 121.6, 122.5, 124.0, 130.7, 133.05, 54.4310844, 54.88467677, 56.25, 57.45, 60.32778521, 60.5, 62.14215469, 63.5, 63.5029318, 63.2, 63.25, 64.41011654, 64.41, 64.86370891, 65.77, 65.65, 65.2, 65.9, 66.5, 66.67807839, 66.3, 67.13167076, 67.9, 68.49244787, 68.3, 68.75, 69.5, 70.30681735, 71.67, 71.05, ...}  \n",
       "previous alcohol use                                                                                                                                                                                                                                                                                                                                                                                                                                                                                                                                                                                                                                                                                                                                                                                                                                                                                                                                                                                                                                                                           {}  \n",
       "strokefamily history                                                                                                                                                                                                                                                                                                                                                                                                                                                                                                                                                                                                                                                                                                                                                                                                                                                                                                                                                                                                                                                                   {nan, nan}  \n",
       "dizziness autonomic symptoms                                                                                                                                                                                                                                                                                                                                                                                                                                                                                                                                                                                                                                                                                                                                                                                                                                                                                                                                                                                                                                                                {nan}  \n",
       "years                                                                                                                                                                                                                                                                                                                                                                                                                                                                                                                                                                                                                                                                                                                                                                                                                                                                                                                                                               {nan, 3.0, nan, 4.0, 7.0, 8.0, 9.0, 12.0, 64.0, 22.0, 26.0, 27.0, 28.0, 33.0, 36.0, 42.0, 43.0, 45.0, 48.0, 50.0, 55.0, 60.0}  \n",
       "atrial fibtrillation patient medical history                                                                                                                                                                                                                                                                                                                                                                                                                                                                                                                                                                                                                                                                                                                                                                                                                                                                                                                                                                                                                                                   {}  \n",
       "hyperlipidemia patient medical history                                                                                                                                                                                                                                                                                                                                                                                                                                                                                                                                                                                                                                                                                                                                                                                                                                                                                                                                                                                                                                                      {nan}  \n",
       "cancer# family history                                                                                                                                                                                                                                                                                                                                                                                                                                                                                                                                                                                                                                                                                                                                                                                                                                                                                                                                                                                                                                                            {nan, nan, 5.0}  \n",
       "diuretics                                                                                                                                                                                                                                                                                                                                                                                                                                                                                                                                                                                                                                                                                                                                                                                                                                                                                                                                                                                                                                                                                      {}  \n",
       "numbness autonomic symptoms                                                                                                                                                                                                                                                                                                                                                                                                                                                                                                                                                                                                                                                                                                                                                                                                                                                                                                                                                                                                                                                                    {}  \n",
       "ca ++ blockers                                                                                                                                                                                                                                                                                                                                                                                                                                                                                                                                                                                                                                                                                                                                                                                                                                                                                                                                                                                                                                                                                 {}  \n",
       "painful feet autonomic symptoms                                                                                                                                                                                                                                                                                                                                                                                                                                                                                                                                                                                                                                                                                                                                                                                                                                                                                                                                                                                                                                                                {}  \n",
       "diabetes                                                                                                                                                                                                                                                                                                                                                                                                                                                                                                                                                                                                                                                                                                                                                                                                                                                                                                                                                                                                                                                                                    {nan}  \n",
       "anticoagulants                                                                                                                                                                                                                                                                                                                                                                                                                                                                                                                                                                                                                                                                                                                                                                                                                                                                                                                                                                                                                                                                                 {}  \n",
       "estrogen                                                                                                                                                                                                                                                                                                                                                                                                                                                                                                                                                                                                                                                                                                                                                                                                                                                                                                                                                                                                                                                                                       {}  \n",
       "bmi                                                       {nan, nan, 18.6378436126, 19.9093126, 20.8326531, 21.2041205, 21.6931407, 23.5586911, 24.5630328818, 25.4653803805, 24.3464335, 27.9640682039, 25.8402736, 26.2688142, 26.2188366, 26.0571429, 26.4559659, 26.227749, 27.072144, 27.8743608, 27.5432526, 28.400548, 29.3698825, 31.8945313, 32.1293728, 33.1840053, 35.782279, 37.0933333, 37.4430764, 38.2716049, 39.0020932, 40.3395062, 45.7676239, 40.2556757, 21.079687573, 23.8445265158, 23.9961936614, 23.3364596494, 24.3526170799, 24.27734375, 24.7484410431, 24.6204082, 24.3922099058, 25.5016055057, 25.7930851702, 24.373994216, 25.079770974, 24.7474542578, 26.2857351766, 26.9024970273, 26.9579341779, 26.2917238, 26.5625, 27.6063355, 26.0175919, 27.1156311707, 26.7455363623, 28.743887, 28.6967175363, 28.5879345961, 28.7052341598, 29.576876, 29.6296296, 29.0520899, 29.7750865, 29.2887545575, 30.0624921, 29.0190643591, 30.12109375, 31.6534307, 31.1181092053, 31.8714026264, 31.4840603711, 31.1728843083, 31.462585034, 32.907681, 32.793661, 32.48...  \n",
       "insulin(yes or no)                                                                                                                                                                                                                                                                                                                                                                                                                                                                                                                                                                                                                                                                                                                                                                                                                                                                                                                                                                                                                                                                          {yes}  \n",
       "cancer patient medical history                                                                                                                                                                                                                                                                                                                                                                                                                                                                                                                                                                                                                                                                                                                                                                                                                                                                                                                                                                                                                                                              {nan}  \n",
       "gender                                                                                                                                                                                                                                                                                                                                                                                                                                                                                                                                                                                                                                                                                                                                                                                                                                                                                                                                                                                                                                                                                         {}  \n",
       "dm family history                                                                                                                                                                                                                                                                                                                                                                                                                                                                                                                                                                                                                                                                                                                                                                                                                                                                                                                                                                                                                                                                      {nan, nan}  \n",
       "stroke patient medical history                                                                                                                                                                                                                                                                                                                                                                                                                                                                                                                                                                                                                                                                                                                                                                                                                                                                                                                                                                                                                                                         {yes, tia}  "
      ]
     },
     "execution_count": 30,
     "metadata": {},
     "output_type": "execute_result"
    }
   ],
   "source": [
    "unique_value_stroke = []\n",
    "unique_value_perfusion = []\n",
    "symmetric_difference = []\n",
    "\n",
    "for col in (set(df_perfusion_v1.columns) & set(df_stroke_v1.columns)):\n",
    "    unique_stroke = list(pd.unique(df_stroke_v1[col]))\n",
    "    unique_perfusion = list(pd.unique(df_perfusion_v1[col]))\n",
    "    unique_value_stroke.append(unique_stroke)\n",
    "    unique_value_perfusion.append(unique_perfusion)\n",
    "    symmetric_difference.append((set(unique_stroke).symmetric_difference(set(unique_perfusion))))\n",
    "          \n",
    "df_common_features_comparison = pd.DataFrame({'stroke':unique_value_stroke, 'perfusion':unique_value_perfusion, \"symmetric_diff\": symmetric_difference}, index=(set(df_perfusion_v1.columns) & set(df_stroke_v1.columns)))\n",
    "df_common_features_comparison"
   ]
  },
  {
   "cell_type": "markdown",
   "id": "3c58bdc4",
   "metadata": {},
   "source": [
    "# Feature Selection"
   ]
  },
  {
   "cell_type": "markdown",
   "id": "cfe667b2",
   "metadata": {},
   "source": [
    "From the pandas profiling (exploration notebooks) we know that \"antiparkinsonian\" and \"insuline(yes or no)\" only have 'no's for the stroke dataset so there are not usable in our case. \n",
    "Because we may extract some information from the clustering, we are keeping a trace of features droped in stroke but kept in perfusion "
   ]
  },
  {
   "cell_type": "code",
   "execution_count": 31,
   "id": "b1bbc0c9",
   "metadata": {},
   "outputs": [],
   "source": [
    "clustering_features = [\"insulin(yes or no)\", \"antiparkinsonian\"]  "
   ]
  },
  {
   "cell_type": "code",
   "execution_count": 32,
   "id": "29470d59",
   "metadata": {},
   "outputs": [],
   "source": [
    "df_stroke_v1 = df_stroke_v1.drop(labels=clustering_features, axis=\"columns\")"
   ]
  },
  {
   "cell_type": "code",
   "execution_count": 33,
   "id": "79c43404",
   "metadata": {
    "scrolled": true
   },
   "outputs": [
    {
     "data": {
      "text/plain": [
       "(142, 40)"
      ]
     },
     "execution_count": 33,
     "metadata": {},
     "output_type": "execute_result"
    }
   ],
   "source": [
    "df_stroke_v1.shape"
   ]
  },
  {
   "cell_type": "markdown",
   "id": "ef78eb01",
   "metadata": {},
   "source": [
    "There are 40 features in the stroke datasets, the following questions have to be adressed: \n",
    "- Are 40 features too many features for 142 patients?\n",
    "- how features are correlated?\n",
    "- missing value?\n",
    "- data type\n",
    "\n",
    "All of this questions depend on the chosen algorithm. \n",
    "\n",
    "Random Forest may seem a good start:\n",
    " - support mixed type \n",
    " - doesn't need normalization for numerical features\n",
    " - can be used as a feature selection algorithm\n",
    " - handle quite well correlated/redundant variables,\n",
    " \n",
    "The only problem is missing value so we'll have to drop some features and patients"
   ]
  },
  {
   "cell_type": "code",
   "execution_count": 34,
   "id": "8f1ae294",
   "metadata": {
    "scrolled": true
   },
   "outputs": [
    {
     "data": {
      "text/plain": [
       "(143, 44)"
      ]
     },
     "execution_count": 34,
     "metadata": {},
     "output_type": "execute_result"
    }
   ],
   "source": [
    "df_stroke.shape"
   ]
  },
  {
   "cell_type": "code",
   "execution_count": 35,
   "id": "637c1409",
   "metadata": {},
   "outputs": [
    {
     "data": {
      "application/vnd.plotly.v1+json": {
       "config": {
        "plotlyServerURL": "https://plot.ly"
       },
       "data": [
        {
         "alignmentgroup": "True",
         "hovertemplate": "variable=0<br>number of missing value=%{x}<br>number of patients=%{y}<extra></extra>",
         "legendgroup": "0",
         "marker": {
          "color": "#636efa",
          "pattern": {
           "shape": ""
          }
         },
         "name": "0",
         "offsetgroup": "0",
         "orientation": "v",
         "showlegend": true,
         "textposition": "auto",
         "type": "bar",
         "x": [
          0,
          1,
          2,
          3,
          4,
          5,
          6,
          7,
          33
         ],
         "xaxis": "x",
         "y": [
          96,
          27,
          8,
          3,
          2,
          2,
          2,
          1,
          1
         ],
         "yaxis": "y"
        }
       ],
       "layout": {
        "bargap": 0.3,
        "barmode": "relative",
        "font": {
         "size": 8
        },
        "height": 600,
        "legend": {
         "title": {
          "text": "variable"
         },
         "tracegroupgap": 0
        },
        "margin": {
         "t": 60
        },
        "template": {
         "data": {
          "bar": [
           {
            "error_x": {
             "color": "#2a3f5f"
            },
            "error_y": {
             "color": "#2a3f5f"
            },
            "marker": {
             "line": {
              "color": "#E5ECF6",
              "width": 0.5
             },
             "pattern": {
              "fillmode": "overlay",
              "size": 10,
              "solidity": 0.2
             }
            },
            "type": "bar"
           }
          ],
          "barpolar": [
           {
            "marker": {
             "line": {
              "color": "#E5ECF6",
              "width": 0.5
             },
             "pattern": {
              "fillmode": "overlay",
              "size": 10,
              "solidity": 0.2
             }
            },
            "type": "barpolar"
           }
          ],
          "carpet": [
           {
            "aaxis": {
             "endlinecolor": "#2a3f5f",
             "gridcolor": "white",
             "linecolor": "white",
             "minorgridcolor": "white",
             "startlinecolor": "#2a3f5f"
            },
            "baxis": {
             "endlinecolor": "#2a3f5f",
             "gridcolor": "white",
             "linecolor": "white",
             "minorgridcolor": "white",
             "startlinecolor": "#2a3f5f"
            },
            "type": "carpet"
           }
          ],
          "choropleth": [
           {
            "colorbar": {
             "outlinewidth": 0,
             "ticks": ""
            },
            "type": "choropleth"
           }
          ],
          "contour": [
           {
            "colorbar": {
             "outlinewidth": 0,
             "ticks": ""
            },
            "colorscale": [
             [
              0,
              "#0d0887"
             ],
             [
              0.1111111111111111,
              "#46039f"
             ],
             [
              0.2222222222222222,
              "#7201a8"
             ],
             [
              0.3333333333333333,
              "#9c179e"
             ],
             [
              0.4444444444444444,
              "#bd3786"
             ],
             [
              0.5555555555555556,
              "#d8576b"
             ],
             [
              0.6666666666666666,
              "#ed7953"
             ],
             [
              0.7777777777777778,
              "#fb9f3a"
             ],
             [
              0.8888888888888888,
              "#fdca26"
             ],
             [
              1,
              "#f0f921"
             ]
            ],
            "type": "contour"
           }
          ],
          "contourcarpet": [
           {
            "colorbar": {
             "outlinewidth": 0,
             "ticks": ""
            },
            "type": "contourcarpet"
           }
          ],
          "heatmap": [
           {
            "colorbar": {
             "outlinewidth": 0,
             "ticks": ""
            },
            "colorscale": [
             [
              0,
              "#0d0887"
             ],
             [
              0.1111111111111111,
              "#46039f"
             ],
             [
              0.2222222222222222,
              "#7201a8"
             ],
             [
              0.3333333333333333,
              "#9c179e"
             ],
             [
              0.4444444444444444,
              "#bd3786"
             ],
             [
              0.5555555555555556,
              "#d8576b"
             ],
             [
              0.6666666666666666,
              "#ed7953"
             ],
             [
              0.7777777777777778,
              "#fb9f3a"
             ],
             [
              0.8888888888888888,
              "#fdca26"
             ],
             [
              1,
              "#f0f921"
             ]
            ],
            "type": "heatmap"
           }
          ],
          "heatmapgl": [
           {
            "colorbar": {
             "outlinewidth": 0,
             "ticks": ""
            },
            "colorscale": [
             [
              0,
              "#0d0887"
             ],
             [
              0.1111111111111111,
              "#46039f"
             ],
             [
              0.2222222222222222,
              "#7201a8"
             ],
             [
              0.3333333333333333,
              "#9c179e"
             ],
             [
              0.4444444444444444,
              "#bd3786"
             ],
             [
              0.5555555555555556,
              "#d8576b"
             ],
             [
              0.6666666666666666,
              "#ed7953"
             ],
             [
              0.7777777777777778,
              "#fb9f3a"
             ],
             [
              0.8888888888888888,
              "#fdca26"
             ],
             [
              1,
              "#f0f921"
             ]
            ],
            "type": "heatmapgl"
           }
          ],
          "histogram": [
           {
            "marker": {
             "pattern": {
              "fillmode": "overlay",
              "size": 10,
              "solidity": 0.2
             }
            },
            "type": "histogram"
           }
          ],
          "histogram2d": [
           {
            "colorbar": {
             "outlinewidth": 0,
             "ticks": ""
            },
            "colorscale": [
             [
              0,
              "#0d0887"
             ],
             [
              0.1111111111111111,
              "#46039f"
             ],
             [
              0.2222222222222222,
              "#7201a8"
             ],
             [
              0.3333333333333333,
              "#9c179e"
             ],
             [
              0.4444444444444444,
              "#bd3786"
             ],
             [
              0.5555555555555556,
              "#d8576b"
             ],
             [
              0.6666666666666666,
              "#ed7953"
             ],
             [
              0.7777777777777778,
              "#fb9f3a"
             ],
             [
              0.8888888888888888,
              "#fdca26"
             ],
             [
              1,
              "#f0f921"
             ]
            ],
            "type": "histogram2d"
           }
          ],
          "histogram2dcontour": [
           {
            "colorbar": {
             "outlinewidth": 0,
             "ticks": ""
            },
            "colorscale": [
             [
              0,
              "#0d0887"
             ],
             [
              0.1111111111111111,
              "#46039f"
             ],
             [
              0.2222222222222222,
              "#7201a8"
             ],
             [
              0.3333333333333333,
              "#9c179e"
             ],
             [
              0.4444444444444444,
              "#bd3786"
             ],
             [
              0.5555555555555556,
              "#d8576b"
             ],
             [
              0.6666666666666666,
              "#ed7953"
             ],
             [
              0.7777777777777778,
              "#fb9f3a"
             ],
             [
              0.8888888888888888,
              "#fdca26"
             ],
             [
              1,
              "#f0f921"
             ]
            ],
            "type": "histogram2dcontour"
           }
          ],
          "mesh3d": [
           {
            "colorbar": {
             "outlinewidth": 0,
             "ticks": ""
            },
            "type": "mesh3d"
           }
          ],
          "parcoords": [
           {
            "line": {
             "colorbar": {
              "outlinewidth": 0,
              "ticks": ""
             }
            },
            "type": "parcoords"
           }
          ],
          "pie": [
           {
            "automargin": true,
            "type": "pie"
           }
          ],
          "scatter": [
           {
            "fillpattern": {
             "fillmode": "overlay",
             "size": 10,
             "solidity": 0.2
            },
            "type": "scatter"
           }
          ],
          "scatter3d": [
           {
            "line": {
             "colorbar": {
              "outlinewidth": 0,
              "ticks": ""
             }
            },
            "marker": {
             "colorbar": {
              "outlinewidth": 0,
              "ticks": ""
             }
            },
            "type": "scatter3d"
           }
          ],
          "scattercarpet": [
           {
            "marker": {
             "colorbar": {
              "outlinewidth": 0,
              "ticks": ""
             }
            },
            "type": "scattercarpet"
           }
          ],
          "scattergeo": [
           {
            "marker": {
             "colorbar": {
              "outlinewidth": 0,
              "ticks": ""
             }
            },
            "type": "scattergeo"
           }
          ],
          "scattergl": [
           {
            "marker": {
             "colorbar": {
              "outlinewidth": 0,
              "ticks": ""
             }
            },
            "type": "scattergl"
           }
          ],
          "scattermapbox": [
           {
            "marker": {
             "colorbar": {
              "outlinewidth": 0,
              "ticks": ""
             }
            },
            "type": "scattermapbox"
           }
          ],
          "scatterpolar": [
           {
            "marker": {
             "colorbar": {
              "outlinewidth": 0,
              "ticks": ""
             }
            },
            "type": "scatterpolar"
           }
          ],
          "scatterpolargl": [
           {
            "marker": {
             "colorbar": {
              "outlinewidth": 0,
              "ticks": ""
             }
            },
            "type": "scatterpolargl"
           }
          ],
          "scatterternary": [
           {
            "marker": {
             "colorbar": {
              "outlinewidth": 0,
              "ticks": ""
             }
            },
            "type": "scatterternary"
           }
          ],
          "surface": [
           {
            "colorbar": {
             "outlinewidth": 0,
             "ticks": ""
            },
            "colorscale": [
             [
              0,
              "#0d0887"
             ],
             [
              0.1111111111111111,
              "#46039f"
             ],
             [
              0.2222222222222222,
              "#7201a8"
             ],
             [
              0.3333333333333333,
              "#9c179e"
             ],
             [
              0.4444444444444444,
              "#bd3786"
             ],
             [
              0.5555555555555556,
              "#d8576b"
             ],
             [
              0.6666666666666666,
              "#ed7953"
             ],
             [
              0.7777777777777778,
              "#fb9f3a"
             ],
             [
              0.8888888888888888,
              "#fdca26"
             ],
             [
              1,
              "#f0f921"
             ]
            ],
            "type": "surface"
           }
          ],
          "table": [
           {
            "cells": {
             "fill": {
              "color": "#EBF0F8"
             },
             "line": {
              "color": "white"
             }
            },
            "header": {
             "fill": {
              "color": "#C8D4E3"
             },
             "line": {
              "color": "white"
             }
            },
            "type": "table"
           }
          ]
         },
         "layout": {
          "annotationdefaults": {
           "arrowcolor": "#2a3f5f",
           "arrowhead": 0,
           "arrowwidth": 1
          },
          "autotypenumbers": "strict",
          "coloraxis": {
           "colorbar": {
            "outlinewidth": 0,
            "ticks": ""
           }
          },
          "colorscale": {
           "diverging": [
            [
             0,
             "#8e0152"
            ],
            [
             0.1,
             "#c51b7d"
            ],
            [
             0.2,
             "#de77ae"
            ],
            [
             0.3,
             "#f1b6da"
            ],
            [
             0.4,
             "#fde0ef"
            ],
            [
             0.5,
             "#f7f7f7"
            ],
            [
             0.6,
             "#e6f5d0"
            ],
            [
             0.7,
             "#b8e186"
            ],
            [
             0.8,
             "#7fbc41"
            ],
            [
             0.9,
             "#4d9221"
            ],
            [
             1,
             "#276419"
            ]
           ],
           "sequential": [
            [
             0,
             "#0d0887"
            ],
            [
             0.1111111111111111,
             "#46039f"
            ],
            [
             0.2222222222222222,
             "#7201a8"
            ],
            [
             0.3333333333333333,
             "#9c179e"
            ],
            [
             0.4444444444444444,
             "#bd3786"
            ],
            [
             0.5555555555555556,
             "#d8576b"
            ],
            [
             0.6666666666666666,
             "#ed7953"
            ],
            [
             0.7777777777777778,
             "#fb9f3a"
            ],
            [
             0.8888888888888888,
             "#fdca26"
            ],
            [
             1,
             "#f0f921"
            ]
           ],
           "sequentialminus": [
            [
             0,
             "#0d0887"
            ],
            [
             0.1111111111111111,
             "#46039f"
            ],
            [
             0.2222222222222222,
             "#7201a8"
            ],
            [
             0.3333333333333333,
             "#9c179e"
            ],
            [
             0.4444444444444444,
             "#bd3786"
            ],
            [
             0.5555555555555556,
             "#d8576b"
            ],
            [
             0.6666666666666666,
             "#ed7953"
            ],
            [
             0.7777777777777778,
             "#fb9f3a"
            ],
            [
             0.8888888888888888,
             "#fdca26"
            ],
            [
             1,
             "#f0f921"
            ]
           ]
          },
          "colorway": [
           "#636efa",
           "#EF553B",
           "#00cc96",
           "#ab63fa",
           "#FFA15A",
           "#19d3f3",
           "#FF6692",
           "#B6E880",
           "#FF97FF",
           "#FECB52"
          ],
          "font": {
           "color": "#2a3f5f"
          },
          "geo": {
           "bgcolor": "white",
           "lakecolor": "white",
           "landcolor": "#E5ECF6",
           "showlakes": true,
           "showland": true,
           "subunitcolor": "white"
          },
          "hoverlabel": {
           "align": "left"
          },
          "hovermode": "closest",
          "mapbox": {
           "style": "light"
          },
          "paper_bgcolor": "white",
          "plot_bgcolor": "#E5ECF6",
          "polar": {
           "angularaxis": {
            "gridcolor": "white",
            "linecolor": "white",
            "ticks": ""
           },
           "bgcolor": "#E5ECF6",
           "radialaxis": {
            "gridcolor": "white",
            "linecolor": "white",
            "ticks": ""
           }
          },
          "scene": {
           "xaxis": {
            "backgroundcolor": "#E5ECF6",
            "gridcolor": "white",
            "gridwidth": 2,
            "linecolor": "white",
            "showbackground": true,
            "ticks": "",
            "zerolinecolor": "white"
           },
           "yaxis": {
            "backgroundcolor": "#E5ECF6",
            "gridcolor": "white",
            "gridwidth": 2,
            "linecolor": "white",
            "showbackground": true,
            "ticks": "",
            "zerolinecolor": "white"
           },
           "zaxis": {
            "backgroundcolor": "#E5ECF6",
            "gridcolor": "white",
            "gridwidth": 2,
            "linecolor": "white",
            "showbackground": true,
            "ticks": "",
            "zerolinecolor": "white"
           }
          },
          "shapedefaults": {
           "line": {
            "color": "#2a3f5f"
           }
          },
          "ternary": {
           "aaxis": {
            "gridcolor": "white",
            "linecolor": "white",
            "ticks": ""
           },
           "baxis": {
            "gridcolor": "white",
            "linecolor": "white",
            "ticks": ""
           },
           "bgcolor": "#E5ECF6",
           "caxis": {
            "gridcolor": "white",
            "linecolor": "white",
            "ticks": ""
           }
          },
          "title": {
           "x": 0.05
          },
          "xaxis": {
           "automargin": true,
           "gridcolor": "white",
           "linecolor": "white",
           "ticks": "",
           "title": {
            "standoff": 15
           },
           "zerolinecolor": "white",
           "zerolinewidth": 2
          },
          "yaxis": {
           "automargin": true,
           "gridcolor": "white",
           "linecolor": "white",
           "ticks": "",
           "title": {
            "standoff": 15
           },
           "zerolinecolor": "white",
           "zerolinewidth": 2
          }
         }
        },
        "width": 2000,
        "xaxis": {
         "anchor": "y",
         "domain": [
          0,
          1
         ],
         "title": {
          "text": "number of missing value"
         }
        },
        "yaxis": {
         "anchor": "x",
         "domain": [
          0,
          1
         ],
         "title": {
          "text": "number of patients"
         }
        }
       }
      }
     },
     "metadata": {},
     "output_type": "display_data"
    }
   ],
   "source": [
    "get_plot_na(df_stroke_v1, 1)"
   ]
  },
  {
   "cell_type": "code",
   "execution_count": 36,
   "id": "ec3ee27c",
   "metadata": {},
   "outputs": [],
   "source": [
    "na_patients = df_stroke_v1.isna().sum(1)[df_stroke_v1.isna().sum(1) == 33].index"
   ]
  },
  {
   "cell_type": "code",
   "execution_count": 37,
   "id": "7058f468",
   "metadata": {},
   "outputs": [],
   "source": [
    "df_stroke_v1.drop(na_patients,inplace=True)"
   ]
  },
  {
   "cell_type": "markdown",
   "id": "fc93fa32",
   "metadata": {},
   "source": [
    "Among the top features with missing values 4 describe tobacco use\n",
    "- pack years\n",
    "- years\n",
    "- current tobacco use\n",
    "- previous tobacco use\n",
    "What matters for cardiovascular risks is not the quantity but for how long you've been smoking.\n",
    "- let's keep years and discard other features\n",
    "- before that let's put 0 for patient how has never smoke"
   ]
  },
  {
   "cell_type": "code",
   "execution_count": 38,
   "id": "e79264fb",
   "metadata": {
    "scrolled": true
   },
   "outputs": [
    {
     "data": {
      "text/html": [
       "<div>\n",
       "<style scoped>\n",
       "    .dataframe tbody tr th:only-of-type {\n",
       "        vertical-align: middle;\n",
       "    }\n",
       "\n",
       "    .dataframe tbody tr th {\n",
       "        vertical-align: top;\n",
       "    }\n",
       "\n",
       "    .dataframe thead th {\n",
       "        text-align: right;\n",
       "    }\n",
       "</style>\n",
       "<table border=\"1\" class=\"dataframe\">\n",
       "  <thead>\n",
       "    <tr style=\"text-align: right;\">\n",
       "      <th></th>\n",
       "      <th>years</th>\n",
       "      <th>previous tobacco use</th>\n",
       "      <th>current tobacco use</th>\n",
       "    </tr>\n",
       "  </thead>\n",
       "  <tbody>\n",
       "    <tr>\n",
       "      <th>9</th>\n",
       "      <td>NaN</td>\n",
       "      <td>yes</td>\n",
       "      <td>NaN</td>\n",
       "    </tr>\n",
       "    <tr>\n",
       "      <th>20</th>\n",
       "      <td>NaN</td>\n",
       "      <td>yes</td>\n",
       "      <td>no</td>\n",
       "    </tr>\n",
       "    <tr>\n",
       "      <th>27</th>\n",
       "      <td>NaN</td>\n",
       "      <td>yes</td>\n",
       "      <td>yes</td>\n",
       "    </tr>\n",
       "    <tr>\n",
       "      <th>39</th>\n",
       "      <td>NaN</td>\n",
       "      <td>yes</td>\n",
       "      <td>no</td>\n",
       "    </tr>\n",
       "    <tr>\n",
       "      <th>62</th>\n",
       "      <td>NaN</td>\n",
       "      <td>no</td>\n",
       "      <td>no</td>\n",
       "    </tr>\n",
       "    <tr>\n",
       "      <th>63</th>\n",
       "      <td>NaN</td>\n",
       "      <td>no</td>\n",
       "      <td>no</td>\n",
       "    </tr>\n",
       "    <tr>\n",
       "      <th>66</th>\n",
       "      <td>NaN</td>\n",
       "      <td>no</td>\n",
       "      <td>no</td>\n",
       "    </tr>\n",
       "    <tr>\n",
       "      <th>84</th>\n",
       "      <td>NaN</td>\n",
       "      <td>yes</td>\n",
       "      <td>yes</td>\n",
       "    </tr>\n",
       "    <tr>\n",
       "      <th>106</th>\n",
       "      <td>NaN</td>\n",
       "      <td>yes</td>\n",
       "      <td>yes</td>\n",
       "    </tr>\n",
       "    <tr>\n",
       "      <th>111</th>\n",
       "      <td>NaN</td>\n",
       "      <td>yes</td>\n",
       "      <td>yes</td>\n",
       "    </tr>\n",
       "    <tr>\n",
       "      <th>139</th>\n",
       "      <td>NaN</td>\n",
       "      <td>yes</td>\n",
       "      <td>no</td>\n",
       "    </tr>\n",
       "  </tbody>\n",
       "</table>\n",
       "</div>"
      ],
      "text/plain": [
       "     years previous tobacco use current tobacco use\n",
       "9      NaN                  yes                 NaN\n",
       "20     NaN                  yes                  no\n",
       "27     NaN                  yes                 yes\n",
       "39     NaN                  yes                  no\n",
       "62     NaN                   no                  no\n",
       "63     NaN                   no                  no\n",
       "66     NaN                   no                  no\n",
       "84     NaN                  yes                 yes\n",
       "106    NaN                  yes                 yes\n",
       "111    NaN                  yes                 yes\n",
       "139    NaN                  yes                  no"
      ]
     },
     "execution_count": 38,
     "metadata": {},
     "output_type": "execute_result"
    }
   ],
   "source": [
    "df_stroke_v1[df_stroke_v1[\"years\"].isna()][[\"years\", \"previous tobacco use\", \"current tobacco use\"]]"
   ]
  },
  {
   "cell_type": "code",
   "execution_count": 39,
   "id": "5d616b66",
   "metadata": {},
   "outputs": [],
   "source": [
    "df_stroke_v1.drop((df_stroke_v1[(df_stroke_v1[\"previous tobacco use\"] == 'no')\n",
    "                       & (df_stroke_v1[\"current tobacco use\"] == 'no')\n",
    "                       & (df_stroke_v1[\"years\"] == 40)]).index , \n",
    "        inplace=True)"
   ]
  },
  {
   "cell_type": "markdown",
   "id": "7d63db48",
   "metadata": {},
   "source": [
    "Let's drop the patient with 40 years of smoking but no current of previous tobacco use"
   ]
  },
  {
   "cell_type": "code",
   "execution_count": 40,
   "id": "fa07abae",
   "metadata": {},
   "outputs": [],
   "source": [
    "years_na = df_stroke_v1[(df_stroke_v1[\"previous tobacco use\"] == 'no')\n",
    "                       & (df_stroke_v1[\"current tobacco use\"] == 'no')\n",
    "                       & (df_stroke_v1[\"years\"] != 0)].index\n",
    "df_stroke_v1.loc[years_na, \"years\"] = 0"
   ]
  },
  {
   "cell_type": "code",
   "execution_count": 41,
   "id": "43796bd3",
   "metadata": {},
   "outputs": [],
   "source": [
    "df_stroke_v1.drop(labels=[\"pack years\", \"current tobacco use\", \"previous tobacco use\"], axis=\"columns\", inplace=True)"
   ]
  },
  {
   "cell_type": "code",
   "execution_count": 42,
   "id": "7c103b31",
   "metadata": {},
   "outputs": [
    {
     "data": {
      "text/plain": [
       "Int64Index([9, 20, 27, 39, 84, 106, 111, 139], dtype='int64')"
      ]
     },
     "execution_count": 42,
     "metadata": {},
     "output_type": "execute_result"
    }
   ],
   "source": [
    "df_stroke_v1[df_stroke_v1[\"years\"].isna()].index"
   ]
  },
  {
   "cell_type": "code",
   "execution_count": 43,
   "id": "e645eb07",
   "metadata": {},
   "outputs": [],
   "source": [
    "df_stroke_v1.drop(labels = df_stroke_v1[df_stroke_v1[\"years\"].isna()].index, \n",
    "                 inplace=True)"
   ]
  },
  {
   "cell_type": "code",
   "execution_count": 44,
   "id": "96330997",
   "metadata": {
    "scrolled": false
   },
   "outputs": [
    {
     "data": {
      "text/plain": [
       "(132, 37)"
      ]
     },
     "execution_count": 44,
     "metadata": {},
     "output_type": "execute_result"
    }
   ],
   "source": [
    "df_stroke_v1.shape"
   ]
  },
  {
   "cell_type": "code",
   "execution_count": 45,
   "id": "28671d4a",
   "metadata": {},
   "outputs": [
    {
     "data": {
      "application/vnd.plotly.v1+json": {
       "config": {
        "plotlyServerURL": "https://plot.ly"
       },
       "data": [
        {
         "alignmentgroup": "True",
         "hovertemplate": "variable=0<br>features=%{x}<br>missing value count=%{y}<extra></extra>",
         "legendgroup": "0",
         "marker": {
          "color": "#636efa",
          "pattern": {
           "shape": ""
          }
         },
         "name": "0",
         "offsetgroup": "0",
         "orientation": "v",
         "showlegend": true,
         "textposition": "auto",
         "type": "bar",
         "x": [
          "alcohol dose/week",
          "htn family history",
          "strokefamily history",
          "heartdisease family history",
          "dm family history",
          "oh autonomic symptoms",
          "cancer# family history",
          "height",
          "mass",
          "bmi",
          "hyperlipidemia patient medical history",
          "heart failure =chf /ifarction=mi patient medical history",
          "atrial fibtrillation patient medical history",
          "cancer patient medical history",
          "diabetes",
          "numbness autonomic symptoms",
          "neuropathy autonomic symptoms",
          "statins",
          "anticoagulants",
          "antihyperlipidemic",
          "ace inhibitors",
          "arbs",
          "beta blockers",
          "diuretics",
          "ca ++ blockers",
          "estrogen",
          "patient id",
          "antiplatelets",
          "stroke patient medical history",
          "syncope autonomic symptoms",
          "painful feet autonomic symptoms",
          "dizziness autonomic symptoms",
          "previous alcohol use",
          "years",
          "gender",
          "age",
          "oral hypoglycemic"
         ],
         "xaxis": "x",
         "y": [
          12,
          5,
          5,
          5,
          4,
          3,
          3,
          2,
          2,
          2,
          1,
          1,
          1,
          1,
          1,
          1,
          1,
          0,
          0,
          0,
          0,
          0,
          0,
          0,
          0,
          0,
          0,
          0,
          0,
          0,
          0,
          0,
          0,
          0,
          0,
          0,
          0
         ],
         "yaxis": "y"
        }
       ],
       "layout": {
        "bargap": 0.3,
        "barmode": "relative",
        "font": {
         "size": 8
        },
        "height": 600,
        "legend": {
         "title": {
          "text": "variable"
         },
         "tracegroupgap": 0
        },
        "margin": {
         "t": 60
        },
        "template": {
         "data": {
          "bar": [
           {
            "error_x": {
             "color": "#2a3f5f"
            },
            "error_y": {
             "color": "#2a3f5f"
            },
            "marker": {
             "line": {
              "color": "#E5ECF6",
              "width": 0.5
             },
             "pattern": {
              "fillmode": "overlay",
              "size": 10,
              "solidity": 0.2
             }
            },
            "type": "bar"
           }
          ],
          "barpolar": [
           {
            "marker": {
             "line": {
              "color": "#E5ECF6",
              "width": 0.5
             },
             "pattern": {
              "fillmode": "overlay",
              "size": 10,
              "solidity": 0.2
             }
            },
            "type": "barpolar"
           }
          ],
          "carpet": [
           {
            "aaxis": {
             "endlinecolor": "#2a3f5f",
             "gridcolor": "white",
             "linecolor": "white",
             "minorgridcolor": "white",
             "startlinecolor": "#2a3f5f"
            },
            "baxis": {
             "endlinecolor": "#2a3f5f",
             "gridcolor": "white",
             "linecolor": "white",
             "minorgridcolor": "white",
             "startlinecolor": "#2a3f5f"
            },
            "type": "carpet"
           }
          ],
          "choropleth": [
           {
            "colorbar": {
             "outlinewidth": 0,
             "ticks": ""
            },
            "type": "choropleth"
           }
          ],
          "contour": [
           {
            "colorbar": {
             "outlinewidth": 0,
             "ticks": ""
            },
            "colorscale": [
             [
              0,
              "#0d0887"
             ],
             [
              0.1111111111111111,
              "#46039f"
             ],
             [
              0.2222222222222222,
              "#7201a8"
             ],
             [
              0.3333333333333333,
              "#9c179e"
             ],
             [
              0.4444444444444444,
              "#bd3786"
             ],
             [
              0.5555555555555556,
              "#d8576b"
             ],
             [
              0.6666666666666666,
              "#ed7953"
             ],
             [
              0.7777777777777778,
              "#fb9f3a"
             ],
             [
              0.8888888888888888,
              "#fdca26"
             ],
             [
              1,
              "#f0f921"
             ]
            ],
            "type": "contour"
           }
          ],
          "contourcarpet": [
           {
            "colorbar": {
             "outlinewidth": 0,
             "ticks": ""
            },
            "type": "contourcarpet"
           }
          ],
          "heatmap": [
           {
            "colorbar": {
             "outlinewidth": 0,
             "ticks": ""
            },
            "colorscale": [
             [
              0,
              "#0d0887"
             ],
             [
              0.1111111111111111,
              "#46039f"
             ],
             [
              0.2222222222222222,
              "#7201a8"
             ],
             [
              0.3333333333333333,
              "#9c179e"
             ],
             [
              0.4444444444444444,
              "#bd3786"
             ],
             [
              0.5555555555555556,
              "#d8576b"
             ],
             [
              0.6666666666666666,
              "#ed7953"
             ],
             [
              0.7777777777777778,
              "#fb9f3a"
             ],
             [
              0.8888888888888888,
              "#fdca26"
             ],
             [
              1,
              "#f0f921"
             ]
            ],
            "type": "heatmap"
           }
          ],
          "heatmapgl": [
           {
            "colorbar": {
             "outlinewidth": 0,
             "ticks": ""
            },
            "colorscale": [
             [
              0,
              "#0d0887"
             ],
             [
              0.1111111111111111,
              "#46039f"
             ],
             [
              0.2222222222222222,
              "#7201a8"
             ],
             [
              0.3333333333333333,
              "#9c179e"
             ],
             [
              0.4444444444444444,
              "#bd3786"
             ],
             [
              0.5555555555555556,
              "#d8576b"
             ],
             [
              0.6666666666666666,
              "#ed7953"
             ],
             [
              0.7777777777777778,
              "#fb9f3a"
             ],
             [
              0.8888888888888888,
              "#fdca26"
             ],
             [
              1,
              "#f0f921"
             ]
            ],
            "type": "heatmapgl"
           }
          ],
          "histogram": [
           {
            "marker": {
             "pattern": {
              "fillmode": "overlay",
              "size": 10,
              "solidity": 0.2
             }
            },
            "type": "histogram"
           }
          ],
          "histogram2d": [
           {
            "colorbar": {
             "outlinewidth": 0,
             "ticks": ""
            },
            "colorscale": [
             [
              0,
              "#0d0887"
             ],
             [
              0.1111111111111111,
              "#46039f"
             ],
             [
              0.2222222222222222,
              "#7201a8"
             ],
             [
              0.3333333333333333,
              "#9c179e"
             ],
             [
              0.4444444444444444,
              "#bd3786"
             ],
             [
              0.5555555555555556,
              "#d8576b"
             ],
             [
              0.6666666666666666,
              "#ed7953"
             ],
             [
              0.7777777777777778,
              "#fb9f3a"
             ],
             [
              0.8888888888888888,
              "#fdca26"
             ],
             [
              1,
              "#f0f921"
             ]
            ],
            "type": "histogram2d"
           }
          ],
          "histogram2dcontour": [
           {
            "colorbar": {
             "outlinewidth": 0,
             "ticks": ""
            },
            "colorscale": [
             [
              0,
              "#0d0887"
             ],
             [
              0.1111111111111111,
              "#46039f"
             ],
             [
              0.2222222222222222,
              "#7201a8"
             ],
             [
              0.3333333333333333,
              "#9c179e"
             ],
             [
              0.4444444444444444,
              "#bd3786"
             ],
             [
              0.5555555555555556,
              "#d8576b"
             ],
             [
              0.6666666666666666,
              "#ed7953"
             ],
             [
              0.7777777777777778,
              "#fb9f3a"
             ],
             [
              0.8888888888888888,
              "#fdca26"
             ],
             [
              1,
              "#f0f921"
             ]
            ],
            "type": "histogram2dcontour"
           }
          ],
          "mesh3d": [
           {
            "colorbar": {
             "outlinewidth": 0,
             "ticks": ""
            },
            "type": "mesh3d"
           }
          ],
          "parcoords": [
           {
            "line": {
             "colorbar": {
              "outlinewidth": 0,
              "ticks": ""
             }
            },
            "type": "parcoords"
           }
          ],
          "pie": [
           {
            "automargin": true,
            "type": "pie"
           }
          ],
          "scatter": [
           {
            "fillpattern": {
             "fillmode": "overlay",
             "size": 10,
             "solidity": 0.2
            },
            "type": "scatter"
           }
          ],
          "scatter3d": [
           {
            "line": {
             "colorbar": {
              "outlinewidth": 0,
              "ticks": ""
             }
            },
            "marker": {
             "colorbar": {
              "outlinewidth": 0,
              "ticks": ""
             }
            },
            "type": "scatter3d"
           }
          ],
          "scattercarpet": [
           {
            "marker": {
             "colorbar": {
              "outlinewidth": 0,
              "ticks": ""
             }
            },
            "type": "scattercarpet"
           }
          ],
          "scattergeo": [
           {
            "marker": {
             "colorbar": {
              "outlinewidth": 0,
              "ticks": ""
             }
            },
            "type": "scattergeo"
           }
          ],
          "scattergl": [
           {
            "marker": {
             "colorbar": {
              "outlinewidth": 0,
              "ticks": ""
             }
            },
            "type": "scattergl"
           }
          ],
          "scattermapbox": [
           {
            "marker": {
             "colorbar": {
              "outlinewidth": 0,
              "ticks": ""
             }
            },
            "type": "scattermapbox"
           }
          ],
          "scatterpolar": [
           {
            "marker": {
             "colorbar": {
              "outlinewidth": 0,
              "ticks": ""
             }
            },
            "type": "scatterpolar"
           }
          ],
          "scatterpolargl": [
           {
            "marker": {
             "colorbar": {
              "outlinewidth": 0,
              "ticks": ""
             }
            },
            "type": "scatterpolargl"
           }
          ],
          "scatterternary": [
           {
            "marker": {
             "colorbar": {
              "outlinewidth": 0,
              "ticks": ""
             }
            },
            "type": "scatterternary"
           }
          ],
          "surface": [
           {
            "colorbar": {
             "outlinewidth": 0,
             "ticks": ""
            },
            "colorscale": [
             [
              0,
              "#0d0887"
             ],
             [
              0.1111111111111111,
              "#46039f"
             ],
             [
              0.2222222222222222,
              "#7201a8"
             ],
             [
              0.3333333333333333,
              "#9c179e"
             ],
             [
              0.4444444444444444,
              "#bd3786"
             ],
             [
              0.5555555555555556,
              "#d8576b"
             ],
             [
              0.6666666666666666,
              "#ed7953"
             ],
             [
              0.7777777777777778,
              "#fb9f3a"
             ],
             [
              0.8888888888888888,
              "#fdca26"
             ],
             [
              1,
              "#f0f921"
             ]
            ],
            "type": "surface"
           }
          ],
          "table": [
           {
            "cells": {
             "fill": {
              "color": "#EBF0F8"
             },
             "line": {
              "color": "white"
             }
            },
            "header": {
             "fill": {
              "color": "#C8D4E3"
             },
             "line": {
              "color": "white"
             }
            },
            "type": "table"
           }
          ]
         },
         "layout": {
          "annotationdefaults": {
           "arrowcolor": "#2a3f5f",
           "arrowhead": 0,
           "arrowwidth": 1
          },
          "autotypenumbers": "strict",
          "coloraxis": {
           "colorbar": {
            "outlinewidth": 0,
            "ticks": ""
           }
          },
          "colorscale": {
           "diverging": [
            [
             0,
             "#8e0152"
            ],
            [
             0.1,
             "#c51b7d"
            ],
            [
             0.2,
             "#de77ae"
            ],
            [
             0.3,
             "#f1b6da"
            ],
            [
             0.4,
             "#fde0ef"
            ],
            [
             0.5,
             "#f7f7f7"
            ],
            [
             0.6,
             "#e6f5d0"
            ],
            [
             0.7,
             "#b8e186"
            ],
            [
             0.8,
             "#7fbc41"
            ],
            [
             0.9,
             "#4d9221"
            ],
            [
             1,
             "#276419"
            ]
           ],
           "sequential": [
            [
             0,
             "#0d0887"
            ],
            [
             0.1111111111111111,
             "#46039f"
            ],
            [
             0.2222222222222222,
             "#7201a8"
            ],
            [
             0.3333333333333333,
             "#9c179e"
            ],
            [
             0.4444444444444444,
             "#bd3786"
            ],
            [
             0.5555555555555556,
             "#d8576b"
            ],
            [
             0.6666666666666666,
             "#ed7953"
            ],
            [
             0.7777777777777778,
             "#fb9f3a"
            ],
            [
             0.8888888888888888,
             "#fdca26"
            ],
            [
             1,
             "#f0f921"
            ]
           ],
           "sequentialminus": [
            [
             0,
             "#0d0887"
            ],
            [
             0.1111111111111111,
             "#46039f"
            ],
            [
             0.2222222222222222,
             "#7201a8"
            ],
            [
             0.3333333333333333,
             "#9c179e"
            ],
            [
             0.4444444444444444,
             "#bd3786"
            ],
            [
             0.5555555555555556,
             "#d8576b"
            ],
            [
             0.6666666666666666,
             "#ed7953"
            ],
            [
             0.7777777777777778,
             "#fb9f3a"
            ],
            [
             0.8888888888888888,
             "#fdca26"
            ],
            [
             1,
             "#f0f921"
            ]
           ]
          },
          "colorway": [
           "#636efa",
           "#EF553B",
           "#00cc96",
           "#ab63fa",
           "#FFA15A",
           "#19d3f3",
           "#FF6692",
           "#B6E880",
           "#FF97FF",
           "#FECB52"
          ],
          "font": {
           "color": "#2a3f5f"
          },
          "geo": {
           "bgcolor": "white",
           "lakecolor": "white",
           "landcolor": "#E5ECF6",
           "showlakes": true,
           "showland": true,
           "subunitcolor": "white"
          },
          "hoverlabel": {
           "align": "left"
          },
          "hovermode": "closest",
          "mapbox": {
           "style": "light"
          },
          "paper_bgcolor": "white",
          "plot_bgcolor": "#E5ECF6",
          "polar": {
           "angularaxis": {
            "gridcolor": "white",
            "linecolor": "white",
            "ticks": ""
           },
           "bgcolor": "#E5ECF6",
           "radialaxis": {
            "gridcolor": "white",
            "linecolor": "white",
            "ticks": ""
           }
          },
          "scene": {
           "xaxis": {
            "backgroundcolor": "#E5ECF6",
            "gridcolor": "white",
            "gridwidth": 2,
            "linecolor": "white",
            "showbackground": true,
            "ticks": "",
            "zerolinecolor": "white"
           },
           "yaxis": {
            "backgroundcolor": "#E5ECF6",
            "gridcolor": "white",
            "gridwidth": 2,
            "linecolor": "white",
            "showbackground": true,
            "ticks": "",
            "zerolinecolor": "white"
           },
           "zaxis": {
            "backgroundcolor": "#E5ECF6",
            "gridcolor": "white",
            "gridwidth": 2,
            "linecolor": "white",
            "showbackground": true,
            "ticks": "",
            "zerolinecolor": "white"
           }
          },
          "shapedefaults": {
           "line": {
            "color": "#2a3f5f"
           }
          },
          "ternary": {
           "aaxis": {
            "gridcolor": "white",
            "linecolor": "white",
            "ticks": ""
           },
           "baxis": {
            "gridcolor": "white",
            "linecolor": "white",
            "ticks": ""
           },
           "bgcolor": "#E5ECF6",
           "caxis": {
            "gridcolor": "white",
            "linecolor": "white",
            "ticks": ""
           }
          },
          "title": {
           "x": 0.05
          },
          "xaxis": {
           "automargin": true,
           "gridcolor": "white",
           "linecolor": "white",
           "ticks": "",
           "title": {
            "standoff": 15
           },
           "zerolinecolor": "white",
           "zerolinewidth": 2
          },
          "yaxis": {
           "automargin": true,
           "gridcolor": "white",
           "linecolor": "white",
           "ticks": "",
           "title": {
            "standoff": 15
           },
           "zerolinecolor": "white",
           "zerolinewidth": 2
          }
         }
        },
        "width": 2000,
        "xaxis": {
         "anchor": "y",
         "domain": [
          0,
          1
         ],
         "title": {
          "text": "features"
         }
        },
        "yaxis": {
         "anchor": "x",
         "domain": [
          0,
          1
         ],
         "title": {
          "text": "missing value count"
         }
        }
       }
      }
     },
     "metadata": {},
     "output_type": "display_data"
    }
   ],
   "source": [
    "get_plot_na(df_stroke_v1, 0)"
   ]
  },
  {
   "cell_type": "markdown",
   "id": "0540bbb3",
   "metadata": {},
   "source": [
    "As for alcohol there are multiple feaures describing alcohol consumption \n",
    "- alcohol dose/week\n",
    "- previous alchohol use"
   ]
  },
  {
   "cell_type": "markdown",
   "id": "294bcac8",
   "metadata": {},
   "source": [
    "Now there is around 20 patients with missing value, let's drop them at the moment and test random forest"
   ]
  },
  {
   "cell_type": "code",
   "execution_count": 46,
   "id": "46e7c4a5",
   "metadata": {},
   "outputs": [],
   "source": [
    "df_stroke_v1.dropna(axis='index', inplace=True)"
   ]
  },
  {
   "cell_type": "code",
   "execution_count": 47,
   "id": "13f1cab7",
   "metadata": {
    "scrolled": false
   },
   "outputs": [
    {
     "data": {
      "application/vnd.plotly.v1+json": {
       "config": {
        "plotlyServerURL": "https://plot.ly"
       },
       "data": [
        {
         "alignmentgroup": "True",
         "hovertemplate": "variable=0<br>features=%{x}<br>missing value count=%{y}<extra></extra>",
         "legendgroup": "0",
         "marker": {
          "color": "#636efa",
          "pattern": {
           "shape": ""
          }
         },
         "name": "0",
         "offsetgroup": "0",
         "orientation": "v",
         "showlegend": true,
         "textposition": "auto",
         "type": "bar",
         "x": [
          "patient id",
          "dm family history",
          "cancer patient medical history",
          "atrial fibtrillation patient medical history",
          "heart failure =chf /ifarction=mi patient medical history",
          "hyperlipidemia patient medical history",
          "diabetes",
          "antiplatelets",
          "anticoagulants",
          "antihyperlipidemic",
          "statins",
          "estrogen",
          "ace inhibitors",
          "arbs",
          "beta blockers",
          "diuretics",
          "ca ++ blockers",
          "strokefamily history",
          "htn family history",
          "stroke patient medical history",
          "heartdisease family history",
          "age",
          "height",
          "mass",
          "bmi",
          "gender",
          "years",
          "previous alcohol use",
          "alcohol dose/week",
          "neuropathy autonomic symptoms",
          "dizziness autonomic symptoms",
          "numbness autonomic symptoms",
          "painful feet autonomic symptoms",
          "syncope autonomic symptoms",
          "oh autonomic symptoms",
          "cancer# family history",
          "oral hypoglycemic"
         ],
         "xaxis": "x",
         "y": [
          0,
          0,
          0,
          0,
          0,
          0,
          0,
          0,
          0,
          0,
          0,
          0,
          0,
          0,
          0,
          0,
          0,
          0,
          0,
          0,
          0,
          0,
          0,
          0,
          0,
          0,
          0,
          0,
          0,
          0,
          0,
          0,
          0,
          0,
          0,
          0,
          0
         ],
         "yaxis": "y"
        }
       ],
       "layout": {
        "bargap": 0.3,
        "barmode": "relative",
        "font": {
         "size": 8
        },
        "height": 600,
        "legend": {
         "title": {
          "text": "variable"
         },
         "tracegroupgap": 0
        },
        "margin": {
         "t": 60
        },
        "template": {
         "data": {
          "bar": [
           {
            "error_x": {
             "color": "#2a3f5f"
            },
            "error_y": {
             "color": "#2a3f5f"
            },
            "marker": {
             "line": {
              "color": "#E5ECF6",
              "width": 0.5
             },
             "pattern": {
              "fillmode": "overlay",
              "size": 10,
              "solidity": 0.2
             }
            },
            "type": "bar"
           }
          ],
          "barpolar": [
           {
            "marker": {
             "line": {
              "color": "#E5ECF6",
              "width": 0.5
             },
             "pattern": {
              "fillmode": "overlay",
              "size": 10,
              "solidity": 0.2
             }
            },
            "type": "barpolar"
           }
          ],
          "carpet": [
           {
            "aaxis": {
             "endlinecolor": "#2a3f5f",
             "gridcolor": "white",
             "linecolor": "white",
             "minorgridcolor": "white",
             "startlinecolor": "#2a3f5f"
            },
            "baxis": {
             "endlinecolor": "#2a3f5f",
             "gridcolor": "white",
             "linecolor": "white",
             "minorgridcolor": "white",
             "startlinecolor": "#2a3f5f"
            },
            "type": "carpet"
           }
          ],
          "choropleth": [
           {
            "colorbar": {
             "outlinewidth": 0,
             "ticks": ""
            },
            "type": "choropleth"
           }
          ],
          "contour": [
           {
            "colorbar": {
             "outlinewidth": 0,
             "ticks": ""
            },
            "colorscale": [
             [
              0,
              "#0d0887"
             ],
             [
              0.1111111111111111,
              "#46039f"
             ],
             [
              0.2222222222222222,
              "#7201a8"
             ],
             [
              0.3333333333333333,
              "#9c179e"
             ],
             [
              0.4444444444444444,
              "#bd3786"
             ],
             [
              0.5555555555555556,
              "#d8576b"
             ],
             [
              0.6666666666666666,
              "#ed7953"
             ],
             [
              0.7777777777777778,
              "#fb9f3a"
             ],
             [
              0.8888888888888888,
              "#fdca26"
             ],
             [
              1,
              "#f0f921"
             ]
            ],
            "type": "contour"
           }
          ],
          "contourcarpet": [
           {
            "colorbar": {
             "outlinewidth": 0,
             "ticks": ""
            },
            "type": "contourcarpet"
           }
          ],
          "heatmap": [
           {
            "colorbar": {
             "outlinewidth": 0,
             "ticks": ""
            },
            "colorscale": [
             [
              0,
              "#0d0887"
             ],
             [
              0.1111111111111111,
              "#46039f"
             ],
             [
              0.2222222222222222,
              "#7201a8"
             ],
             [
              0.3333333333333333,
              "#9c179e"
             ],
             [
              0.4444444444444444,
              "#bd3786"
             ],
             [
              0.5555555555555556,
              "#d8576b"
             ],
             [
              0.6666666666666666,
              "#ed7953"
             ],
             [
              0.7777777777777778,
              "#fb9f3a"
             ],
             [
              0.8888888888888888,
              "#fdca26"
             ],
             [
              1,
              "#f0f921"
             ]
            ],
            "type": "heatmap"
           }
          ],
          "heatmapgl": [
           {
            "colorbar": {
             "outlinewidth": 0,
             "ticks": ""
            },
            "colorscale": [
             [
              0,
              "#0d0887"
             ],
             [
              0.1111111111111111,
              "#46039f"
             ],
             [
              0.2222222222222222,
              "#7201a8"
             ],
             [
              0.3333333333333333,
              "#9c179e"
             ],
             [
              0.4444444444444444,
              "#bd3786"
             ],
             [
              0.5555555555555556,
              "#d8576b"
             ],
             [
              0.6666666666666666,
              "#ed7953"
             ],
             [
              0.7777777777777778,
              "#fb9f3a"
             ],
             [
              0.8888888888888888,
              "#fdca26"
             ],
             [
              1,
              "#f0f921"
             ]
            ],
            "type": "heatmapgl"
           }
          ],
          "histogram": [
           {
            "marker": {
             "pattern": {
              "fillmode": "overlay",
              "size": 10,
              "solidity": 0.2
             }
            },
            "type": "histogram"
           }
          ],
          "histogram2d": [
           {
            "colorbar": {
             "outlinewidth": 0,
             "ticks": ""
            },
            "colorscale": [
             [
              0,
              "#0d0887"
             ],
             [
              0.1111111111111111,
              "#46039f"
             ],
             [
              0.2222222222222222,
              "#7201a8"
             ],
             [
              0.3333333333333333,
              "#9c179e"
             ],
             [
              0.4444444444444444,
              "#bd3786"
             ],
             [
              0.5555555555555556,
              "#d8576b"
             ],
             [
              0.6666666666666666,
              "#ed7953"
             ],
             [
              0.7777777777777778,
              "#fb9f3a"
             ],
             [
              0.8888888888888888,
              "#fdca26"
             ],
             [
              1,
              "#f0f921"
             ]
            ],
            "type": "histogram2d"
           }
          ],
          "histogram2dcontour": [
           {
            "colorbar": {
             "outlinewidth": 0,
             "ticks": ""
            },
            "colorscale": [
             [
              0,
              "#0d0887"
             ],
             [
              0.1111111111111111,
              "#46039f"
             ],
             [
              0.2222222222222222,
              "#7201a8"
             ],
             [
              0.3333333333333333,
              "#9c179e"
             ],
             [
              0.4444444444444444,
              "#bd3786"
             ],
             [
              0.5555555555555556,
              "#d8576b"
             ],
             [
              0.6666666666666666,
              "#ed7953"
             ],
             [
              0.7777777777777778,
              "#fb9f3a"
             ],
             [
              0.8888888888888888,
              "#fdca26"
             ],
             [
              1,
              "#f0f921"
             ]
            ],
            "type": "histogram2dcontour"
           }
          ],
          "mesh3d": [
           {
            "colorbar": {
             "outlinewidth": 0,
             "ticks": ""
            },
            "type": "mesh3d"
           }
          ],
          "parcoords": [
           {
            "line": {
             "colorbar": {
              "outlinewidth": 0,
              "ticks": ""
             }
            },
            "type": "parcoords"
           }
          ],
          "pie": [
           {
            "automargin": true,
            "type": "pie"
           }
          ],
          "scatter": [
           {
            "fillpattern": {
             "fillmode": "overlay",
             "size": 10,
             "solidity": 0.2
            },
            "type": "scatter"
           }
          ],
          "scatter3d": [
           {
            "line": {
             "colorbar": {
              "outlinewidth": 0,
              "ticks": ""
             }
            },
            "marker": {
             "colorbar": {
              "outlinewidth": 0,
              "ticks": ""
             }
            },
            "type": "scatter3d"
           }
          ],
          "scattercarpet": [
           {
            "marker": {
             "colorbar": {
              "outlinewidth": 0,
              "ticks": ""
             }
            },
            "type": "scattercarpet"
           }
          ],
          "scattergeo": [
           {
            "marker": {
             "colorbar": {
              "outlinewidth": 0,
              "ticks": ""
             }
            },
            "type": "scattergeo"
           }
          ],
          "scattergl": [
           {
            "marker": {
             "colorbar": {
              "outlinewidth": 0,
              "ticks": ""
             }
            },
            "type": "scattergl"
           }
          ],
          "scattermapbox": [
           {
            "marker": {
             "colorbar": {
              "outlinewidth": 0,
              "ticks": ""
             }
            },
            "type": "scattermapbox"
           }
          ],
          "scatterpolar": [
           {
            "marker": {
             "colorbar": {
              "outlinewidth": 0,
              "ticks": ""
             }
            },
            "type": "scatterpolar"
           }
          ],
          "scatterpolargl": [
           {
            "marker": {
             "colorbar": {
              "outlinewidth": 0,
              "ticks": ""
             }
            },
            "type": "scatterpolargl"
           }
          ],
          "scatterternary": [
           {
            "marker": {
             "colorbar": {
              "outlinewidth": 0,
              "ticks": ""
             }
            },
            "type": "scatterternary"
           }
          ],
          "surface": [
           {
            "colorbar": {
             "outlinewidth": 0,
             "ticks": ""
            },
            "colorscale": [
             [
              0,
              "#0d0887"
             ],
             [
              0.1111111111111111,
              "#46039f"
             ],
             [
              0.2222222222222222,
              "#7201a8"
             ],
             [
              0.3333333333333333,
              "#9c179e"
             ],
             [
              0.4444444444444444,
              "#bd3786"
             ],
             [
              0.5555555555555556,
              "#d8576b"
             ],
             [
              0.6666666666666666,
              "#ed7953"
             ],
             [
              0.7777777777777778,
              "#fb9f3a"
             ],
             [
              0.8888888888888888,
              "#fdca26"
             ],
             [
              1,
              "#f0f921"
             ]
            ],
            "type": "surface"
           }
          ],
          "table": [
           {
            "cells": {
             "fill": {
              "color": "#EBF0F8"
             },
             "line": {
              "color": "white"
             }
            },
            "header": {
             "fill": {
              "color": "#C8D4E3"
             },
             "line": {
              "color": "white"
             }
            },
            "type": "table"
           }
          ]
         },
         "layout": {
          "annotationdefaults": {
           "arrowcolor": "#2a3f5f",
           "arrowhead": 0,
           "arrowwidth": 1
          },
          "autotypenumbers": "strict",
          "coloraxis": {
           "colorbar": {
            "outlinewidth": 0,
            "ticks": ""
           }
          },
          "colorscale": {
           "diverging": [
            [
             0,
             "#8e0152"
            ],
            [
             0.1,
             "#c51b7d"
            ],
            [
             0.2,
             "#de77ae"
            ],
            [
             0.3,
             "#f1b6da"
            ],
            [
             0.4,
             "#fde0ef"
            ],
            [
             0.5,
             "#f7f7f7"
            ],
            [
             0.6,
             "#e6f5d0"
            ],
            [
             0.7,
             "#b8e186"
            ],
            [
             0.8,
             "#7fbc41"
            ],
            [
             0.9,
             "#4d9221"
            ],
            [
             1,
             "#276419"
            ]
           ],
           "sequential": [
            [
             0,
             "#0d0887"
            ],
            [
             0.1111111111111111,
             "#46039f"
            ],
            [
             0.2222222222222222,
             "#7201a8"
            ],
            [
             0.3333333333333333,
             "#9c179e"
            ],
            [
             0.4444444444444444,
             "#bd3786"
            ],
            [
             0.5555555555555556,
             "#d8576b"
            ],
            [
             0.6666666666666666,
             "#ed7953"
            ],
            [
             0.7777777777777778,
             "#fb9f3a"
            ],
            [
             0.8888888888888888,
             "#fdca26"
            ],
            [
             1,
             "#f0f921"
            ]
           ],
           "sequentialminus": [
            [
             0,
             "#0d0887"
            ],
            [
             0.1111111111111111,
             "#46039f"
            ],
            [
             0.2222222222222222,
             "#7201a8"
            ],
            [
             0.3333333333333333,
             "#9c179e"
            ],
            [
             0.4444444444444444,
             "#bd3786"
            ],
            [
             0.5555555555555556,
             "#d8576b"
            ],
            [
             0.6666666666666666,
             "#ed7953"
            ],
            [
             0.7777777777777778,
             "#fb9f3a"
            ],
            [
             0.8888888888888888,
             "#fdca26"
            ],
            [
             1,
             "#f0f921"
            ]
           ]
          },
          "colorway": [
           "#636efa",
           "#EF553B",
           "#00cc96",
           "#ab63fa",
           "#FFA15A",
           "#19d3f3",
           "#FF6692",
           "#B6E880",
           "#FF97FF",
           "#FECB52"
          ],
          "font": {
           "color": "#2a3f5f"
          },
          "geo": {
           "bgcolor": "white",
           "lakecolor": "white",
           "landcolor": "#E5ECF6",
           "showlakes": true,
           "showland": true,
           "subunitcolor": "white"
          },
          "hoverlabel": {
           "align": "left"
          },
          "hovermode": "closest",
          "mapbox": {
           "style": "light"
          },
          "paper_bgcolor": "white",
          "plot_bgcolor": "#E5ECF6",
          "polar": {
           "angularaxis": {
            "gridcolor": "white",
            "linecolor": "white",
            "ticks": ""
           },
           "bgcolor": "#E5ECF6",
           "radialaxis": {
            "gridcolor": "white",
            "linecolor": "white",
            "ticks": ""
           }
          },
          "scene": {
           "xaxis": {
            "backgroundcolor": "#E5ECF6",
            "gridcolor": "white",
            "gridwidth": 2,
            "linecolor": "white",
            "showbackground": true,
            "ticks": "",
            "zerolinecolor": "white"
           },
           "yaxis": {
            "backgroundcolor": "#E5ECF6",
            "gridcolor": "white",
            "gridwidth": 2,
            "linecolor": "white",
            "showbackground": true,
            "ticks": "",
            "zerolinecolor": "white"
           },
           "zaxis": {
            "backgroundcolor": "#E5ECF6",
            "gridcolor": "white",
            "gridwidth": 2,
            "linecolor": "white",
            "showbackground": true,
            "ticks": "",
            "zerolinecolor": "white"
           }
          },
          "shapedefaults": {
           "line": {
            "color": "#2a3f5f"
           }
          },
          "ternary": {
           "aaxis": {
            "gridcolor": "white",
            "linecolor": "white",
            "ticks": ""
           },
           "baxis": {
            "gridcolor": "white",
            "linecolor": "white",
            "ticks": ""
           },
           "bgcolor": "#E5ECF6",
           "caxis": {
            "gridcolor": "white",
            "linecolor": "white",
            "ticks": ""
           }
          },
          "title": {
           "x": 0.05
          },
          "xaxis": {
           "automargin": true,
           "gridcolor": "white",
           "linecolor": "white",
           "ticks": "",
           "title": {
            "standoff": 15
           },
           "zerolinecolor": "white",
           "zerolinewidth": 2
          },
          "yaxis": {
           "automargin": true,
           "gridcolor": "white",
           "linecolor": "white",
           "ticks": "",
           "title": {
            "standoff": 15
           },
           "zerolinecolor": "white",
           "zerolinewidth": 2
          }
         }
        },
        "width": 2000,
        "xaxis": {
         "anchor": "y",
         "domain": [
          0,
          1
         ],
         "title": {
          "text": "features"
         }
        },
        "yaxis": {
         "anchor": "x",
         "domain": [
          0,
          1
         ],
         "title": {
          "text": "missing value count"
         }
        }
       }
      }
     },
     "metadata": {},
     "output_type": "display_data"
    }
   ],
   "source": [
    "get_plot_na(df_stroke_v1,0)"
   ]
  },
  {
   "cell_type": "code",
   "execution_count": 48,
   "id": "94823f5b",
   "metadata": {
    "scrolled": true
   },
   "outputs": [
    {
     "data": {
      "application/vnd.plotly.v1+json": {
       "config": {
        "plotlyServerURL": "https://plot.ly"
       },
       "data": [
        {
         "alignmentgroup": "True",
         "hovertemplate": "variable=0<br>features=%{x}<br>missing value count=%{y}<extra></extra>",
         "legendgroup": "0",
         "marker": {
          "color": "#636efa",
          "pattern": {
           "shape": ""
          }
         },
         "name": "0",
         "offsetgroup": "0",
         "orientation": "v",
         "showlegend": true,
         "textposition": "auto",
         "type": "bar",
         "x": [
          "diabetes duration",
          "alcohol dose/week",
          "pack years",
          "years",
          "htn family history",
          "heartdisease family history",
          "cancer# family history",
          "oh autonomic symptoms",
          "heart failure =chf /ifarction=mi patient medical history",
          "strokefamily history",
          "dm family history",
          "statins",
          "estrogen",
          "ace inhibitors",
          "antihyperlipidemic",
          "anticoagulants",
          "antiplatelets",
          "arbs",
          "atrial fibtrillation patient medical history",
          "beta blockers",
          "diuretics",
          "ca ++ blockers",
          "insulin(yes or no)",
          "antiparkinsonian",
          "oral hypoglycemic",
          "syncope autonomic symptoms",
          "current tobacco use",
          "bmi",
          "painful feet autonomic symptoms",
          "numbness autonomic symptoms",
          "height",
          "previous alcohol use",
          "mass",
          "previous tobacco use",
          "age",
          "gender",
          "cancer patient medical history",
          "diabetes",
          "stroke patient medical history",
          "neuropathy autonomic symptoms",
          "dizziness autonomic symptoms",
          "hyperlipidemia patient medical history",
          "patient id"
         ],
         "xaxis": "x",
         "y": [
          13,
          10,
          7,
          5,
          4,
          3,
          3,
          3,
          3,
          3,
          3,
          2,
          2,
          2,
          2,
          2,
          2,
          2,
          2,
          2,
          2,
          2,
          2,
          2,
          2,
          2,
          1,
          1,
          1,
          1,
          1,
          1,
          1,
          1,
          0,
          0,
          0,
          0,
          0,
          0,
          0,
          0,
          0
         ],
         "yaxis": "y"
        }
       ],
       "layout": {
        "bargap": 0.3,
        "barmode": "relative",
        "font": {
         "size": 8
        },
        "height": 600,
        "legend": {
         "title": {
          "text": "variable"
         },
         "tracegroupgap": 0
        },
        "margin": {
         "t": 60
        },
        "template": {
         "data": {
          "bar": [
           {
            "error_x": {
             "color": "#2a3f5f"
            },
            "error_y": {
             "color": "#2a3f5f"
            },
            "marker": {
             "line": {
              "color": "#E5ECF6",
              "width": 0.5
             },
             "pattern": {
              "fillmode": "overlay",
              "size": 10,
              "solidity": 0.2
             }
            },
            "type": "bar"
           }
          ],
          "barpolar": [
           {
            "marker": {
             "line": {
              "color": "#E5ECF6",
              "width": 0.5
             },
             "pattern": {
              "fillmode": "overlay",
              "size": 10,
              "solidity": 0.2
             }
            },
            "type": "barpolar"
           }
          ],
          "carpet": [
           {
            "aaxis": {
             "endlinecolor": "#2a3f5f",
             "gridcolor": "white",
             "linecolor": "white",
             "minorgridcolor": "white",
             "startlinecolor": "#2a3f5f"
            },
            "baxis": {
             "endlinecolor": "#2a3f5f",
             "gridcolor": "white",
             "linecolor": "white",
             "minorgridcolor": "white",
             "startlinecolor": "#2a3f5f"
            },
            "type": "carpet"
           }
          ],
          "choropleth": [
           {
            "colorbar": {
             "outlinewidth": 0,
             "ticks": ""
            },
            "type": "choropleth"
           }
          ],
          "contour": [
           {
            "colorbar": {
             "outlinewidth": 0,
             "ticks": ""
            },
            "colorscale": [
             [
              0,
              "#0d0887"
             ],
             [
              0.1111111111111111,
              "#46039f"
             ],
             [
              0.2222222222222222,
              "#7201a8"
             ],
             [
              0.3333333333333333,
              "#9c179e"
             ],
             [
              0.4444444444444444,
              "#bd3786"
             ],
             [
              0.5555555555555556,
              "#d8576b"
             ],
             [
              0.6666666666666666,
              "#ed7953"
             ],
             [
              0.7777777777777778,
              "#fb9f3a"
             ],
             [
              0.8888888888888888,
              "#fdca26"
             ],
             [
              1,
              "#f0f921"
             ]
            ],
            "type": "contour"
           }
          ],
          "contourcarpet": [
           {
            "colorbar": {
             "outlinewidth": 0,
             "ticks": ""
            },
            "type": "contourcarpet"
           }
          ],
          "heatmap": [
           {
            "colorbar": {
             "outlinewidth": 0,
             "ticks": ""
            },
            "colorscale": [
             [
              0,
              "#0d0887"
             ],
             [
              0.1111111111111111,
              "#46039f"
             ],
             [
              0.2222222222222222,
              "#7201a8"
             ],
             [
              0.3333333333333333,
              "#9c179e"
             ],
             [
              0.4444444444444444,
              "#bd3786"
             ],
             [
              0.5555555555555556,
              "#d8576b"
             ],
             [
              0.6666666666666666,
              "#ed7953"
             ],
             [
              0.7777777777777778,
              "#fb9f3a"
             ],
             [
              0.8888888888888888,
              "#fdca26"
             ],
             [
              1,
              "#f0f921"
             ]
            ],
            "type": "heatmap"
           }
          ],
          "heatmapgl": [
           {
            "colorbar": {
             "outlinewidth": 0,
             "ticks": ""
            },
            "colorscale": [
             [
              0,
              "#0d0887"
             ],
             [
              0.1111111111111111,
              "#46039f"
             ],
             [
              0.2222222222222222,
              "#7201a8"
             ],
             [
              0.3333333333333333,
              "#9c179e"
             ],
             [
              0.4444444444444444,
              "#bd3786"
             ],
             [
              0.5555555555555556,
              "#d8576b"
             ],
             [
              0.6666666666666666,
              "#ed7953"
             ],
             [
              0.7777777777777778,
              "#fb9f3a"
             ],
             [
              0.8888888888888888,
              "#fdca26"
             ],
             [
              1,
              "#f0f921"
             ]
            ],
            "type": "heatmapgl"
           }
          ],
          "histogram": [
           {
            "marker": {
             "pattern": {
              "fillmode": "overlay",
              "size": 10,
              "solidity": 0.2
             }
            },
            "type": "histogram"
           }
          ],
          "histogram2d": [
           {
            "colorbar": {
             "outlinewidth": 0,
             "ticks": ""
            },
            "colorscale": [
             [
              0,
              "#0d0887"
             ],
             [
              0.1111111111111111,
              "#46039f"
             ],
             [
              0.2222222222222222,
              "#7201a8"
             ],
             [
              0.3333333333333333,
              "#9c179e"
             ],
             [
              0.4444444444444444,
              "#bd3786"
             ],
             [
              0.5555555555555556,
              "#d8576b"
             ],
             [
              0.6666666666666666,
              "#ed7953"
             ],
             [
              0.7777777777777778,
              "#fb9f3a"
             ],
             [
              0.8888888888888888,
              "#fdca26"
             ],
             [
              1,
              "#f0f921"
             ]
            ],
            "type": "histogram2d"
           }
          ],
          "histogram2dcontour": [
           {
            "colorbar": {
             "outlinewidth": 0,
             "ticks": ""
            },
            "colorscale": [
             [
              0,
              "#0d0887"
             ],
             [
              0.1111111111111111,
              "#46039f"
             ],
             [
              0.2222222222222222,
              "#7201a8"
             ],
             [
              0.3333333333333333,
              "#9c179e"
             ],
             [
              0.4444444444444444,
              "#bd3786"
             ],
             [
              0.5555555555555556,
              "#d8576b"
             ],
             [
              0.6666666666666666,
              "#ed7953"
             ],
             [
              0.7777777777777778,
              "#fb9f3a"
             ],
             [
              0.8888888888888888,
              "#fdca26"
             ],
             [
              1,
              "#f0f921"
             ]
            ],
            "type": "histogram2dcontour"
           }
          ],
          "mesh3d": [
           {
            "colorbar": {
             "outlinewidth": 0,
             "ticks": ""
            },
            "type": "mesh3d"
           }
          ],
          "parcoords": [
           {
            "line": {
             "colorbar": {
              "outlinewidth": 0,
              "ticks": ""
             }
            },
            "type": "parcoords"
           }
          ],
          "pie": [
           {
            "automargin": true,
            "type": "pie"
           }
          ],
          "scatter": [
           {
            "fillpattern": {
             "fillmode": "overlay",
             "size": 10,
             "solidity": 0.2
            },
            "type": "scatter"
           }
          ],
          "scatter3d": [
           {
            "line": {
             "colorbar": {
              "outlinewidth": 0,
              "ticks": ""
             }
            },
            "marker": {
             "colorbar": {
              "outlinewidth": 0,
              "ticks": ""
             }
            },
            "type": "scatter3d"
           }
          ],
          "scattercarpet": [
           {
            "marker": {
             "colorbar": {
              "outlinewidth": 0,
              "ticks": ""
             }
            },
            "type": "scattercarpet"
           }
          ],
          "scattergeo": [
           {
            "marker": {
             "colorbar": {
              "outlinewidth": 0,
              "ticks": ""
             }
            },
            "type": "scattergeo"
           }
          ],
          "scattergl": [
           {
            "marker": {
             "colorbar": {
              "outlinewidth": 0,
              "ticks": ""
             }
            },
            "type": "scattergl"
           }
          ],
          "scattermapbox": [
           {
            "marker": {
             "colorbar": {
              "outlinewidth": 0,
              "ticks": ""
             }
            },
            "type": "scattermapbox"
           }
          ],
          "scatterpolar": [
           {
            "marker": {
             "colorbar": {
              "outlinewidth": 0,
              "ticks": ""
             }
            },
            "type": "scatterpolar"
           }
          ],
          "scatterpolargl": [
           {
            "marker": {
             "colorbar": {
              "outlinewidth": 0,
              "ticks": ""
             }
            },
            "type": "scatterpolargl"
           }
          ],
          "scatterternary": [
           {
            "marker": {
             "colorbar": {
              "outlinewidth": 0,
              "ticks": ""
             }
            },
            "type": "scatterternary"
           }
          ],
          "surface": [
           {
            "colorbar": {
             "outlinewidth": 0,
             "ticks": ""
            },
            "colorscale": [
             [
              0,
              "#0d0887"
             ],
             [
              0.1111111111111111,
              "#46039f"
             ],
             [
              0.2222222222222222,
              "#7201a8"
             ],
             [
              0.3333333333333333,
              "#9c179e"
             ],
             [
              0.4444444444444444,
              "#bd3786"
             ],
             [
              0.5555555555555556,
              "#d8576b"
             ],
             [
              0.6666666666666666,
              "#ed7953"
             ],
             [
              0.7777777777777778,
              "#fb9f3a"
             ],
             [
              0.8888888888888888,
              "#fdca26"
             ],
             [
              1,
              "#f0f921"
             ]
            ],
            "type": "surface"
           }
          ],
          "table": [
           {
            "cells": {
             "fill": {
              "color": "#EBF0F8"
             },
             "line": {
              "color": "white"
             }
            },
            "header": {
             "fill": {
              "color": "#C8D4E3"
             },
             "line": {
              "color": "white"
             }
            },
            "type": "table"
           }
          ]
         },
         "layout": {
          "annotationdefaults": {
           "arrowcolor": "#2a3f5f",
           "arrowhead": 0,
           "arrowwidth": 1
          },
          "autotypenumbers": "strict",
          "coloraxis": {
           "colorbar": {
            "outlinewidth": 0,
            "ticks": ""
           }
          },
          "colorscale": {
           "diverging": [
            [
             0,
             "#8e0152"
            ],
            [
             0.1,
             "#c51b7d"
            ],
            [
             0.2,
             "#de77ae"
            ],
            [
             0.3,
             "#f1b6da"
            ],
            [
             0.4,
             "#fde0ef"
            ],
            [
             0.5,
             "#f7f7f7"
            ],
            [
             0.6,
             "#e6f5d0"
            ],
            [
             0.7,
             "#b8e186"
            ],
            [
             0.8,
             "#7fbc41"
            ],
            [
             0.9,
             "#4d9221"
            ],
            [
             1,
             "#276419"
            ]
           ],
           "sequential": [
            [
             0,
             "#0d0887"
            ],
            [
             0.1111111111111111,
             "#46039f"
            ],
            [
             0.2222222222222222,
             "#7201a8"
            ],
            [
             0.3333333333333333,
             "#9c179e"
            ],
            [
             0.4444444444444444,
             "#bd3786"
            ],
            [
             0.5555555555555556,
             "#d8576b"
            ],
            [
             0.6666666666666666,
             "#ed7953"
            ],
            [
             0.7777777777777778,
             "#fb9f3a"
            ],
            [
             0.8888888888888888,
             "#fdca26"
            ],
            [
             1,
             "#f0f921"
            ]
           ],
           "sequentialminus": [
            [
             0,
             "#0d0887"
            ],
            [
             0.1111111111111111,
             "#46039f"
            ],
            [
             0.2222222222222222,
             "#7201a8"
            ],
            [
             0.3333333333333333,
             "#9c179e"
            ],
            [
             0.4444444444444444,
             "#bd3786"
            ],
            [
             0.5555555555555556,
             "#d8576b"
            ],
            [
             0.6666666666666666,
             "#ed7953"
            ],
            [
             0.7777777777777778,
             "#fb9f3a"
            ],
            [
             0.8888888888888888,
             "#fdca26"
            ],
            [
             1,
             "#f0f921"
            ]
           ]
          },
          "colorway": [
           "#636efa",
           "#EF553B",
           "#00cc96",
           "#ab63fa",
           "#FFA15A",
           "#19d3f3",
           "#FF6692",
           "#B6E880",
           "#FF97FF",
           "#FECB52"
          ],
          "font": {
           "color": "#2a3f5f"
          },
          "geo": {
           "bgcolor": "white",
           "lakecolor": "white",
           "landcolor": "#E5ECF6",
           "showlakes": true,
           "showland": true,
           "subunitcolor": "white"
          },
          "hoverlabel": {
           "align": "left"
          },
          "hovermode": "closest",
          "mapbox": {
           "style": "light"
          },
          "paper_bgcolor": "white",
          "plot_bgcolor": "#E5ECF6",
          "polar": {
           "angularaxis": {
            "gridcolor": "white",
            "linecolor": "white",
            "ticks": ""
           },
           "bgcolor": "#E5ECF6",
           "radialaxis": {
            "gridcolor": "white",
            "linecolor": "white",
            "ticks": ""
           }
          },
          "scene": {
           "xaxis": {
            "backgroundcolor": "#E5ECF6",
            "gridcolor": "white",
            "gridwidth": 2,
            "linecolor": "white",
            "showbackground": true,
            "ticks": "",
            "zerolinecolor": "white"
           },
           "yaxis": {
            "backgroundcolor": "#E5ECF6",
            "gridcolor": "white",
            "gridwidth": 2,
            "linecolor": "white",
            "showbackground": true,
            "ticks": "",
            "zerolinecolor": "white"
           },
           "zaxis": {
            "backgroundcolor": "#E5ECF6",
            "gridcolor": "white",
            "gridwidth": 2,
            "linecolor": "white",
            "showbackground": true,
            "ticks": "",
            "zerolinecolor": "white"
           }
          },
          "shapedefaults": {
           "line": {
            "color": "#2a3f5f"
           }
          },
          "ternary": {
           "aaxis": {
            "gridcolor": "white",
            "linecolor": "white",
            "ticks": ""
           },
           "baxis": {
            "gridcolor": "white",
            "linecolor": "white",
            "ticks": ""
           },
           "bgcolor": "#E5ECF6",
           "caxis": {
            "gridcolor": "white",
            "linecolor": "white",
            "ticks": ""
           }
          },
          "title": {
           "x": 0.05
          },
          "xaxis": {
           "automargin": true,
           "gridcolor": "white",
           "linecolor": "white",
           "ticks": "",
           "title": {
            "standoff": 15
           },
           "zerolinecolor": "white",
           "zerolinewidth": 2
          },
          "yaxis": {
           "automargin": true,
           "gridcolor": "white",
           "linecolor": "white",
           "ticks": "",
           "title": {
            "standoff": 15
           },
           "zerolinecolor": "white",
           "zerolinewidth": 2
          }
         }
        },
        "width": 2000,
        "xaxis": {
         "anchor": "y",
         "domain": [
          0,
          1
         ],
         "title": {
          "text": "features"
         }
        },
        "yaxis": {
         "anchor": "x",
         "domain": [
          0,
          1
         ],
         "title": {
          "text": "missing value count"
         }
        }
       }
      }
     },
     "metadata": {},
     "output_type": "display_data"
    }
   ],
   "source": [
    "get_plot_na(df_perfusion_v1,0)"
   ]
  },
  {
   "cell_type": "markdown",
   "id": "9c5c4fe5",
   "metadata": {},
   "source": [
    "Let's do the same for the perfusion dataset: drop patient with missing value"
   ]
  },
  {
   "cell_type": "code",
   "execution_count": 49,
   "id": "67a31ed3",
   "metadata": {
    "scrolled": false
   },
   "outputs": [],
   "source": [
    "df_perfusion_v1.dropna(inplace=True)\n",
    "df_stroke_v1.set_index(\"patient id\", drop=True, inplace=True)\n",
    "df_perfusion_v1.set_index(\"patient id\", drop=True, inplace=True)"
   ]
  },
  {
   "cell_type": "code",
   "execution_count": 50,
   "id": "a02596bb",
   "metadata": {},
   "outputs": [
    {
     "data": {
      "text/plain": [
       "(56, 42)"
      ]
     },
     "execution_count": 50,
     "metadata": {},
     "output_type": "execute_result"
    }
   ],
   "source": [
    "df_perfusion_v1.shape"
   ]
  },
  {
   "cell_type": "code",
   "execution_count": 51,
   "id": "eeeab3af",
   "metadata": {},
   "outputs": [
    {
     "data": {
      "text/plain": [
       "yes    50\n",
       "no      6\n",
       "Name: diabetes, dtype: int64"
      ]
     },
     "execution_count": 51,
     "metadata": {},
     "output_type": "execute_result"
    }
   ],
   "source": [
    "df_perfusion_v1[\"diabetes\"].value_counts()"
   ]
  },
  {
   "cell_type": "code",
   "execution_count": 52,
   "id": "7388de50",
   "metadata": {},
   "outputs": [],
   "source": [
    "#df_perfusion_v1.to_csv(\"../data_cleaning/clean_data/df_perfusion_v2.csv\", sep=\",\", header=True, index=True)\n",
    "#df_stroke_v1.to_csv(\"../data_cleaning/clean_data/df_stroke_v2.csv\", sep=\",\", header=True, index=True)"
   ]
  }
 ],
 "metadata": {
  "interpreter": {
   "hash": "3ae8a8f1a15cfb38d4db362f184da0eb50c4f2db95fb3d7acf94f547009998f9"
  },
  "kernelspec": {
   "display_name": "ai4medicine",
   "language": "python",
   "name": "python3"
  },
  "language_info": {
   "codemirror_mode": {
    "name": "ipython",
    "version": 3
   },
   "file_extension": ".py",
   "mimetype": "text/x-python",
   "name": "python",
   "nbconvert_exporter": "python",
   "pygments_lexer": "ipython3",
   "version": "3.9.12"
  }
 },
 "nbformat": 4,
 "nbformat_minor": 5
}
